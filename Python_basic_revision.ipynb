{
  "nbformat": 4,
  "nbformat_minor": 0,
  "metadata": {
    "colab": {
      "provenance": [],
      "authorship_tag": "ABX9TyNgFEE7Kbg9hUSxG53mtkN7",
      "include_colab_link": true
    },
    "kernelspec": {
      "name": "python3",
      "display_name": "Python 3"
    },
    "language_info": {
      "name": "python"
    }
  },
  "cells": [
    {
      "cell_type": "markdown",
      "metadata": {
        "id": "view-in-github",
        "colab_type": "text"
      },
      "source": [
        "<a href=\"https://colab.research.google.com/github/om153/Python_practice/blob/main/Python_basic_revision.ipynb\" target=\"_parent\"><img src=\"https://colab.research.google.com/assets/colab-badge.svg\" alt=\"Open In Colab\"/></a>"
      ]
    },
    {
      "cell_type": "code",
      "execution_count": null,
      "metadata": {
        "id": "emYWM_ouvqC0"
      },
      "outputs": [],
      "source": [
        "ten_number = 10"
      ]
    },
    {
      "cell_type": "code",
      "source": [
        "pi=22/11\n",
        "type(pi)"
      ],
      "metadata": {
        "colab": {
          "base_uri": "https://localhost:8080/"
        },
        "id": "Za44bWqCv5Wy",
        "outputId": "c698ed60-972b-431f-bf44-038be5c256f9"
      },
      "execution_count": null,
      "outputs": [
        {
          "output_type": "execute_result",
          "data": {
            "text/plain": [
              "float"
            ]
          },
          "metadata": {},
          "execution_count": 8
        }
      ]
    },
    {
      "cell_type": "code",
      "source": [
        "print(type(pi))"
      ],
      "metadata": {
        "colab": {
          "base_uri": "https://localhost:8080/"
        },
        "id": "wFuRCrflwWWk",
        "outputId": "d7ef3827-fdf8-4bfd-cc28-79a64657d8ff"
      },
      "execution_count": null,
      "outputs": [
        {
          "output_type": "stream",
          "name": "stdout",
          "text": [
            "<class 'float'>\n"
          ]
        }
      ]
    },
    {
      "cell_type": "code",
      "source": [
        "\"om\" + \"ekande\""
      ],
      "metadata": {
        "colab": {
          "base_uri": "https://localhost:8080/",
          "height": 36
        },
        "id": "fTQkjRBFwlq6",
        "outputId": "c6453c2e-5107-4142-8623-687003eb8193"
      },
      "execution_count": null,
      "outputs": [
        {
          "output_type": "execute_result",
          "data": {
            "text/plain": [
              "'omekande'"
            ],
            "application/vnd.google.colaboratory.intrinsic+json": {
              "type": "string"
            }
          },
          "metadata": {},
          "execution_count": 13
        }
      ]
    },
    {
      "cell_type": "code",
      "source": [
        "language1 = \"Python\"\n",
        "print(f\"Welcome to the class of {language1} language\")"
      ],
      "metadata": {
        "colab": {
          "base_uri": "https://localhost:8080/"
        },
        "id": "RqT73VqYzE_3",
        "outputId": "56740d15-5423-466a-aae2-1dff4fd882a3"
      },
      "execution_count": null,
      "outputs": [
        {
          "output_type": "stream",
          "name": "stdout",
          "text": [
            "Welcome to the class of Python language\n"
          ]
        }
      ]
    },
    {
      "cell_type": "code",
      "source": [
        "language = input(\"Enter the class name: \")\n",
        "print(f\"Welcome to the class of {language} language\")"
      ],
      "metadata": {
        "colab": {
          "base_uri": "https://localhost:8080/"
        },
        "id": "8Ga0HXPEwtj6",
        "outputId": "775ae50f-25f8-4953-ac5f-5f69e222c3fc"
      },
      "execution_count": null,
      "outputs": [
        {
          "output_type": "stream",
          "name": "stdout",
          "text": [
            "Enter the class name: Java\n",
            "Welcome to the class of Java language\n"
          ]
        }
      ]
    },
    {
      "cell_type": "code",
      "source": [
        "a,b = 22,34\n",
        "c = a+b\n",
        "print(f\"The sum of two numbers a:{22} and b:{b} = {c}\")"
      ],
      "metadata": {
        "colab": {
          "base_uri": "https://localhost:8080/"
        },
        "id": "56lgcNv3y7eh",
        "outputId": "e1c9ea8c-1cd5-4417-9e02-d4cbb53fe276"
      },
      "execution_count": null,
      "outputs": [
        {
          "output_type": "stream",
          "name": "stdout",
          "text": [
            "The sum of two numbers a:22 and b:34 = 56\n"
          ]
        }
      ]
    },
    {
      "cell_type": "code",
      "source": [
        "a<b"
      ],
      "metadata": {
        "colab": {
          "base_uri": "https://localhost:8080/"
        },
        "id": "6TruvDGo0QtX",
        "outputId": "0198b32b-5bf1-492a-ad35-22f12559791f"
      },
      "execution_count": null,
      "outputs": [
        {
          "output_type": "execute_result",
          "data": {
            "text/plain": [
              "True"
            ]
          },
          "metadata": {},
          "execution_count": 21
        }
      ]
    },
    {
      "cell_type": "markdown",
      "source": [
        "#Case sensitivity"
      ],
      "metadata": {
        "id": "tJO9jyWq05EP"
      }
    },
    {
      "cell_type": "code",
      "source": [
        "TEN=10\n",
        "ten=12\n",
        "print(f\"Value of capital TEN is {TEN} and Value of small ten is {ten}, This is called case sensitivity i.e. python is case sensitive\")"
      ],
      "metadata": {
        "colab": {
          "base_uri": "https://localhost:8080/"
        },
        "id": "dL73oHxY08zo",
        "outputId": "e6fa14e3-44ef-4375-cfdc-8cef2ac6996b"
      },
      "execution_count": null,
      "outputs": [
        {
          "output_type": "stream",
          "name": "stdout",
          "text": [
            "Value of capital TEN is 10 and Value of small ten is 12, This is called case sensitivity i.e. python is case sensitive\n"
          ]
        }
      ]
    },
    {
      "cell_type": "markdown",
      "source": [
        "#Multi assignment"
      ],
      "metadata": {
        "id": "ZJgfelMZ7PFg"
      }
    },
    {
      "cell_type": "code",
      "source": [
        "a,b,c,bombay= 10,20,30,'mumbai'\n",
        "print(f\"Type of a: {type(a)},Type of b:{type(b)},Type of c:{type(c)},Type of bombay:{type(bombay)}\" )"
      ],
      "metadata": {
        "colab": {
          "base_uri": "https://localhost:8080/"
        },
        "id": "jTYxJRJX1DVC",
        "outputId": "fc311004-b324-418f-8b63-11cebbceccca"
      },
      "execution_count": null,
      "outputs": [
        {
          "output_type": "stream",
          "name": "stdout",
          "text": [
            "Type of a: <class 'int'>,Type of b:<class 'int'>,Type of c:<class 'int'>,Type of bombay:<class 'str'>\n"
          ]
        }
      ]
    },
    {
      "cell_type": "code",
      "source": [
        "a,A,b,B = 10,20.2,\"sunny\",True #multi assignment\n",
        "print(a,A,b,B)"
      ],
      "metadata": {
        "colab": {
          "base_uri": "https://localhost:8080/"
        },
        "id": "KTuD3wDd2h3U",
        "outputId": "02264d39-19c2-4419-c5ae-8feed272984c"
      },
      "execution_count": null,
      "outputs": [
        {
          "output_type": "stream",
          "name": "stdout",
          "text": [
            "10 20.2 sunny True\n"
          ]
        }
      ]
    },
    {
      "cell_type": "markdown",
      "source": [
        "#User Input"
      ],
      "metadata": {
        "id": "vlw-5xOa70hW"
      }
    },
    {
      "cell_type": "code",
      "source": [
        "name =input(\"Enter your first name: \")\n",
        "print(f\"Your first name is {name}\")"
      ],
      "metadata": {
        "colab": {
          "base_uri": "https://localhost:8080/"
        },
        "id": "Oto1jhfj7qRg",
        "outputId": "b664be74-5b4c-49f6-9508-9f7526f31903"
      },
      "execution_count": null,
      "outputs": [
        {
          "output_type": "stream",
          "name": "stdout",
          "text": [
            "Enter your first name: Om\n",
            "Your first name is Om\n"
          ]
        }
      ]
    },
    {
      "cell_type": "code",
      "source": [
        "A = input(\"Enter value of A: \")\n",
        "B = input(\"Enter value of B: \")\n",
        "print(f\"Sum of A and B is {A+B}\")"
      ],
      "metadata": {
        "colab": {
          "base_uri": "https://localhost:8080/"
        },
        "id": "nRUpmJtV_ba3",
        "outputId": "171a13b9-7eb0-4a7b-e5f2-b17af1086153"
      },
      "execution_count": null,
      "outputs": [
        {
          "output_type": "stream",
          "name": "stdout",
          "text": [
            "Enter value of A: 2\n",
            "Enter value of B: 34\n",
            "Sum of A and B is 234\n"
          ]
        }
      ]
    },
    {
      "cell_type": "code",
      "source": [
        "A = int(input(\"Enter value of A: \")) #type casting\n",
        "B = int(input(\"Enter value of B: \"))\n",
        "print(f\"Sum of A and B is {A+B}\")"
      ],
      "metadata": {
        "colab": {
          "base_uri": "https://localhost:8080/"
        },
        "id": "3HhDC8u499vB",
        "outputId": "f7ce5a1e-e7f3-424e-ef3e-cbe9da4d3abe"
      },
      "execution_count": null,
      "outputs": [
        {
          "output_type": "stream",
          "name": "stdout",
          "text": [
            "Enter value of A: 2\n",
            "Enter value of B: 34\n",
            "Sum of A and B is 36\n"
          ]
        }
      ]
    },
    {
      "cell_type": "markdown",
      "source": [
        "#Type casting"
      ],
      "metadata": {
        "id": "kQh1j6BBACka"
      }
    },
    {
      "cell_type": "code",
      "source": [
        "A = float(input(\"Enter value of A: \")) #type casting string to float\n",
        "B = float(input(\"Enter value of B: \"))\n",
        "print(f\"Sum of A and B is {A+B}\")"
      ],
      "metadata": {
        "colab": {
          "base_uri": "https://localhost:8080/"
        },
        "id": "FKZCEXRcAFhY",
        "outputId": "fdc1856a-aca6-40a4-e786-de9f4aab0d21"
      },
      "execution_count": null,
      "outputs": [
        {
          "output_type": "stream",
          "name": "stdout",
          "text": [
            "Enter value of A: 2.4\n",
            "Enter value of B: 50.8\n",
            "Sum of A and B is 53.199999999999996\n"
          ]
        }
      ]
    },
    {
      "cell_type": "code",
      "source": [
        "int(\"50\") #string to integer"
      ],
      "metadata": {
        "colab": {
          "base_uri": "https://localhost:8080/"
        },
        "id": "lgKx0ONyA5ha",
        "outputId": "a51ac17c-ff73-4139-e094-f47c079de275"
      },
      "execution_count": null,
      "outputs": [
        {
          "output_type": "execute_result",
          "data": {
            "text/plain": [
              "50"
            ]
          },
          "metadata": {},
          "execution_count": 38
        }
      ]
    },
    {
      "cell_type": "code",
      "source": [
        "A = 23.12\n",
        "print(f\"Type of A before conversion {type(A)}\")\n",
        "A = int(A)\n",
        "print(f\"Type of A after conversion {type(A)}\")"
      ],
      "metadata": {
        "colab": {
          "base_uri": "https://localhost:8080/"
        },
        "id": "meW5adrsBEwK",
        "outputId": "567d0567-15d5-4db4-9bc3-abb7edf6790e"
      },
      "execution_count": null,
      "outputs": [
        {
          "output_type": "stream",
          "name": "stdout",
          "text": [
            "Type of A before conversion <class 'float'>\n",
            "Type of A after conversion <class 'int'>\n"
          ]
        }
      ]
    },
    {
      "cell_type": "markdown",
      "source": [
        "##Multi assignment"
      ],
      "metadata": {
        "id": "t7i8EQGYDH_k"
      }
    },
    {
      "cell_type": "code",
      "source": [
        "first_name,middle_name,last_name = \"Om\",\"Rajendra\",\"Ekande\"\n",
        "print(f\"My full name is {first_name} {middle_name} {last_name}\")"
      ],
      "metadata": {
        "colab": {
          "base_uri": "https://localhost:8080/"
        },
        "id": "-4C_t1PwCQwb",
        "outputId": "cd45d8bb-48ed-4cd6-9546-9ed7f3de2ebc"
      },
      "execution_count": null,
      "outputs": [
        {
          "output_type": "stream",
          "name": "stdout",
          "text": [
            "My full name is Om Rajendra Ekande\n"
          ]
        }
      ]
    },
    {
      "cell_type": "code",
      "source": [
        "first_name = input(\"Enter your First name: \")\n",
        "middle_name = input(\"Enter your middle name: \")\n",
        "last_nmae = input(\"Enter your last name: \")\n",
        "print(f\"My sister's full name is {first_name} {middle_name} {last_name}\")"
      ],
      "metadata": {
        "colab": {
          "base_uri": "https://localhost:8080/"
        },
        "id": "lZTu4KK8J_CZ",
        "outputId": "fdfe9559-a61a-4dd7-8a6e-6b2d388e7f8a"
      },
      "execution_count": null,
      "outputs": [
        {
          "output_type": "stream",
          "name": "stdout",
          "text": [
            "Enter your First name: Prerana\n",
            "Enter your middle name: Rajendra\n",
            "Enter your last name: Ekande\n",
            "My sister's full name is Prerana Rajendra Ekande\n"
          ]
        }
      ]
    },
    {
      "cell_type": "code",
      "source": [
        "name = input(\"Enter your full name: \")\n",
        "place = input(\"Enter your place of birth: \")\n",
        "dob = input(\"Enter your Date of birth in DD/MM/YYYY format: \")\n",
        "print(f\"{name} was born at {place} on {dob}\")\n"
      ],
      "metadata": {
        "id": "G8R__BRlKueK",
        "colab": {
          "base_uri": "https://localhost:8080/"
        },
        "outputId": "4d4735ff-81bc-426c-faef-ca98c473272d"
      },
      "execution_count": null,
      "outputs": [
        {
          "output_type": "stream",
          "name": "stdout",
          "text": [
            "Enter your full name: Om Rajendra Ekande\n",
            "Enter your place of birth: Gargoti\n",
            "Enter your Date of birth in DD/MM/YYYY format: 15/03/2001\n",
            "Om Rajendra Ekande was born at Gargoti on 15/03/2001\n"
          ]
        }
      ]
    },
    {
      "cell_type": "code",
      "source": [
        "name = input(\"Enter your full name: \")\n",
        "place = input(\"Enter your place of birth: \")\n",
        "yob = int(input(\"Enter your Year of birth in YYYY format: \"))\n",
        "age = 2022-yob\n",
        "print(f\"\"\"\n",
        "{name} was born at {place} and Om's age is {age}\"\"\")"
      ],
      "metadata": {
        "colab": {
          "base_uri": "https://localhost:8080/"
        },
        "id": "MB7i43biLj6z",
        "outputId": "a1f49d95-8cbd-47e6-f397-6d2c1f21e53f"
      },
      "execution_count": null,
      "outputs": [
        {
          "output_type": "stream",
          "name": "stdout",
          "text": [
            "Enter your full name: Om R Ekande\n",
            "Enter your place of birth: gargoti\n",
            "Enter your Year of birth in YYYY format: 2001\n",
            "\n",
            "Om R Ekande was born at gargoti and Om's age is 21\n"
          ]
        }
      ]
    },
    {
      "cell_type": "markdown",
      "source": [
        "##Memory blocks\n"
      ],
      "metadata": {
        "id": "566c5SDeVNcf"
      }
    },
    {
      "cell_type": "code",
      "source": [
        "a = 22\n",
        "b = 34\n",
        "c = 22"
      ],
      "metadata": {
        "id": "qOesOgLhVQ1K"
      },
      "execution_count": null,
      "outputs": []
    },
    {
      "cell_type": "code",
      "source": [
        "id(a) #ID of a & c is same"
      ],
      "metadata": {
        "colab": {
          "base_uri": "https://localhost:8080/"
        },
        "id": "rypOSOD3VUmz",
        "outputId": "a6c631af-1ec0-4bfb-e650-367d880fe8c7"
      },
      "execution_count": null,
      "outputs": [
        {
          "output_type": "execute_result",
          "data": {
            "text/plain": [
              "11127360"
            ]
          },
          "metadata": {},
          "execution_count": 7
        }
      ]
    },
    {
      "cell_type": "code",
      "source": [
        "id(b)"
      ],
      "metadata": {
        "colab": {
          "base_uri": "https://localhost:8080/"
        },
        "id": "IhjGxg8eVdxq",
        "outputId": "b89f3bb3-31cc-40b5-e9af-12796dc53b2b"
      },
      "execution_count": null,
      "outputs": [
        {
          "output_type": "execute_result",
          "data": {
            "text/plain": [
              "11127744"
            ]
          },
          "metadata": {},
          "execution_count": 8
        }
      ]
    },
    {
      "cell_type": "code",
      "source": [
        "id(c)"
      ],
      "metadata": {
        "colab": {
          "base_uri": "https://localhost:8080/"
        },
        "id": "f3P9A9kBVgbk",
        "outputId": "767592ab-1f1c-4764-edf9-311eaf22772b"
      },
      "execution_count": null,
      "outputs": [
        {
          "output_type": "execute_result",
          "data": {
            "text/plain": [
              "11127360"
            ]
          },
          "metadata": {},
          "execution_count": 9
        }
      ]
    },
    {
      "cell_type": "code",
      "source": [
        "a = 99  #Memory is assigned to the value of variable passed not the variable name\n",
        "id(a)"
      ],
      "metadata": {
        "colab": {
          "base_uri": "https://localhost:8080/"
        },
        "id": "liPiMK5XVh0z",
        "outputId": "015da5ee-53f9-4358-ebef-99b463a59e05"
      },
      "execution_count": null,
      "outputs": [
        {
          "output_type": "execute_result",
          "data": {
            "text/plain": [
              "11129824"
            ]
          },
          "metadata": {},
          "execution_count": 10
        }
      ]
    },
    {
      "cell_type": "markdown",
      "source": [
        "##Assignment"
      ],
      "metadata": {
        "id": "rDo53capgtkL"
      }
    },
    {
      "cell_type": "markdown",
      "source": [
        "###1.Take input A & B and print their sum,multiplication,division,square of numbers"
      ],
      "metadata": {
        "id": "FlLIaGYiimLY"
      }
    },
    {
      "cell_type": "code",
      "source": [
        "A = int(input(\"Enter the number A: \"))\n",
        "B = int(input(\"Enter the number B: \"))\n",
        "print(f\"Sum of A & B: {A+B},Multiplication of A & B: {A*B},Division of A & B: {A/B},Square of A:{A**2},Square of B: {B**2} \")"
      ],
      "metadata": {
        "colab": {
          "base_uri": "https://localhost:8080/"
        },
        "id": "xdJ135UngtQ8",
        "outputId": "32fb409f-1c5a-4d32-a026-b9b806ab2820"
      },
      "execution_count": null,
      "outputs": [
        {
          "output_type": "stream",
          "name": "stdout",
          "text": [
            "Enter the number A: 25\n",
            "Enter the number B: 5\n",
            "Sum of A & B: 30,Multiplication of A & B: 125,Division of A & B: 5.0,Square of A:625,Square of B: 25 \n"
          ]
        }
      ]
    },
    {
      "cell_type": "markdown",
      "source": [
        "###2.Create email id's with user input, in following format.\n",
        "###lastname.firstname@gmail.com"
      ],
      "metadata": {
        "id": "UFXDYwnEi9Uh"
      }
    },
    {
      "cell_type": "code",
      "source": [
        "firstname = input(\"Enter your first name: \")\n",
        "lastname = input(\"Enter your last name: \")\n",
        "print(f\"Your email id is: {lastname}.{firstname}@gmail.com\")"
      ],
      "metadata": {
        "colab": {
          "base_uri": "https://localhost:8080/"
        },
        "id": "8EN2ZYUJjSk8",
        "outputId": "148fe0c8-299e-4f31-e941-a4bfca1ddadc"
      },
      "execution_count": null,
      "outputs": [
        {
          "output_type": "stream",
          "name": "stdout",
          "text": [
            "Enter your first name: om\n",
            "Enter your last name: ekande\n",
            "Your email id is: ekande.om@gmail.com\n"
          ]
        }
      ]
    },
    {
      "cell_type": "markdown",
      "source": [
        "#Operators\n",
        "###Not,and,or"
      ],
      "metadata": {
        "id": "sJWZ59rpkDwk"
      }
    },
    {
      "cell_type": "code",
      "source": [
        "START = True\n",
        "print(START)"
      ],
      "metadata": {
        "id": "VizvlBVOkFua",
        "colab": {
          "base_uri": "https://localhost:8080/"
        },
        "outputId": "906f65d2-d459-4462-94cd-ed9a5512a4d2"
      },
      "execution_count": null,
      "outputs": [
        {
          "output_type": "stream",
          "name": "stdout",
          "text": [
            "True\n"
          ]
        }
      ]
    },
    {
      "cell_type": "code",
      "source": [
        "print(not START)"
      ],
      "metadata": {
        "colab": {
          "base_uri": "https://localhost:8080/"
        },
        "id": "Cgwm4nWMSYxo",
        "outputId": "bf6f04b1-07e2-4f9a-d08a-7c908f94df4f"
      },
      "execution_count": null,
      "outputs": [
        {
          "output_type": "stream",
          "name": "stdout",
          "text": [
            "False\n"
          ]
        }
      ]
    },
    {
      "cell_type": "markdown",
      "source": [
        "#If-else"
      ],
      "metadata": {
        "id": "qs8WFY8DTksH"
      }
    },
    {
      "cell_type": "code",
      "source": [
        "raining = True\n",
        "if raining: #this is a case of true condition\n",
        "  print(\"since it's raining\")\n",
        "  print(\"Let's do work from home\")\n",
        "else:\n",
        "    print(\"since its not raining\")\n",
        "    print(\"Let's go to office\")"
      ],
      "metadata": {
        "colab": {
          "base_uri": "https://localhost:8080/"
        },
        "id": "zDdXVTBSSrHb",
        "outputId": "57a831b7-ff6f-4d30-942d-66a01b169a16"
      },
      "execution_count": null,
      "outputs": [
        {
          "output_type": "stream",
          "name": "stdout",
          "text": [
            "since it's raining\n",
            "Let's do work from home\n"
          ]
        }
      ]
    },
    {
      "cell_type": "code",
      "source": [
        "raining = False\n",
        "if raining: #this is a case of false condition\n",
        "  print(\"Let's do work from home\")\n",
        "else:\n",
        "    print(\"since its not raining\")\n",
        "    print(\"Let's go to office\")"
      ],
      "metadata": {
        "colab": {
          "base_uri": "https://localhost:8080/"
        },
        "id": "Zy8cpmwwTLPk",
        "outputId": "bdf1b6ba-d1a5-43aa-efe4-6a732a741644"
      },
      "execution_count": null,
      "outputs": [
        {
          "output_type": "stream",
          "name": "stdout",
          "text": [
            "since its not raining\n",
            "Let's go to office\n"
          ]
        }
      ]
    },
    {
      "cell_type": "code",
      "source": [
        "class_started = bool(input(\"Hey charan,is class started? [0-False/1-True]\"))\n",
        "if class_started:\n",
        "  print(\"Since class is started\")\n",
        "  print(\"let's concentrate\")\n",
        "else:\n",
        "  print(\"Since class is not started\")\n",
        "  print(\"Let's revise\")\n",
        ""
      ],
      "metadata": {
        "colab": {
          "base_uri": "https://localhost:8080/"
        },
        "id": "oC5a5B4gTjiz",
        "outputId": "f44c0e3d-23d7-410e-bc80-604a6de1fab1"
      },
      "execution_count": null,
      "outputs": [
        {
          "output_type": "stream",
          "name": "stdout",
          "text": [
            "Hey charan,is class started? [0-False/1-True]1\n",
            "Since class is started\n",
            "let's concentrate\n"
          ]
        }
      ]
    },
    {
      "cell_type": "code",
      "source": [
        "class_started = bool(input(\"Hey charan,is class started? [0-False/1-True]\"))\n",
        "if class_started:\n",
        "  print(\"Since class is started\")\n",
        "  print(\"let's concentrate\")\n",
        "else:\n",
        "  print(\"Since class is not started\")\n",
        "  print(\"Let's revise\")"
      ],
      "metadata": {
        "colab": {
          "base_uri": "https://localhost:8080/"
        },
        "id": "YgdYwIzfVmTC",
        "outputId": "0ffed665-9d1c-4386-896e-178f918ad1cb"
      },
      "execution_count": null,
      "outputs": [
        {
          "output_type": "stream",
          "name": "stdout",
          "text": [
            "Hey charan,is class started? [0-False/1-True]\n",
            "Since class is not started\n",
            "Let's revise\n"
          ]
        }
      ]
    },
    {
      "cell_type": "markdown",
      "source": [
        "##and condition\n",
        "####all the conditions must be true"
      ],
      "metadata": {
        "id": "sWtDtsbGWRe4"
      }
    },
    {
      "cell_type": "markdown",
      "source": [
        "####Use [and] operator when you want all the conditions to be true."
      ],
      "metadata": {
        "id": "tW6BxCxcZzBK"
      }
    },
    {
      "cell_type": "code",
      "source": [
        "vegetable_present = False\n",
        "salt_present = True\n",
        "if vegetable_present and salt_present: #in 'and' operator both/all the condition should be true\n",
        "  print(\"It's a good dish\")\n",
        "else:\n",
        "  print(\"It's a bad dish\")\n",
        "  print(f\"Because salt present {salt_present},but vegetable present {vegetable_present}\")"
      ],
      "metadata": {
        "colab": {
          "base_uri": "https://localhost:8080/"
        },
        "id": "5ay2utVPWT16",
        "outputId": "46581b7f-771b-453d-9116-193a2293552a"
      },
      "execution_count": null,
      "outputs": [
        {
          "output_type": "stream",
          "name": "stdout",
          "text": [
            "It's a bad dish\n",
            "Because salt present True,but vegetable present False\n"
          ]
        }
      ]
    },
    {
      "cell_type": "code",
      "source": [
        "vegetable_present = True\n",
        "salt_present = True\n",
        "if vegetable_present and salt_present: #in 'and' operator both/all the condition should be true\n",
        "  print(\"It's a good dish\")\n",
        "else:\n",
        "  print(\"It's a bad dish\")\n",
        "  print(f\"Because salt present {salt_present}, vegetable present {vegetable_present}\")"
      ],
      "metadata": {
        "colab": {
          "base_uri": "https://localhost:8080/"
        },
        "id": "2htSYuvSXfTq",
        "outputId": "c9a13c38-22f0-40f6-e909-47c0de64e9de"
      },
      "execution_count": null,
      "outputs": [
        {
          "output_type": "stream",
          "name": "stdout",
          "text": [
            "It's a good dish\n"
          ]
        }
      ]
    },
    {
      "cell_type": "code",
      "source": [
        "vegetable_present = False\n",
        "salt_present = False\n",
        "if vegetable_present and salt_present: #in 'and' operator both/all the condition should be true\n",
        "  print(\"It's a good dish\")\n",
        "else:\n",
        "  print(\"It's a bad dish\")\n",
        "  print(f\"Because salt present {salt_present}, vegetable present {vegetable_present}\")"
      ],
      "metadata": {
        "colab": {
          "base_uri": "https://localhost:8080/"
        },
        "id": "gdGQatyvX4pJ",
        "outputId": "7f16cd49-eba0-4cad-80fc-de2e3fc3378d"
      },
      "execution_count": null,
      "outputs": [
        {
          "output_type": "stream",
          "name": "stdout",
          "text": [
            "It's a bad dish\n",
            "Because salt present False, vegetable present False\n"
          ]
        }
      ]
    },
    {
      "cell_type": "markdown",
      "source": [
        "##or operator\n",
        "####Any one condition should be true"
      ],
      "metadata": {
        "id": "LDo4xh97YIji"
      }
    },
    {
      "cell_type": "markdown",
      "source": [
        "####Use [or] operator if anyone of the condition wants to be true"
      ],
      "metadata": {
        "id": "KPGVYpUQZkzY"
      }
    },
    {
      "cell_type": "code",
      "source": [
        "i_have_car = True\n",
        "i_have_bike = False\n",
        "if i_have_bike or i_have_car:\n",
        "  print(\"You can travel 100Kms in a day\")\n",
        "else:\n",
        "  print(\"You cannot travel 100Kms in a day\")\n",
        "  print(\"Because you neither have a bike nor car\")"
      ],
      "metadata": {
        "colab": {
          "base_uri": "https://localhost:8080/"
        },
        "id": "33yAPdYsYL6L",
        "outputId": "3fe547b6-cf19-4710-f7c0-a8108db18584"
      },
      "execution_count": null,
      "outputs": [
        {
          "output_type": "stream",
          "name": "stdout",
          "text": [
            "You can travel 100Kms in a day\n"
          ]
        }
      ]
    },
    {
      "cell_type": "code",
      "source": [
        "i_have_car = False\n",
        "i_have_bike = False\n",
        "if i_have_bike or i_have_car:\n",
        "  print(\"You can travel 100Kms in a day\")\n",
        "else:\n",
        "  print(\"You cannot travel 100Kms in a day\")\n",
        "  print(\"Because you neither have a bike nor car\")"
      ],
      "metadata": {
        "colab": {
          "base_uri": "https://localhost:8080/"
        },
        "id": "rqIyAeMEZR2Z",
        "outputId": "ab781a50-2489-474a-9912-fb270fb1a0d7"
      },
      "execution_count": null,
      "outputs": [
        {
          "output_type": "stream",
          "name": "stdout",
          "text": [
            "You cannot travel 100Kms in a day\n",
            "Because you neither have a bike nor car\n"
          ]
        }
      ]
    },
    {
      "cell_type": "code",
      "source": [
        "i_have_car = False\n",
        "i_have_bike = True\n",
        "if i_have_bike or i_have_car:\n",
        "  print(\"You can travel 100Kms in a day\")\n",
        "else:\n",
        "  print(\"You cannot travel 100Kms in a day\")\n",
        "  print(\"Because you neither have a bike nor car\")"
      ],
      "metadata": {
        "colab": {
          "base_uri": "https://localhost:8080/"
        },
        "id": "qDhX6VY0ZUPU",
        "outputId": "e877cdf7-9471-4b7d-a467-9647f517024f"
      },
      "execution_count": null,
      "outputs": [
        {
          "output_type": "stream",
          "name": "stdout",
          "text": [
            "You can travel 100Kms in a day\n"
          ]
        }
      ]
    },
    {
      "cell_type": "code",
      "source": [
        "attendance = int(input(\"Enter your current aggregate attendance \"))\n",
        "assignment = int(input(\"Enter your gained marks of assignment \"))\n",
        "if attendance >= 75 and assignment >= 70:\n",
        "  print(\"As you have passed the basic criteria\")\n",
        "  print(\"You are eligible for exam\")\n",
        "else:\n",
        "  print(f\"As your attendance is {attendance} & your assignment marks are {assignment}\")\n",
        "  print(\"You are not eligible for exam\")\n"
      ],
      "metadata": {
        "colab": {
          "base_uri": "https://localhost:8080/"
        },
        "id": "TBeO2pfBZa8W",
        "outputId": "fb2fbd8a-c5f9-4504-dd6d-1b208988527e"
      },
      "execution_count": null,
      "outputs": [
        {
          "output_type": "stream",
          "name": "stdout",
          "text": [
            "Enter your current aggregate attendance 82\n",
            "Enter your gained marks of assignment 75\n",
            "As you have passed the basic criteria\n",
            "You are eligible for exam\n"
          ]
        }
      ]
    },
    {
      "cell_type": "code",
      "source": [
        "attendance = int(input(\"Enter your current aggregate attendance \"))\n",
        "assignment = int(input(\"Enter your gained marks of assignment \"))\n",
        "if attendance >= 75 and assignment >= 70:\n",
        "  print(\"As you have passed the basic criteria\")\n",
        "  print(\"You are eligible for exam\")\n",
        "else:\n",
        "  print(f\"As your attendance is {attendance} & your assignment marks are {assignment}\")\n",
        "  print(\"You are not eligible for exam\")"
      ],
      "metadata": {
        "colab": {
          "base_uri": "https://localhost:8080/"
        },
        "id": "xz-UlLafb3me",
        "outputId": "baf0c580-56b4-49a2-895c-b5825385b403"
      },
      "execution_count": null,
      "outputs": [
        {
          "output_type": "stream",
          "name": "stdout",
          "text": [
            "Enter your current aggregate attendance 70\n",
            "Enter your gained marks of assignment 80\n",
            "As your attendance is 70 & your assignment marks are 80\n",
            "You are not eligible for exam\n"
          ]
        }
      ]
    },
    {
      "cell_type": "code",
      "source": [
        "credit_card = bool(input(\"Do you have credit card? [0-False/1-True] \"))\n",
        "debit_card =  bool(input(\"Do you have debit card? [0-False/1-True] \"))\n",
        "net_banking =  bool(input(\"Do you have net banking? [0-False/1-True] \"))\n",
        "\n",
        "if credit_card or debit_card or net_banking:\n",
        "  print(\"Proceed further for payment\")\n",
        "else:\n",
        "  print(\"Ask papa for money\")"
      ],
      "metadata": {
        "colab": {
          "base_uri": "https://localhost:8080/"
        },
        "id": "lcjjPcGecAok",
        "outputId": "b014f5be-a356-4264-cff2-c41623dc1263"
      },
      "execution_count": null,
      "outputs": [
        {
          "output_type": "stream",
          "name": "stdout",
          "text": [
            "Do you have credit card? [0-False/1-True] 1\n",
            "Do you have debit card? [0-False/1-True] 1\n",
            "Do you have net banking? [0-False/1-True] 1\n",
            "Proceed further for payment\n"
          ]
        }
      ]
    },
    {
      "cell_type": "markdown",
      "source": [
        "#Equality operators"
      ],
      "metadata": {
        "id": "AfhvHt8LgRok"
      }
    },
    {
      "cell_type": "markdown",
      "source": [
        "###is"
      ],
      "metadata": {
        "id": "eGXtpMsrgkbn"
      }
    },
    {
      "cell_type": "code",
      "source": [
        "A = 12\n",
        "B = 23\n",
        "if A is B:\n",
        "  print(\"A & B are same\")\n",
        "else:\n",
        "  print(\"A & B are not same\")"
      ],
      "metadata": {
        "colab": {
          "base_uri": "https://localhost:8080/"
        },
        "id": "KX2Nb8D2gV6A",
        "outputId": "7bab8232-b3eb-4df8-c3b1-d75a8ea2f672"
      },
      "execution_count": null,
      "outputs": [
        {
          "output_type": "stream",
          "name": "stdout",
          "text": [
            "A & B are not same\n"
          ]
        }
      ]
    },
    {
      "cell_type": "markdown",
      "source": [
        "####is not"
      ],
      "metadata": {
        "id": "Qs-Occ4lhENV"
      }
    },
    {
      "cell_type": "code",
      "source": [
        "A = 12\n",
        "B = 12\n",
        "if A is not B:\n",
        "  print(\"A & B are not same\")\n",
        "else:\n",
        "  print(\"A & B are same\")"
      ],
      "metadata": {
        "colab": {
          "base_uri": "https://localhost:8080/"
        },
        "id": "fvsOujpIg6K9",
        "outputId": "5b89e485-a1b2-49a2-f933-1d6ba24bf6a0"
      },
      "execution_count": null,
      "outputs": [
        {
          "output_type": "stream",
          "name": "stdout",
          "text": [
            "A & B are same\n"
          ]
        }
      ]
    },
    {
      "cell_type": "markdown",
      "source": [
        "###==\n"
      ],
      "metadata": {
        "id": "UKmW3dPVhUPw"
      }
    },
    {
      "cell_type": "code",
      "source": [
        "A = 12\n",
        "B = 12\n",
        "if A==B:\n",
        "    print(\"A & B are same\")\n",
        "else:\n",
        "  print(\"A & B are not same\")\n"
      ],
      "metadata": {
        "colab": {
          "base_uri": "https://localhost:8080/"
        },
        "id": "mQL9mWyKhLp2",
        "outputId": "41744c88-146f-429a-d07d-3e531874835d"
      },
      "execution_count": null,
      "outputs": [
        {
          "output_type": "stream",
          "name": "stdout",
          "text": [
            "A & B are same\n"
          ]
        }
      ]
    },
    {
      "cell_type": "code",
      "source": [
        "A = 12\n",
        "B = 23\n",
        "if A != B:\n",
        "   print(\"A & B are not same\")\n",
        "else:\n",
        "  print(\"A & B are same\")"
      ],
      "metadata": {
        "colab": {
          "base_uri": "https://localhost:8080/"
        },
        "id": "YOkONz4Xhs4L",
        "outputId": "dd97087b-ef14-47b7-ba34-ebf1bcb4216e"
      },
      "execution_count": null,
      "outputs": [
        {
          "output_type": "stream",
          "name": "stdout",
          "text": [
            "A & B are not same\n"
          ]
        }
      ]
    },
    {
      "cell_type": "markdown",
      "source": [
        "##Comparison operators"
      ],
      "metadata": {
        "id": "faJshmpS0-Ze"
      }
    },
    {
      "cell_type": "markdown",
      "source": [
        "###>,>=,<,<= This are comparison operators."
      ],
      "metadata": {
        "id": "Mj-uqYSM1EFV"
      }
    },
    {
      "cell_type": "code",
      "source": [
        "your_time = float(input(\"Enter time you have taken to cover 100m : \"))\n",
        "world_record = 9.58\n",
        "if your_time <= world_record:\n",
        "  print(f\"Your time is {your_time},Congratulations champ! You own title of world record\")\n",
        "else:\n",
        "  print(f\"Your time is {your_time},try harder\")"
      ],
      "metadata": {
        "id": "5g8BaOl5h7Ne",
        "colab": {
          "base_uri": "https://localhost:8080/"
        },
        "outputId": "0218ed33-4079-40f6-a283-014bb9ecf224"
      },
      "execution_count": null,
      "outputs": [
        {
          "output_type": "stream",
          "name": "stdout",
          "text": [
            "Enter time you have taken to cover 100m : 9.23\n",
            "Your time is 9.23,Congratulations champ! You own title of world record\n"
          ]
        }
      ]
    },
    {
      "cell_type": "code",
      "source": [
        "your_time = float(input(\"Enter time you have taken to cover 100m : \"))\n",
        "world_record = 9.58\n",
        "if your_time <= world_record:\n",
        "  print(f\"Your time is {your_time},Congratulations champ! You own title of world record\")\n",
        "else:\n",
        "  print(f\"Your time is {your_time},try harder\")"
      ],
      "metadata": {
        "colab": {
          "base_uri": "https://localhost:8080/"
        },
        "id": "CW-NWBIccLQv",
        "outputId": "4fb9eff2-44bd-4fd5-9da0-c13444a4711b"
      },
      "execution_count": null,
      "outputs": [
        {
          "output_type": "stream",
          "name": "stdout",
          "text": [
            "Enter time you have taken to cover 100m : 10\n",
            "Your time is 10.0,try harder\n"
          ]
        }
      ]
    },
    {
      "cell_type": "markdown",
      "source": [
        "#string"
      ],
      "metadata": {
        "id": "beSRwoP5aTp6"
      }
    },
    {
      "cell_type": "code",
      "source": [
        "name = \"sunny\""
      ],
      "metadata": {
        "id": "lGnP1Ev_aSzl"
      },
      "execution_count": null,
      "outputs": []
    },
    {
      "cell_type": "code",
      "source": [
        "name[0] #this is string indexing"
      ],
      "metadata": {
        "colab": {
          "base_uri": "https://localhost:8080/",
          "height": 36
        },
        "id": "7GrCDxgvcTtl",
        "outputId": "8c3f5eb4-9457-4b7e-9003-2a4f25224011"
      },
      "execution_count": null,
      "outputs": [
        {
          "output_type": "execute_result",
          "data": {
            "text/plain": [
              "'s'"
            ],
            "application/vnd.google.colaboratory.intrinsic+json": {
              "type": "string"
            }
          },
          "metadata": {},
          "execution_count": 7
        }
      ]
    },
    {
      "cell_type": "code",
      "source": [
        "name[-5]"
      ],
      "metadata": {
        "colab": {
          "base_uri": "https://localhost:8080/",
          "height": 36
        },
        "id": "8UFiYnIucWqw",
        "outputId": "fc669534-4953-4de1-e478-c26d921eaba4"
      },
      "execution_count": null,
      "outputs": [
        {
          "output_type": "execute_result",
          "data": {
            "text/plain": [
              "'s'"
            ],
            "application/vnd.google.colaboratory.intrinsic+json": {
              "type": "string"
            }
          },
          "metadata": {},
          "execution_count": 8
        }
      ]
    },
    {
      "cell_type": "code",
      "source": [
        "name"
      ],
      "metadata": {
        "colab": {
          "base_uri": "https://localhost:8080/",
          "height": 36
        },
        "id": "r5rY3eMVcZmK",
        "outputId": "fff3fa6a-7931-430e-c30a-7c2506e956fe"
      },
      "execution_count": null,
      "outputs": [
        {
          "output_type": "execute_result",
          "data": {
            "text/plain": [
              "'sunny'"
            ],
            "application/vnd.google.colaboratory.intrinsic+json": {
              "type": "string"
            }
          },
          "metadata": {},
          "execution_count": 9
        }
      ]
    },
    {
      "cell_type": "code",
      "source": [
        "name[::-1] #this is used to reverse the string"
      ],
      "metadata": {
        "colab": {
          "base_uri": "https://localhost:8080/",
          "height": 36
        },
        "id": "r2oGIN8DeoAr",
        "outputId": "6dac1142-dbb4-497f-e871-e0dbac446288"
      },
      "execution_count": null,
      "outputs": [
        {
          "output_type": "execute_result",
          "data": {
            "text/plain": [
              "'ynnus'"
            ],
            "application/vnd.google.colaboratory.intrinsic+json": {
              "type": "string"
            }
          },
          "metadata": {},
          "execution_count": 18
        }
      ]
    },
    {
      "cell_type": "code",
      "source": [
        "name[1:] #this is string slicing"
      ],
      "metadata": {
        "colab": {
          "base_uri": "https://localhost:8080/",
          "height": 36
        },
        "id": "qKUJP66FcrmN",
        "outputId": "4457d1cb-4584-49bb-c4a8-4b8675ed98f1"
      },
      "execution_count": null,
      "outputs": [
        {
          "output_type": "execute_result",
          "data": {
            "text/plain": [
              "'unny'"
            ],
            "application/vnd.google.colaboratory.intrinsic+json": {
              "type": "string"
            }
          },
          "metadata": {},
          "execution_count": 10
        }
      ]
    },
    {
      "cell_type": "code",
      "source": [
        "name[0:]"
      ],
      "metadata": {
        "colab": {
          "base_uri": "https://localhost:8080/",
          "height": 36
        },
        "id": "pbpZxNRYcuyu",
        "outputId": "75a82349-a580-4115-8ba0-7037d15eed86"
      },
      "execution_count": null,
      "outputs": [
        {
          "output_type": "execute_result",
          "data": {
            "text/plain": [
              "'sunny'"
            ],
            "application/vnd.google.colaboratory.intrinsic+json": {
              "type": "string"
            }
          },
          "metadata": {},
          "execution_count": 11
        }
      ]
    },
    {
      "cell_type": "code",
      "source": [
        "name[-4:-1]"
      ],
      "metadata": {
        "colab": {
          "base_uri": "https://localhost:8080/",
          "height": 36
        },
        "id": "T0oMT4cOc-50",
        "outputId": "eea9cb38-fef8-485c-9710-c4fa5cdf4b16"
      },
      "execution_count": null,
      "outputs": [
        {
          "output_type": "execute_result",
          "data": {
            "text/plain": [
              "'unn'"
            ],
            "application/vnd.google.colaboratory.intrinsic+json": {
              "type": "string"
            }
          },
          "metadata": {},
          "execution_count": 12
        }
      ]
    },
    {
      "cell_type": "code",
      "source": [
        "date = input(\"Enter today's date in DD/MM/YYYY format: \")\n",
        "today_date = date[0:2]\n",
        "month = date[3:5]\n",
        "year = date[6:]\n",
        "print(f\"It's {today_date} of the month {month} in {year}\")"
      ],
      "metadata": {
        "colab": {
          "base_uri": "https://localhost:8080/"
        },
        "id": "R0_qW61rdDJH",
        "outputId": "a26a002b-ed0f-4e83-93f6-628af038785c"
      },
      "execution_count": null,
      "outputs": [
        {
          "output_type": "stream",
          "name": "stdout",
          "text": [
            "Enter today's date in DD/MM/YYYY format: 07/11/2022\n",
            "It's 07 of the month 11 in 2022\n"
          ]
        }
      ]
    },
    {
      "cell_type": "code",
      "source": [
        "data = input(\"Enter your date of birth in DD/MM/YYYY format: \")\n",
        "date = data[0:2]\n",
        "month = data[3:5]\n",
        "year = data[6:]\n",
        "print(f\"The user was born in {month}rd month in the year {year} on date: {date}\")"
      ],
      "metadata": {
        "colab": {
          "base_uri": "https://localhost:8080/"
        },
        "id": "L5fjcZTEdfHY",
        "outputId": "a4450706-cead-4584-923b-cc62389926fd"
      },
      "execution_count": null,
      "outputs": [
        {
          "output_type": "stream",
          "name": "stdout",
          "text": [
            "Enter your date of birth in DD/MM/YYYY format: 15/03/2001\n",
            "The user was born in 03rd month in the year 2001 on date: 15\n"
          ]
        }
      ]
    },
    {
      "cell_type": "code",
      "source": [
        "data = input(\"Input a string: \")\n",
        "reverse = data[::-1]\n",
        "if data==reverse:\n",
        "  print(f\"Input string {data} is palindrome\")\n",
        "else:\n",
        "  print(f\"Input string {data} is not palindrome\")"
      ],
      "metadata": {
        "colab": {
          "base_uri": "https://localhost:8080/"
        },
        "id": "yvLY8Ij6f4nQ",
        "outputId": "3fda1848-2dc3-49ca-f965-f21dd2478324"
      },
      "execution_count": null,
      "outputs": [
        {
          "output_type": "stream",
          "name": "stdout",
          "text": [
            "Input a string: radar\n",
            "Input string radar is palindrome\n"
          ]
        }
      ]
    },
    {
      "cell_type": "code",
      "source": [
        "data = input(\"Input a string: \") #case sensitivity\n",
        "reverse = data[::-1]\n",
        "if data==reverse:\n",
        "  print(f\"Input string {data} is palindrome\")\n",
        "else:\n",
        "  print(f\"Input string {data} is not palindrome\")"
      ],
      "metadata": {
        "colab": {
          "base_uri": "https://localhost:8080/"
        },
        "id": "D31bpJ-lhWZD",
        "outputId": "fb3b8c18-cb94-450f-b78a-12436216387d"
      },
      "execution_count": null,
      "outputs": [
        {
          "output_type": "stream",
          "name": "stdout",
          "text": [
            "Input a string: Radar\n",
            "Input string Radar is not palindrome\n"
          ]
        }
      ]
    },
    {
      "cell_type": "markdown",
      "source": [
        "##mutability"
      ],
      "metadata": {
        "id": "-KBr5T7PiEzC"
      }
    },
    {
      "cell_type": "code",
      "source": [
        "name = \"sunny\""
      ],
      "metadata": {
        "id": "gWkRPAFqhbCg"
      },
      "execution_count": null,
      "outputs": []
    },
    {
      "cell_type": "code",
      "source": [
        "\"f\"+name[1:]"
      ],
      "metadata": {
        "colab": {
          "base_uri": "https://localhost:8080/",
          "height": 36
        },
        "id": "L9DfTlhXiBRO",
        "outputId": "37a21117-956e-4de2-83cc-8f10ec60dc7f"
      },
      "execution_count": null,
      "outputs": [
        {
          "output_type": "execute_result",
          "data": {
            "text/plain": [
              "'funny'"
            ],
            "application/vnd.google.colaboratory.intrinsic+json": {
              "type": "string"
            }
          },
          "metadata": {},
          "execution_count": 25
        }
      ]
    },
    {
      "cell_type": "code",
      "source": [
        "name.replace(\"y\",\"yyy\")"
      ],
      "metadata": {
        "colab": {
          "base_uri": "https://localhost:8080/",
          "height": 36
        },
        "id": "sxXsVuyhjFi8",
        "outputId": "2f297b87-452a-4a30-dd07-194b61480f5c"
      },
      "execution_count": null,
      "outputs": [
        {
          "output_type": "execute_result",
          "data": {
            "text/plain": [
              "'sunnyyy'"
            ],
            "application/vnd.google.colaboratory.intrinsic+json": {
              "type": "string"
            }
          },
          "metadata": {},
          "execution_count": 29
        }
      ]
    },
    {
      "cell_type": "code",
      "source": [
        "name #original value not changed"
      ],
      "metadata": {
        "colab": {
          "base_uri": "https://localhost:8080/",
          "height": 36
        },
        "id": "zxgDpJ8ejSYm",
        "outputId": "48eee2fb-047e-45cd-ee53-c9240f11d3f7"
      },
      "execution_count": null,
      "outputs": [
        {
          "output_type": "execute_result",
          "data": {
            "text/plain": [
              "'sunny'"
            ],
            "application/vnd.google.colaboratory.intrinsic+json": {
              "type": "string"
            }
          },
          "metadata": {},
          "execution_count": 30
        }
      ]
    },
    {
      "cell_type": "code",
      "source": [
        "name = name.replace(\"y\",\"yyy\")"
      ],
      "metadata": {
        "id": "wHIptJEBjcI-"
      },
      "execution_count": null,
      "outputs": []
    },
    {
      "cell_type": "code",
      "source": [
        "name"
      ],
      "metadata": {
        "colab": {
          "base_uri": "https://localhost:8080/",
          "height": 36
        },
        "id": "xKSdX3uSjVZX",
        "outputId": "47fda1bf-f207-4722-a88d-1ce46bec69dd"
      },
      "execution_count": null,
      "outputs": [
        {
          "output_type": "execute_result",
          "data": {
            "text/plain": [
              "'sunnyyy'"
            ],
            "application/vnd.google.colaboratory.intrinsic+json": {
              "type": "string"
            }
          },
          "metadata": {},
          "execution_count": 32
        }
      ]
    },
    {
      "cell_type": "markdown",
      "source": [
        "##String operations"
      ],
      "metadata": {
        "id": "ykWm-bxenUW5"
      }
    },
    {
      "cell_type": "code",
      "source": [
        "name = \"Sunny Bhaveen Chandra\"\n",
        "name.replace(\"n\",\"N\") #replace function"
      ],
      "metadata": {
        "colab": {
          "base_uri": "https://localhost:8080/",
          "height": 36
        },
        "id": "AZ4we3Puj2yr",
        "outputId": "98bab57d-045b-4b81-99aa-ebb7e10032f7"
      },
      "execution_count": null,
      "outputs": [
        {
          "output_type": "execute_result",
          "data": {
            "text/plain": [
              "'SuNNy BhaveeN ChaNdra'"
            ],
            "application/vnd.google.colaboratory.intrinsic+json": {
              "type": "string"
            }
          },
          "metadata": {},
          "execution_count": 33
        }
      ]
    },
    {
      "cell_type": "code",
      "source": [
        "name = \"Sunny Bhaveen Chandra\"\n",
        "name.replace(\" \",\"|\")"
      ],
      "metadata": {
        "colab": {
          "base_uri": "https://localhost:8080/",
          "height": 36
        },
        "id": "JjQ27pzior7O",
        "outputId": "a0feb1c9-2f6f-47d5-d722-3db50b38d4ae"
      },
      "execution_count": null,
      "outputs": [
        {
          "output_type": "execute_result",
          "data": {
            "text/plain": [
              "'Sunny|Bhaveen|Chandra'"
            ],
            "application/vnd.google.colaboratory.intrinsic+json": {
              "type": "string"
            }
          },
          "metadata": {},
          "execution_count": 49
        }
      ]
    },
    {
      "cell_type": "code",
      "source": [
        "len(name) #length of the string"
      ],
      "metadata": {
        "colab": {
          "base_uri": "https://localhost:8080/"
        },
        "id": "yaPwx02qkHw2",
        "outputId": "6c0cece6-a8ed-4a5e-d1f5-9db2cc5f2389"
      },
      "execution_count": null,
      "outputs": [
        {
          "output_type": "execute_result",
          "data": {
            "text/plain": [
              "21"
            ]
          },
          "metadata": {},
          "execution_count": 34
        }
      ]
    },
    {
      "cell_type": "code",
      "source": [
        "len(\"Sunny\")"
      ],
      "metadata": {
        "colab": {
          "base_uri": "https://localhost:8080/"
        },
        "id": "fBrotY28kP7C",
        "outputId": "bba21905-c87e-4a17-ca68-b0871ab84265"
      },
      "execution_count": null,
      "outputs": [
        {
          "output_type": "execute_result",
          "data": {
            "text/plain": [
              "5"
            ]
          },
          "metadata": {},
          "execution_count": 35
        }
      ]
    },
    {
      "cell_type": "code",
      "source": [
        "name.count(\"n\") #count specific character in string"
      ],
      "metadata": {
        "colab": {
          "base_uri": "https://localhost:8080/"
        },
        "id": "2_JFrYBlkUfd",
        "outputId": "9526d937-da7d-4764-d4be-1b27fca64375"
      },
      "execution_count": null,
      "outputs": [
        {
          "output_type": "execute_result",
          "data": {
            "text/plain": [
              "4"
            ]
          },
          "metadata": {},
          "execution_count": 36
        }
      ]
    },
    {
      "cell_type": "code",
      "source": [
        "name = \"Sunny Bhaveen Chandra\"\n",
        "name.split(\" \") #split operation"
      ],
      "metadata": {
        "colab": {
          "base_uri": "https://localhost:8080/"
        },
        "id": "Qj7Cc1dukja5",
        "outputId": "2926da4a-1036-49fd-8d14-995fee88f095"
      },
      "execution_count": null,
      "outputs": [
        {
          "output_type": "execute_result",
          "data": {
            "text/plain": [
              "['Sunny', 'Bhaveen', 'Chandra']"
            ]
          },
          "metadata": {},
          "execution_count": 38
        }
      ]
    },
    {
      "cell_type": "code",
      "source": [
        "name.split(\"n\")"
      ],
      "metadata": {
        "colab": {
          "base_uri": "https://localhost:8080/"
        },
        "id": "MbiqJdiLlmeP",
        "outputId": "29e3af32-728d-44b3-e403-9606c5e31bec"
      },
      "execution_count": null,
      "outputs": [
        {
          "output_type": "execute_result",
          "data": {
            "text/plain": [
              "['Su', '', 'y Bhavee', ' Cha', 'dra']"
            ]
          },
          "metadata": {},
          "execution_count": 39
        }
      ]
    },
    {
      "cell_type": "code",
      "source": [
        "name.lower() #all small letters"
      ],
      "metadata": {
        "colab": {
          "base_uri": "https://localhost:8080/",
          "height": 36
        },
        "id": "jxRQcq0nlvC0",
        "outputId": "a06e15fe-bcc3-4a2f-9907-b6d97680c391"
      },
      "execution_count": null,
      "outputs": [
        {
          "output_type": "execute_result",
          "data": {
            "text/plain": [
              "'sunny bhaveen chandra'"
            ],
            "application/vnd.google.colaboratory.intrinsic+json": {
              "type": "string"
            }
          },
          "metadata": {},
          "execution_count": 40
        }
      ]
    },
    {
      "cell_type": "code",
      "source": [
        "name.upper() #all capital letters"
      ],
      "metadata": {
        "colab": {
          "base_uri": "https://localhost:8080/",
          "height": 36
        },
        "id": "sr-cLhrhl6HO",
        "outputId": "723a5534-fa69-45ba-d01b-51fbfa5fdc2f"
      },
      "execution_count": null,
      "outputs": [
        {
          "output_type": "execute_result",
          "data": {
            "text/plain": [
              "'SUNNY BHAVEEN CHANDRA'"
            ],
            "application/vnd.google.colaboratory.intrinsic+json": {
              "type": "string"
            }
          },
          "metadata": {},
          "execution_count": 41
        }
      ]
    },
    {
      "cell_type": "code",
      "source": [
        "name.capitalize() #first letter of string changes to capital letter"
      ],
      "metadata": {
        "colab": {
          "base_uri": "https://localhost:8080/",
          "height": 36
        },
        "id": "i7mGk9ail8wK",
        "outputId": "71df7050-b0c9-4d18-e206-91b1130f68f3"
      },
      "execution_count": null,
      "outputs": [
        {
          "output_type": "execute_result",
          "data": {
            "text/plain": [
              "'Sunny bhaveen chandra'"
            ],
            "application/vnd.google.colaboratory.intrinsic+json": {
              "type": "string"
            }
          },
          "metadata": {},
          "execution_count": 42
        }
      ]
    },
    {
      "cell_type": "code",
      "source": [
        "name.title() #every word's first letter changes to capital letter"
      ],
      "metadata": {
        "colab": {
          "base_uri": "https://localhost:8080/",
          "height": 36
        },
        "id": "piRL9-6fmWP9",
        "outputId": "f8f4c68e-2c95-438a-c47c-5ff3990cd7bb"
      },
      "execution_count": null,
      "outputs": [
        {
          "output_type": "execute_result",
          "data": {
            "text/plain": [
              "'Sunny Bhaveen Chandra'"
            ],
            "application/vnd.google.colaboratory.intrinsic+json": {
              "type": "string"
            }
          },
          "metadata": {},
          "execution_count": 44
        }
      ]
    },
    {
      "cell_type": "code",
      "source": [
        "name.swapcase() #changes opposite to input"
      ],
      "metadata": {
        "colab": {
          "base_uri": "https://localhost:8080/",
          "height": 36
        },
        "id": "a2OWeJCjmhSA",
        "outputId": "784f78f5-a014-4d54-cd5c-c461904e2d2e"
      },
      "execution_count": null,
      "outputs": [
        {
          "output_type": "execute_result",
          "data": {
            "text/plain": [
              "'sUNNY bHAVEEN cHANDRA'"
            ],
            "application/vnd.google.colaboratory.intrinsic+json": {
              "type": "string"
            }
          },
          "metadata": {},
          "execution_count": 45
        }
      ]
    },
    {
      "cell_type": "code",
      "source": [
        "name = input(\"Enter your full name: \")\n",
        "print(f\"Your name in capital letters is: {name.upper()}\")\n",
        "print(f\"Your name in small letters is: {name.lower()}\")\n",
        "print(f\"Your name in title format is: {name.title()}\")\n"
      ],
      "metadata": {
        "colab": {
          "base_uri": "https://localhost:8080/"
        },
        "id": "QLOG9Blmmy3n",
        "outputId": "be37e280-764d-40be-cdd3-9b11fb8577d7"
      },
      "execution_count": null,
      "outputs": [
        {
          "output_type": "stream",
          "name": "stdout",
          "text": [
            "Enter your full name: oM rajeNdra ekandE\n",
            "Your name in capital letters is: OM RAJENDRA EKANDE\n",
            "Your name in small letters is: om rajendra ekande\n",
            "Your name in title format is: Om Rajendra Ekande\n"
          ]
        }
      ]
    },
    {
      "cell_type": "code",
      "source": [
        "phone_number = input(\"Enter your mobile number: \")\n",
        "phone_number.isdigit()"
      ],
      "metadata": {
        "colab": {
          "base_uri": "https://localhost:8080/"
        },
        "id": "vA7kyDC-pAG8",
        "outputId": "75b7dee5-706d-43ad-f250-017de313e4c3"
      },
      "execution_count": null,
      "outputs": [
        {
          "name": "stdout",
          "output_type": "stream",
          "text": [
            "Enter your mobile number: 942058206\n"
          ]
        },
        {
          "output_type": "execute_result",
          "data": {
            "text/plain": [
              "True"
            ]
          },
          "metadata": {},
          "execution_count": 50
        }
      ]
    },
    {
      "cell_type": "code",
      "source": [
        "phone_number = input(\"Enter your mobile number: \")\n",
        "phone_number.startswith(\"94\")"
      ],
      "metadata": {
        "colab": {
          "base_uri": "https://localhost:8080/"
        },
        "id": "Phf6ceAYparl",
        "outputId": "e8a808c6-892b-4110-f87f-e982781afe3c"
      },
      "execution_count": null,
      "outputs": [
        {
          "name": "stdout",
          "output_type": "stream",
          "text": [
            "Enter your mobile number: 942058206\n"
          ]
        },
        {
          "output_type": "execute_result",
          "data": {
            "text/plain": [
              "True"
            ]
          },
          "metadata": {},
          "execution_count": 52
        }
      ]
    },
    {
      "cell_type": "code",
      "source": [
        "pan_number = \"AEWXX2324M\"\n",
        "pan_number.isalnum() #check for alpha numeric value"
      ],
      "metadata": {
        "colab": {
          "base_uri": "https://localhost:8080/"
        },
        "id": "F5CF5vHOpl79",
        "outputId": "2451bba3-85fe-45a9-8b5e-0aa8bd1ae83c"
      },
      "execution_count": null,
      "outputs": [
        {
          "output_type": "execute_result",
          "data": {
            "text/plain": [
              "True"
            ]
          },
          "metadata": {},
          "execution_count": 3
        }
      ]
    },
    {
      "cell_type": "markdown",
      "source": [
        "If total cart value is more than 999Rs. discount is 30%,if cart value is more than 499Rs. but less than 999Rs. discount is 20%,else pay the total cart amount."
      ],
      "metadata": {
        "id": "w0bQtRQr1DhH"
      }
    },
    {
      "cell_type": "code",
      "source": [
        "total_amount = int(input(\"Enter total amount of items you purchased \"))\n",
        "if total_amount>=999:\n",
        "  price_after_discount = total_amount*0.7\n",
        "  print(f\"Pay amount: {price_after_discount}\")\n",
        "elif 499<total_amount<999:\n",
        "   price_after_discount = total_amount*0.8\n",
        "   print(f\"Pay amount: {price_after_discount}\")\n",
        "else:\n",
        "  print(f\"Pay amount: {total_amount}\")"
      ],
      "metadata": {
        "colab": {
          "base_uri": "https://localhost:8080/"
        },
        "id": "D-efAlkZxzfx",
        "outputId": "0c4e0785-9ba6-488c-e309-02c0503713e4"
      },
      "execution_count": null,
      "outputs": [
        {
          "output_type": "stream",
          "name": "stdout",
          "text": [
            "Enter total amount of items you purchased 500\n",
            "Pay amount: 400.0\n"
          ]
        }
      ]
    },
    {
      "cell_type": "markdown",
      "source": [
        "##Nested if else"
      ],
      "metadata": {
        "id": "TlMBFI_w1t5K"
      }
    },
    {
      "cell_type": "code",
      "source": [
        "val = float(input(\"Enter a number \"))\n",
        "if val >=0:\n",
        "  if val ==0:\n",
        "    print(\"It's a zero\")\n",
        "  else:\n",
        "    print(\"It's a positive number\")\n",
        "else:\n",
        "  print(\"It's a negative number\")"
      ],
      "metadata": {
        "colab": {
          "base_uri": "https://localhost:8080/"
        },
        "id": "4VeBk4wzzkQT",
        "outputId": "7efc306f-06ec-4652-cfe2-5f8b6b23ca58"
      },
      "execution_count": null,
      "outputs": [
        {
          "output_type": "stream",
          "name": "stdout",
          "text": [
            "Enter a number -1\n",
            "It's a negative number\n"
          ]
        }
      ]
    },
    {
      "cell_type": "code",
      "source": [
        "val = float(input(\"Enter a number \"))\n",
        "if val >=0:\n",
        "  if val ==0:\n",
        "    print(\"It's a zero\")\n",
        "  else:\n",
        "    print(\"It's a positive number\")\n",
        "else:\n",
        "  print(\"It's a negative number\")"
      ],
      "metadata": {
        "colab": {
          "base_uri": "https://localhost:8080/"
        },
        "id": "hWKU-AYa2rvO",
        "outputId": "c7a3bca9-6824-4a71-999b-3fce3a652174"
      },
      "execution_count": null,
      "outputs": [
        {
          "output_type": "stream",
          "name": "stdout",
          "text": [
            "Enter a number 1\n",
            "It's a positive number\n"
          ]
        }
      ]
    },
    {
      "cell_type": "code",
      "source": [
        "val = float(input(\"Enter a number \"))\n",
        "if val >=0:\n",
        "  if val ==0:\n",
        "    print(\"It's a zero\")\n",
        "  else:\n",
        "    print(\"It's a positive number\")\n",
        "else:\n",
        "  print(\"It's a negative number\")"
      ],
      "metadata": {
        "colab": {
          "base_uri": "https://localhost:8080/"
        },
        "id": "NdJhvlfu2zWm",
        "outputId": "3a49ad64-5bd2-4db5-dc61-5a50f7d9d85a"
      },
      "execution_count": null,
      "outputs": [
        {
          "output_type": "stream",
          "name": "stdout",
          "text": [
            "Enter a number 0\n",
            "It's a zero\n"
          ]
        }
      ]
    },
    {
      "cell_type": "markdown",
      "source": [
        "##single line if else\n"
      ],
      "metadata": {
        "id": "huwi1qFT2817"
      }
    },
    {
      "cell_type": "code",
      "source": [
        "val = float(input(\"Enter a number \"))\n",
        "if val>100: print(\"Yes\")\n",
        "else: print(\"No\")"
      ],
      "metadata": {
        "colab": {
          "base_uri": "https://localhost:8080/"
        },
        "id": "jxTZIWuA23C1",
        "outputId": "176efbd3-f6bb-4ac4-acba-922d1922ab87"
      },
      "execution_count": null,
      "outputs": [
        {
          "output_type": "stream",
          "name": "stdout",
          "text": [
            "Enter a number 112\n",
            "Yes\n"
          ]
        }
      ]
    },
    {
      "cell_type": "markdown",
      "source": [
        "#Loops"
      ],
      "metadata": {
        "id": "nie6-0VX33xm"
      }
    },
    {
      "cell_type": "markdown",
      "source": [
        "##While loop"
      ],
      "metadata": {
        "id": "p-brdfVM4KfO"
      }
    },
    {
      "cell_type": "markdown",
      "source": [
        "In while loop, number of iterations is not known."
      ],
      "metadata": {
        "id": "2pZL3wRITTTQ"
      }
    },
    {
      "cell_type": "markdown",
      "source": [
        "In while loop, in case of no condition, an error will be shown."
      ],
      "metadata": {
        "id": "bhy8jQmTTeWt"
      }
    },
    {
      "cell_type": "code",
      "source": [
        "total_marks = 1000\n",
        "cutoff = 600\n",
        "scores = [100,300,240,470,580,780] #number of iterations is not known,it will keep executing until string ends.\n",
        "year = 0 #indexing in python starts with 0\n",
        "while scores[year]<cutoff:\n",
        "  print(f\"Your score is: {scores[year]}, cutoff is: {cutoff}, comeback harder...\")\n",
        "  year = year+1"
      ],
      "metadata": {
        "colab": {
          "base_uri": "https://localhost:8080/"
        },
        "id": "WiCYr_IU3W2T",
        "outputId": "724215ed-3ea2-4193-9aa8-77a82685dad7"
      },
      "execution_count": null,
      "outputs": [
        {
          "output_type": "stream",
          "name": "stdout",
          "text": [
            "Your score is: 100, cutoff is: 600, comeback harder...\n",
            "Your score is: 300, cutoff is: 600, comeback harder...\n",
            "Your score is: 240, cutoff is: 600, comeback harder...\n",
            "Your score is: 470, cutoff is: 600, comeback harder...\n",
            "Your score is: 580, cutoff is: 600, comeback harder...\n"
          ]
        }
      ]
    },
    {
      "cell_type": "markdown",
      "source": [
        "###Train journey"
      ],
      "metadata": {
        "id": "7TLtipEd5heg"
      }
    },
    {
      "cell_type": "code",
      "source": [
        "stations = [\"station01\",\"station02\",\"station03\",\"station04\"] #string\n",
        "current_station = 0 #indexing\n",
        "destination_station = \"station04\" #till this point\n",
        "while stations[current_station]!=destination_station: #condition\n",
        "  print(f\"This is {stations[current_station]}, our destination is {destination_station}\")\n",
        "  print(f\"Continue the journey we haven't reached {destination_station}\")\n",
        "  current_station = current_station+1"
      ],
      "metadata": {
        "colab": {
          "base_uri": "https://localhost:8080/"
        },
        "id": "23unR4434R2V",
        "outputId": "7422c88b-a5bc-41a2-c5c7-6ec55c5b5a7e"
      },
      "execution_count": null,
      "outputs": [
        {
          "output_type": "stream",
          "name": "stdout",
          "text": [
            "This is station01, our destination is station04\n",
            "Continue the journey we haven't reached station04\n",
            "This is station02, our destination is station04\n",
            "Continue the journey we haven't reached station04\n",
            "This is station03, our destination is station04\n",
            "Continue the journey we haven't reached station04\n"
          ]
        }
      ]
    },
    {
      "cell_type": "markdown",
      "source": [
        "##While else"
      ],
      "metadata": {
        "id": "tWz5-sAD74hl"
      }
    },
    {
      "cell_type": "code",
      "source": [
        "stations = [\"station01\",\"station02\",\"station03\",\"station04\"] #string\n",
        "current_station = 0 #indexing\n",
        "destination_station = \"station04\" #till this point\n",
        "while stations[current_station]!=destination_station: #condition\n",
        "  print(f\"This is {stations[current_station]}, our destination is {destination_station}\")\n",
        "  print(f\"Continue the journey we haven't reached {destination_station}\")\n",
        "  current_station = current_station+1\n",
        "else:\n",
        "  print(f\"Our destination {destination_station} is arriving next \")"
      ],
      "metadata": {
        "colab": {
          "base_uri": "https://localhost:8080/"
        },
        "id": "DYHsSNjm60xr",
        "outputId": "f1ab69f3-f59b-46d8-800e-9498df0f2824"
      },
      "execution_count": null,
      "outputs": [
        {
          "output_type": "stream",
          "name": "stdout",
          "text": [
            "This is station01, our destination is station04\n",
            "Continue the journey we haven't reached station04\n",
            "This is station02, our destination is station04\n",
            "Continue the journey we haven't reached station04\n",
            "This is station03, our destination is station04\n",
            "Continue the journey we haven't reached station04\n",
            "Our destination station04 is arriving next \n"
          ]
        }
      ]
    },
    {
      "cell_type": "markdown",
      "source": [
        "####Child is learning to count 10 rupees notes"
      ],
      "metadata": {
        "id": "9DMk2drp8mDW"
      }
    },
    {
      "cell_type": "code",
      "source": [
        "notes = 5\n",
        "i = 1\n",
        "while i<=notes:\n",
        "  print(f\"current sum: {i*10}\")\n",
        "  i = i+1\n",
        "else:\n",
        "  print(\"No more 10 rupees notes left\")"
      ],
      "metadata": {
        "colab": {
          "base_uri": "https://localhost:8080/"
        },
        "id": "GI1XFq-08QDy",
        "outputId": "927a5958-7b31-4c93-9a76-a755e0e760c0"
      },
      "execution_count": null,
      "outputs": [
        {
          "output_type": "stream",
          "name": "stdout",
          "text": [
            "current sum: 10\n",
            "current sum: 20\n",
            "current sum: 30\n",
            "current sum: 40\n",
            "current sum: 50\n",
            "No more 10 rupees notes left\n"
          ]
        }
      ]
    },
    {
      "cell_type": "markdown",
      "source": [
        "#for loop"
      ],
      "metadata": {
        "id": "VE4xbNoJ9YoI"
      }
    },
    {
      "cell_type": "markdown",
      "source": [
        "In for loop, number of iteration is known.\n"
      ],
      "metadata": {
        "id": "r0vdhEn6STWT"
      }
    },
    {
      "cell_type": "markdown",
      "source": [
        "In for loop, in case of no condition loop is repeated infinite times."
      ],
      "metadata": {
        "id": "Bw9rNon_TGD4"
      }
    },
    {
      "cell_type": "code",
      "source": [
        "for i in range(0,11): #here,number of iterations is known i.e. (0,11)\n",
        "  print(i)"
      ],
      "metadata": {
        "id": "UC5uPmw-9Rcf",
        "colab": {
          "base_uri": "https://localhost:8080/"
        },
        "outputId": "3b66ee9b-91ad-47b4-f998-3907fbd5d0a6"
      },
      "execution_count": null,
      "outputs": [
        {
          "output_type": "stream",
          "name": "stdout",
          "text": [
            "0\n",
            "1\n",
            "2\n",
            "3\n",
            "4\n",
            "5\n",
            "6\n",
            "7\n",
            "8\n",
            "9\n",
            "10\n"
          ]
        }
      ]
    },
    {
      "cell_type": "code",
      "source": [
        "for i in range(0,11):\n",
        "  print(f\"10 x {i} = {10*i}\")"
      ],
      "metadata": {
        "colab": {
          "base_uri": "https://localhost:8080/"
        },
        "id": "nyhgPOOwRmfS",
        "outputId": "bcee54a6-c673-42b7-a5db-0e7c2c102882"
      },
      "execution_count": null,
      "outputs": [
        {
          "output_type": "stream",
          "name": "stdout",
          "text": [
            "10 x 0 = 0\n",
            "10 x 1 = 10\n",
            "10 x 2 = 20\n",
            "10 x 3 = 30\n",
            "10 x 4 = 40\n",
            "10 x 5 = 50\n",
            "10 x 6 = 60\n",
            "10 x 7 = 70\n",
            "10 x 8 = 80\n",
            "10 x 9 = 90\n",
            "10 x 10 = 100\n"
          ]
        }
      ]
    },
    {
      "cell_type": "markdown",
      "source": [
        "#List"
      ],
      "metadata": {
        "id": "V6kCR6yUUI-J"
      }
    },
    {
      "cell_type": "code",
      "source": [
        "A = [1,2,3,5.0,\"sunny\",(1+2j),True]\n",
        "print(A)"
      ],
      "metadata": {
        "colab": {
          "base_uri": "https://localhost:8080/"
        },
        "id": "lhi1zB0yUMoM",
        "outputId": "7d131ebd-2b1a-4cac-f4c5-6a495d71a258"
      },
      "execution_count": null,
      "outputs": [
        {
          "output_type": "stream",
          "name": "stdout",
          "text": [
            "[1, 2, 3, 5.0, 'sunny', (1+2j), True]\n"
          ]
        }
      ]
    },
    {
      "cell_type": "markdown",
      "source": [
        "####What is difference between list of python & array of C or C++ ?"
      ],
      "metadata": {
        "id": "2rvpt4g-VOhc"
      }
    },
    {
      "cell_type": "markdown",
      "source": [
        "In Array, we can have elements of one data type only, i.e. int,str,float,complex etc. but in python list,all elements can be same or of different datatype."
      ],
      "metadata": {
        "id": "Jt-TXLOHVdwJ"
      }
    },
    {
      "cell_type": "code",
      "source": [
        "for element in A:\n",
        "  print(element)"
      ],
      "metadata": {
        "colab": {
          "base_uri": "https://localhost:8080/"
        },
        "id": "ECFAvNVWVEnV",
        "outputId": "eb4c8663-4bcc-4173-ad5c-137560e75bf6"
      },
      "execution_count": null,
      "outputs": [
        {
          "output_type": "stream",
          "name": "stdout",
          "text": [
            "1\n",
            "2\n",
            "3\n",
            "5.0\n",
            "sunny\n",
            "(1+2j)\n",
            "True\n"
          ]
        }
      ]
    },
    {
      "cell_type": "code",
      "source": [
        "A"
      ],
      "metadata": {
        "colab": {
          "base_uri": "https://localhost:8080/"
        },
        "id": "95iP2tz4WRVI",
        "outputId": "d6dbc4e3-db4c-4273-9435-cc0391625220"
      },
      "execution_count": null,
      "outputs": [
        {
          "output_type": "execute_result",
          "data": {
            "text/plain": [
              "[1, 2, 3, 5.0, 'sunny', (1+2j), True]"
            ]
          },
          "metadata": {},
          "execution_count": 16
        }
      ]
    },
    {
      "cell_type": "code",
      "source": [
        "for i in range(0,8,2):      #(start,end,steps)\n",
        "   print(i, A[i])\n"
      ],
      "metadata": {
        "colab": {
          "base_uri": "https://localhost:8080/"
        },
        "id": "lhjq3h1NWZml",
        "outputId": "635dd264-c2c2-4cd2-9fd4-ce9373e949eb"
      },
      "execution_count": null,
      "outputs": [
        {
          "output_type": "stream",
          "name": "stdout",
          "text": [
            "0 1\n",
            "2 3\n",
            "4 sunny\n",
            "6 True\n"
          ]
        }
      ]
    },
    {
      "cell_type": "code",
      "source": [
        "A[::-1]"
      ],
      "metadata": {
        "colab": {
          "base_uri": "https://localhost:8080/"
        },
        "id": "YuuZADpXXmLF",
        "outputId": "526c434d-8459-44da-ef50-0c0586b10d3f"
      },
      "execution_count": null,
      "outputs": [
        {
          "output_type": "execute_result",
          "data": {
            "text/plain": [
              "[True, (1+2j), 'sunny', 5.0, 3, 2, 1]"
            ]
          },
          "metadata": {},
          "execution_count": 19
        }
      ]
    },
    {
      "cell_type": "code",
      "source": [
        "for i in range(-1,-len(A),-1):\n",
        "   print(i,A[i])"
      ],
      "metadata": {
        "colab": {
          "base_uri": "https://localhost:8080/"
        },
        "id": "fMqwlYZoZDt6",
        "outputId": "4c172e24-357e-41dd-adc1-f8124fcba328"
      },
      "execution_count": null,
      "outputs": [
        {
          "output_type": "stream",
          "name": "stdout",
          "text": [
            "-1 True\n",
            "-2 (1+2j)\n",
            "-3 sunny\n",
            "-4 5.0\n",
            "-5 3\n",
            "-6 2\n"
          ]
        }
      ]
    },
    {
      "cell_type": "code",
      "source": [
        "A = [1,2,3,4,5.0,\"sunny\",(1+2j),True]"
      ],
      "metadata": {
        "id": "8PduxsPiZdp5"
      },
      "execution_count": null,
      "outputs": []
    },
    {
      "cell_type": "code",
      "source": [
        "for i in [1,5,6,7]:\n",
        "  print(i,A[i])"
      ],
      "metadata": {
        "colab": {
          "base_uri": "https://localhost:8080/"
        },
        "id": "Jf-WuRbTF2FB",
        "outputId": "b0ba2192-b9ea-4b17-e90a-c266a76e59a3"
      },
      "execution_count": null,
      "outputs": [
        {
          "output_type": "stream",
          "name": "stdout",
          "text": [
            "1 2\n",
            "5 sunny\n",
            "6 (1+2j)\n",
            "7 True\n"
          ]
        }
      ]
    },
    {
      "cell_type": "markdown",
      "source": [
        "###Updating list element at specific index.\n"
      ],
      "metadata": {
        "id": "eDa-UvdzGXd7"
      }
    },
    {
      "cell_type": "code",
      "source": [
        "A"
      ],
      "metadata": {
        "colab": {
          "base_uri": "https://localhost:8080/"
        },
        "id": "kedOqZHQGRTQ",
        "outputId": "11308b6b-8074-4889-e1fd-1354e8d111fa"
      },
      "execution_count": null,
      "outputs": [
        {
          "output_type": "execute_result",
          "data": {
            "text/plain": [
              "[1, 2, 3, 4, 5.0, 'sunny', (1+2j), True]"
            ]
          },
          "metadata": {},
          "execution_count": 4
        }
      ]
    },
    {
      "cell_type": "code",
      "source": [
        "A[4]= 999 #mutable operation"
      ],
      "metadata": {
        "id": "hC001BeIGeVX"
      },
      "execution_count": null,
      "outputs": []
    },
    {
      "cell_type": "code",
      "source": [
        "A #list is mutable  & string is immutable"
      ],
      "metadata": {
        "colab": {
          "base_uri": "https://localhost:8080/"
        },
        "id": "xb9l5xxMGiR5",
        "outputId": "108826be-a00a-45c9-e09a-388f6977c02a"
      },
      "execution_count": null,
      "outputs": [
        {
          "output_type": "execute_result",
          "data": {
            "text/plain": [
              "[1, 2, 3, 4, 999, 'sunny', (1+2j), True]"
            ]
          },
          "metadata": {},
          "execution_count": 6
        }
      ]
    },
    {
      "cell_type": "code",
      "source": [
        "A[-2] = 'iNeuron'"
      ],
      "metadata": {
        "id": "5R32g4L6GkjF"
      },
      "execution_count": null,
      "outputs": []
    },
    {
      "cell_type": "code",
      "source": [
        "A"
      ],
      "metadata": {
        "colab": {
          "base_uri": "https://localhost:8080/"
        },
        "id": "TAcx9CHaG_xX",
        "outputId": "f58f33d8-9972-4f21-9ee8-56071b1a0359"
      },
      "execution_count": null,
      "outputs": [
        {
          "output_type": "execute_result",
          "data": {
            "text/plain": [
              "[1, 2, 3, 4, 999, 'sunny', 'iNeuron', True]"
            ]
          },
          "metadata": {},
          "execution_count": 8
        }
      ]
    },
    {
      "cell_type": "code",
      "source": [
        "B = [78,90.22] #adding to lists\n",
        "A+B"
      ],
      "metadata": {
        "colab": {
          "base_uri": "https://localhost:8080/"
        },
        "id": "s0GldpQxHAxE",
        "outputId": "26b4266c-ed81-4da9-e7cc-c9dc37041beb"
      },
      "execution_count": null,
      "outputs": [
        {
          "output_type": "execute_result",
          "data": {
            "text/plain": [
              "[1, 2, 3, 4, 999, 'sunny', 'iNeuron', True, 78, 90.22]"
            ]
          },
          "metadata": {},
          "execution_count": 9
        }
      ]
    },
    {
      "cell_type": "code",
      "source": [
        "A-B #This operation is not allowed in list"
      ],
      "metadata": {
        "colab": {
          "base_uri": "https://localhost:8080/",
          "height": 165
        },
        "id": "QbsbgqcuHIUs",
        "outputId": "64edcb87-0016-4c78-d163-d7456e916a76"
      },
      "execution_count": null,
      "outputs": [
        {
          "output_type": "error",
          "ename": "TypeError",
          "evalue": "ignored",
          "traceback": [
            "\u001b[0;31m---------------------------------------------------------------------------\u001b[0m",
            "\u001b[0;31mTypeError\u001b[0m                                 Traceback (most recent call last)",
            "\u001b[0;32m<ipython-input-10-ca2486c81344>\u001b[0m in \u001b[0;36m<module>\u001b[0;34m\u001b[0m\n\u001b[0;32m----> 1\u001b[0;31m \u001b[0mA\u001b[0m\u001b[0;34m-\u001b[0m\u001b[0mB\u001b[0m\u001b[0;34m\u001b[0m\u001b[0;34m\u001b[0m\u001b[0m\n\u001b[0m",
            "\u001b[0;31mTypeError\u001b[0m: unsupported operand type(s) for -: 'list' and 'list'"
          ]
        }
      ]
    },
    {
      "cell_type": "code",
      "source": [
        "A*2"
      ],
      "metadata": {
        "colab": {
          "base_uri": "https://localhost:8080/"
        },
        "id": "vGGzC_MDHP5f",
        "outputId": "0e35b127-b59f-448d-cd73-cef7fc806b38"
      },
      "execution_count": null,
      "outputs": [
        {
          "output_type": "execute_result",
          "data": {
            "text/plain": [
              "[1,\n",
              " 2,\n",
              " 3,\n",
              " 4,\n",
              " 999,\n",
              " 'sunny',\n",
              " 'iNeuron',\n",
              " True,\n",
              " 1,\n",
              " 2,\n",
              " 3,\n",
              " 4,\n",
              " 999,\n",
              " 'sunny',\n",
              " 'iNeuron',\n",
              " True]"
            ]
          },
          "metadata": {},
          "execution_count": 11
        }
      ]
    },
    {
      "cell_type": "code",
      "source": [
        "A*-2 #multiplying s list by negative number will give you an empty list"
      ],
      "metadata": {
        "colab": {
          "base_uri": "https://localhost:8080/"
        },
        "id": "3sp3GW0uLiOP",
        "outputId": "e265822a-1772-43ab-920f-a9e13392741b"
      },
      "execution_count": null,
      "outputs": [
        {
          "output_type": "execute_result",
          "data": {
            "text/plain": [
              "[]"
            ]
          },
          "metadata": {},
          "execution_count": 12
        }
      ]
    },
    {
      "cell_type": "markdown",
      "source": [
        "###Preparing list by user input"
      ],
      "metadata": {
        "id": "_QFwGZGRMHvu"
      }
    },
    {
      "cell_type": "code",
      "source": [
        "#Prepare list of items to purchase on diwali"
      ],
      "metadata": {
        "id": "DwBnuRKQOTQk"
      },
      "execution_count": null,
      "outputs": []
    },
    {
      "cell_type": "code",
      "source": [
        "list_of_items_to_purchase = list()  #This is empty string\n",
        "for i in range(5):\n",
        "  user_input = input(\"Enter the item that you want to purchase: \")\n",
        "  list_of_items_to_purchase = list_of_items_to_purchase + [user_input]\n",
        "print(list_of_items_to_purchase)"
      ],
      "metadata": {
        "colab": {
          "base_uri": "https://localhost:8080/"
        },
        "id": "ooUwReeYLlK2",
        "outputId": "50f4ce08-7a96-4c4f-87f5-4b0c3ec27f65"
      },
      "execution_count": null,
      "outputs": [
        {
          "output_type": "stream",
          "name": "stdout",
          "text": [
            "Enter the item that you want to purchase: soap\n",
            "Enter the item that you want to purchase: oil\n",
            "Enter the item that you want to purchase: clothes\n",
            "Enter the item that you want to purchase: food items\n",
            "Enter the item that you want to purchase: gifts\n",
            "['soap', 'oil', 'clothes', 'food items', 'gifts']\n"
          ]
        }
      ]
    },
    {
      "cell_type": "code",
      "source": [
        "l = [1,2,3,4,5] #checking membership in a list\n",
        "5 in l"
      ],
      "metadata": {
        "colab": {
          "base_uri": "https://localhost:8080/"
        },
        "id": "fVC9oIVcNvJL",
        "outputId": "c1990a42-4fff-42eb-fd2b-c482da2409d3"
      },
      "execution_count": null,
      "outputs": [
        {
          "output_type": "execute_result",
          "data": {
            "text/plain": [
              "True"
            ]
          },
          "metadata": {},
          "execution_count": 17
        }
      ]
    },
    {
      "cell_type": "code",
      "source": [
        "6 in l"
      ],
      "metadata": {
        "colab": {
          "base_uri": "https://localhost:8080/"
        },
        "id": "pu4aJwgrOo1U",
        "outputId": "a404e4ae-8176-451e-9d10-0c0cc9102ec0"
      },
      "execution_count": null,
      "outputs": [
        {
          "output_type": "execute_result",
          "data": {
            "text/plain": [
              "False"
            ]
          },
          "metadata": {},
          "execution_count": 18
        }
      ]
    },
    {
      "cell_type": "code",
      "source": [
        "list_of_items_to_purchase"
      ],
      "metadata": {
        "id": "IWIs9VhsO1oO",
        "colab": {
          "base_uri": "https://localhost:8080/"
        },
        "outputId": "4ed3d594-41bc-4c91-d41e-5be3b9dda4be"
      },
      "execution_count": null,
      "outputs": [
        {
          "output_type": "execute_result",
          "data": {
            "text/plain": [
              "['soap', 'oil', 'clothes', 'food items', 'gifts']"
            ]
          },
          "metadata": {},
          "execution_count": 19
        }
      ]
    },
    {
      "cell_type": "code",
      "source": [
        "if \"crackers\" in list_of_items_to_purchase:\n",
        "  print(\"Yes, crackers are there in the list\")\n",
        "else:\n",
        "  print(\"No crackers are there in the list, adding now\")\n",
        "  list_of_items_to_purchase = list_of_items_to_purchase+[\"crackers\"]"
      ],
      "metadata": {
        "colab": {
          "base_uri": "https://localhost:8080/"
        },
        "id": "fVp0kzCjsUZc",
        "outputId": "ed7bdc1b-88fd-4e9d-e7fc-956e2801a18b"
      },
      "execution_count": null,
      "outputs": [
        {
          "output_type": "stream",
          "name": "stdout",
          "text": [
            "No crackers are there in the list, adding now\n"
          ]
        }
      ]
    },
    {
      "cell_type": "code",
      "source": [
        "list_of_items_to_purchase #crackers are added to the list"
      ],
      "metadata": {
        "colab": {
          "base_uri": "https://localhost:8080/"
        },
        "id": "h282lIyYs9_2",
        "outputId": "4da8a4db-5d35-4011-d2e8-bdb3afb4df8d"
      },
      "execution_count": null,
      "outputs": [
        {
          "output_type": "execute_result",
          "data": {
            "text/plain": [
              "['soap', 'oil', 'clothes', 'food items', 'gifts', 'crackers']"
            ]
          },
          "metadata": {},
          "execution_count": 21
        }
      ]
    },
    {
      "cell_type": "markdown",
      "source": [
        "####Max()"
      ],
      "metadata": {
        "id": "grsRc6lwvlCh"
      }
    },
    {
      "cell_type": "code",
      "source": [
        "example = [1,45,678,12]\n",
        "max(example)    #Gives highest value from list"
      ],
      "metadata": {
        "colab": {
          "base_uri": "https://localhost:8080/"
        },
        "id": "NrE0pwhztC_v",
        "outputId": "a1744646-226d-4dd5-ffce-24f978d54f73"
      },
      "execution_count": null,
      "outputs": [
        {
          "output_type": "execute_result",
          "data": {
            "text/plain": [
              "678"
            ]
          },
          "metadata": {},
          "execution_count": 22
        }
      ]
    },
    {
      "cell_type": "code",
      "source": [
        "string_ex = [\"b\",\"a\",\"D\",\"d\"]\n",
        "max(string_ex) #because Ascii code of 'd' is higher than 'D'"
      ],
      "metadata": {
        "colab": {
          "base_uri": "https://localhost:8080/",
          "height": 36
        },
        "id": "E_7RwH2pvts4",
        "outputId": "93880a09-aca2-4b81-a291-a18d099b7be9"
      },
      "execution_count": null,
      "outputs": [
        {
          "output_type": "execute_result",
          "data": {
            "text/plain": [
              "'d'"
            ],
            "application/vnd.google.colaboratory.intrinsic+json": {
              "type": "string"
            }
          },
          "metadata": {},
          "execution_count": 23
        }
      ]
    },
    {
      "cell_type": "code",
      "source": [
        "example = [1,2,99.0] #float case\n",
        "max(example) #max() does not support in case of complex,it gives TypeError"
      ],
      "metadata": {
        "colab": {
          "base_uri": "https://localhost:8080/"
        },
        "id": "F4fTc9vRwG1y",
        "outputId": "f8b9aa43-8452-4a7f-c24e-5c547a10d6b6"
      },
      "execution_count": null,
      "outputs": [
        {
          "output_type": "execute_result",
          "data": {
            "text/plain": [
              "99.0"
            ]
          },
          "metadata": {},
          "execution_count": 24
        }
      ]
    },
    {
      "cell_type": "code",
      "source": [
        "example = [1,45,678,12,-500]"
      ],
      "metadata": {
        "id": "XYODJCmOwYzE"
      },
      "execution_count": null,
      "outputs": []
    },
    {
      "cell_type": "code",
      "source": [
        "min(example) #gives lowest value from the list"
      ],
      "metadata": {
        "colab": {
          "base_uri": "https://localhost:8080/"
        },
        "id": "ScBgggjNwtXL",
        "outputId": "0f669604-7360-4434-b9e7-85a51a2307a1"
      },
      "execution_count": null,
      "outputs": [
        {
          "output_type": "execute_result",
          "data": {
            "text/plain": [
              "-500"
            ]
          },
          "metadata": {},
          "execution_count": 26
        }
      ]
    },
    {
      "cell_type": "markdown",
      "source": [
        "Print a name with highest number of characters"
      ],
      "metadata": {
        "id": "5Ed8pRhkw296"
      }
    },
    {
      "cell_type": "code",
      "source": [
        "string_ex = [\"bhaveen\",\"abhishek\",\"dew\",\"dj\",\"charlie\"]"
      ],
      "metadata": {
        "id": "ZoTMbW4Gwvuc"
      },
      "execution_count": null,
      "outputs": []
    },
    {
      "cell_type": "code",
      "source": [
        "string_ex = [\"bhaveen\",\"abhishek\",\"dew\",\"dj\",\"charlie\"]\n",
        "max_len = 0\n",
        "\n",
        "for ex in string_ex:\n",
        "  print(ex,len(ex))\n",
        "  if len(ex)>max_len:\n",
        "    max_len = len(ex)\n",
        "    result = ex\n",
        "    print(f\"Result: max_len: {max-len} name: {result}\")\n"
      ],
      "metadata": {
        "colab": {
          "base_uri": "https://localhost:8080/",
          "height": 217
        },
        "id": "yrWhavnzxNrY",
        "outputId": "7df0124e-5d72-450a-c9cd-7bbe369d8644"
      },
      "execution_count": null,
      "outputs": [
        {
          "output_type": "stream",
          "name": "stdout",
          "text": [
            "bhaveen 7\n"
          ]
        },
        {
          "output_type": "error",
          "ename": "TypeError",
          "evalue": "ignored",
          "traceback": [
            "\u001b[0;31m---------------------------------------------------------------------------\u001b[0m",
            "\u001b[0;31mTypeError\u001b[0m                                 Traceback (most recent call last)",
            "\u001b[0;32m<ipython-input-31-0d760894dd44>\u001b[0m in \u001b[0;36m<module>\u001b[0;34m\u001b[0m\n\u001b[1;32m      7\u001b[0m     \u001b[0mmax_len\u001b[0m \u001b[0;34m=\u001b[0m \u001b[0mlen\u001b[0m\u001b[0;34m(\u001b[0m\u001b[0mex\u001b[0m\u001b[0;34m)\u001b[0m\u001b[0;34m\u001b[0m\u001b[0;34m\u001b[0m\u001b[0m\n\u001b[1;32m      8\u001b[0m     \u001b[0mresult\u001b[0m \u001b[0;34m=\u001b[0m \u001b[0mex\u001b[0m\u001b[0;34m\u001b[0m\u001b[0;34m\u001b[0m\u001b[0m\n\u001b[0;32m----> 9\u001b[0;31m     \u001b[0mprint\u001b[0m\u001b[0;34m(\u001b[0m\u001b[0;34mf\"Result: max_len: {max-len} name: {result}\"\u001b[0m\u001b[0;34m)\u001b[0m\u001b[0;34m\u001b[0m\u001b[0;34m\u001b[0m\u001b[0m\n\u001b[0m",
            "\u001b[0;31mTypeError\u001b[0m: unsupported operand type(s) for -: 'builtin_function_or_method' and 'builtin_function_or_method'"
          ]
        }
      ]
    },
    {
      "cell_type": "markdown",
      "source": [
        "###append(' ')"
      ],
      "metadata": {
        "id": "MuuKUrB2yx9Z"
      }
    },
    {
      "cell_type": "code",
      "source": [
        "#Use the append method to permanently add an item to the end of a list."
      ],
      "metadata": {
        "id": "TJbM6hFRzC0v"
      },
      "execution_count": null,
      "outputs": []
    },
    {
      "cell_type": "code",
      "source": [
        "l = [1,2,3]"
      ],
      "metadata": {
        "id": "UUlYAchIyF1Q"
      },
      "execution_count": null,
      "outputs": []
    },
    {
      "cell_type": "code",
      "source": [
        "l.append('append me!') #permanent operation"
      ],
      "metadata": {
        "id": "hFG54n5ty3gx"
      },
      "execution_count": null,
      "outputs": []
    },
    {
      "cell_type": "code",
      "source": [
        "l"
      ],
      "metadata": {
        "colab": {
          "base_uri": "https://localhost:8080/"
        },
        "id": "HaG9DYi8y7qj",
        "outputId": "80f52047-bd0a-48d1-8b5b-8f1c4030eddd"
      },
      "execution_count": null,
      "outputs": [
        {
          "output_type": "execute_result",
          "data": {
            "text/plain": [
              "[1, 2, 3, 'append me!']"
            ]
          },
          "metadata": {},
          "execution_count": 34
        }
      ]
    },
    {
      "cell_type": "code",
      "source": [
        "l.append(\"sanjay\",\"john\") #wrong syntax"
      ],
      "metadata": {
        "colab": {
          "base_uri": "https://localhost:8080/",
          "height": 165
        },
        "id": "CKXwSMrVy9aW",
        "outputId": "ee7c0bda-1c9b-4867-a94f-9db1a4ac973c"
      },
      "execution_count": null,
      "outputs": [
        {
          "output_type": "error",
          "ename": "TypeError",
          "evalue": "ignored",
          "traceback": [
            "\u001b[0;31m---------------------------------------------------------------------------\u001b[0m",
            "\u001b[0;31mTypeError\u001b[0m                                 Traceback (most recent call last)",
            "\u001b[0;32m<ipython-input-35-ccda3365366c>\u001b[0m in \u001b[0;36m<module>\u001b[0;34m\u001b[0m\n\u001b[0;32m----> 1\u001b[0;31m \u001b[0ml\u001b[0m\u001b[0;34m.\u001b[0m\u001b[0mappend\u001b[0m\u001b[0;34m(\u001b[0m\u001b[0;34m\"sanjay\"\u001b[0m\u001b[0;34m,\u001b[0m\u001b[0;34m\"john\"\u001b[0m\u001b[0;34m)\u001b[0m\u001b[0;34m\u001b[0m\u001b[0;34m\u001b[0m\u001b[0m\n\u001b[0m",
            "\u001b[0;31mTypeError\u001b[0m: append() takes exactly one argument (2 given)"
          ]
        }
      ]
    },
    {
      "cell_type": "code",
      "source": [
        "l.append([\"sanjay\",\"John\"]) #correct syntax"
      ],
      "metadata": {
        "id": "EfF741bszgM6"
      },
      "execution_count": null,
      "outputs": []
    },
    {
      "cell_type": "code",
      "source": [
        "l"
      ],
      "metadata": {
        "colab": {
          "base_uri": "https://localhost:8080/"
        },
        "id": "x4RligwjzpBK",
        "outputId": "fc66e82d-55fd-4529-9c5d-23a85defdbca"
      },
      "execution_count": null,
      "outputs": [
        {
          "output_type": "execute_result",
          "data": {
            "text/plain": [
              "[1, 2, 3, 'append me!', ['sanjay', 'John']]"
            ]
          },
          "metadata": {},
          "execution_count": 37
        }
      ]
    },
    {
      "cell_type": "markdown",
      "source": [
        "###pop()"
      ],
      "metadata": {
        "id": "Jfcwu4S2ztk-"
      }
    },
    {
      "cell_type": "code",
      "source": [
        "#pop() is used to 'pop off' an item from the list.By default pop takes off the last index, but you can also specify which index to pop off.\n",
        "A = [6,4,5,7,\"sunny\"]\n",
        "A.pop() #removes last index"
      ],
      "metadata": {
        "colab": {
          "base_uri": "https://localhost:8080/",
          "height": 36
        },
        "id": "XfpQ3WXPzpvI",
        "outputId": "193f2f68-d4aa-4f22-c48b-2988a2965c2d"
      },
      "execution_count": null,
      "outputs": [
        {
          "output_type": "execute_result",
          "data": {
            "text/plain": [
              "'sunny'"
            ],
            "application/vnd.google.colaboratory.intrinsic+json": {
              "type": "string"
            }
          },
          "metadata": {},
          "execution_count": 47
        }
      ]
    },
    {
      "cell_type": "code",
      "source": [
        "A"
      ],
      "metadata": {
        "colab": {
          "base_uri": "https://localhost:8080/"
        },
        "id": "i2JEGtqb00Vv",
        "outputId": "461ffd29-6643-433f-d74f-ff506c138066"
      },
      "execution_count": null,
      "outputs": [
        {
          "output_type": "execute_result",
          "data": {
            "text/plain": [
              "[6, 4, 5, 7]"
            ]
          },
          "metadata": {},
          "execution_count": 48
        }
      ]
    },
    {
      "cell_type": "code",
      "source": [
        "A.pop(0) #removes 0th index element"
      ],
      "metadata": {
        "colab": {
          "base_uri": "https://localhost:8080/"
        },
        "id": "hzNDAeG406mS",
        "outputId": "9911a671-d2d8-4ee1-844b-c4c713178fba"
      },
      "execution_count": null,
      "outputs": [
        {
          "output_type": "execute_result",
          "data": {
            "text/plain": [
              "6"
            ]
          },
          "metadata": {},
          "execution_count": 49
        }
      ]
    },
    {
      "cell_type": "code",
      "source": [
        "A"
      ],
      "metadata": {
        "colab": {
          "base_uri": "https://localhost:8080/"
        },
        "id": "iuJr-ZxO087r",
        "outputId": "34b49753-88d5-465f-8ac9-eec3b25517c3"
      },
      "execution_count": null,
      "outputs": [
        {
          "output_type": "execute_result",
          "data": {
            "text/plain": [
              "[4, 5, 7]"
            ]
          },
          "metadata": {},
          "execution_count": 50
        }
      ]
    },
    {
      "cell_type": "markdown",
      "source": [
        "###sort()"
      ],
      "metadata": {
        "id": "eW03JoPT1AC_"
      }
    },
    {
      "cell_type": "code",
      "source": [
        "A = [1,45,67,98,-34]"
      ],
      "metadata": {
        "id": "f1ZaN96G09_X"
      },
      "execution_count": null,
      "outputs": []
    },
    {
      "cell_type": "code",
      "source": [
        "A.sort() ##changes A in ascending order"
      ],
      "metadata": {
        "id": "cv-BVXwQ1Ml9"
      },
      "execution_count": null,
      "outputs": []
    },
    {
      "cell_type": "code",
      "source": [
        "A #permanent change"
      ],
      "metadata": {
        "colab": {
          "base_uri": "https://localhost:8080/"
        },
        "id": "Mgm2WzxE1R2b",
        "outputId": "699df95b-9fad-48ea-e252-8e07d283f1a4"
      },
      "execution_count": null,
      "outputs": [
        {
          "output_type": "execute_result",
          "data": {
            "text/plain": [
              "[-34, 1, 45, 67, 98]"
            ]
          },
          "metadata": {},
          "execution_count": 54
        }
      ]
    },
    {
      "cell_type": "markdown",
      "source": [
        "###reverse()"
      ],
      "metadata": {
        "id": "fHM3-IqJ1fRm"
      }
    },
    {
      "cell_type": "code",
      "source": [
        "A.reverse() #reverse the list permanently"
      ],
      "metadata": {
        "id": "29XcVUZD1S5T"
      },
      "execution_count": null,
      "outputs": []
    },
    {
      "cell_type": "code",
      "source": [
        "A"
      ],
      "metadata": {
        "colab": {
          "base_uri": "https://localhost:8080/"
        },
        "id": "c9vZzau31iaF",
        "outputId": "7cea2f06-9d98-4c08-ec91-ef7589818d93"
      },
      "execution_count": null,
      "outputs": [
        {
          "output_type": "execute_result",
          "data": {
            "text/plain": [
              "[98, 67, 45, 1, -34]"
            ]
          },
          "metadata": {},
          "execution_count": 57
        }
      ]
    },
    {
      "cell_type": "markdown",
      "source": [
        "#Nesting of the list"
      ],
      "metadata": {
        "id": "5zY3XoEY13DI"
      }
    },
    {
      "cell_type": "markdown",
      "source": [
        "###That means list inside a list"
      ],
      "metadata": {
        "id": "CcgyhtLX17Mc"
      }
    },
    {
      "cell_type": "code",
      "source": [
        "A = [[1,2,3],[11,12,13],[43,44,77]]\n",
        "A"
      ],
      "metadata": {
        "colab": {
          "base_uri": "https://localhost:8080/"
        },
        "id": "MV9T4JiJ1lZl",
        "outputId": "39031f67-92a9-436a-a03a-9ec985bee5ba"
      },
      "execution_count": null,
      "outputs": [
        {
          "output_type": "execute_result",
          "data": {
            "text/plain": [
              "[[1, 2, 3], [11, 12, 13], [43, 44, 77]]"
            ]
          },
          "metadata": {},
          "execution_count": 58
        }
      ]
    },
    {
      "cell_type": "code",
      "source": [
        "A[0]"
      ],
      "metadata": {
        "colab": {
          "base_uri": "https://localhost:8080/"
        },
        "id": "qVBfWb7h6KYH",
        "outputId": "9e0b67a6-d09e-495c-b5e1-5af2f3f783ff"
      },
      "execution_count": null,
      "outputs": [
        {
          "output_type": "execute_result",
          "data": {
            "text/plain": [
              "[1, 2, 3]"
            ]
          },
          "metadata": {},
          "execution_count": 59
        }
      ]
    },
    {
      "cell_type": "code",
      "source": [
        "A[0][0]"
      ],
      "metadata": {
        "colab": {
          "base_uri": "https://localhost:8080/"
        },
        "id": "EJMpkZxt6ND1",
        "outputId": "bb463d22-b825-423d-848a-17b867053121"
      },
      "execution_count": null,
      "outputs": [
        {
          "output_type": "execute_result",
          "data": {
            "text/plain": [
              "1"
            ]
          },
          "metadata": {},
          "execution_count": 60
        }
      ]
    },
    {
      "cell_type": "code",
      "source": [
        "A[1][1]"
      ],
      "metadata": {
        "colab": {
          "base_uri": "https://localhost:8080/"
        },
        "id": "_z37VjUi6QWg",
        "outputId": "d897148e-d4ad-4c3e-dcef-c189daba4e3c"
      },
      "execution_count": null,
      "outputs": [
        {
          "output_type": "execute_result",
          "data": {
            "text/plain": [
              "12"
            ]
          },
          "metadata": {},
          "execution_count": 61
        }
      ]
    },
    {
      "cell_type": "code",
      "source": [
        "A = [[1,2,3],[11,12,13,[500,502]],[45,56,77]]"
      ],
      "metadata": {
        "id": "Gzopaeb86Sfz"
      },
      "execution_count": null,
      "outputs": []
    },
    {
      "cell_type": "code",
      "source": [
        "A"
      ],
      "metadata": {
        "colab": {
          "base_uri": "https://localhost:8080/"
        },
        "id": "2VFkvJ546xGv",
        "outputId": "4d9fc17d-37be-434b-e28b-9b36c4280a69"
      },
      "execution_count": null,
      "outputs": [
        {
          "output_type": "execute_result",
          "data": {
            "text/plain": [
              "[[1, 2, 3], [11, 12, 13, [500, 502]], [45, 56, 77]]"
            ]
          },
          "metadata": {},
          "execution_count": 63
        }
      ]
    },
    {
      "cell_type": "code",
      "source": [
        "A[1][3]"
      ],
      "metadata": {
        "colab": {
          "base_uri": "https://localhost:8080/"
        },
        "id": "C2SVCUob6yA3",
        "outputId": "d54b5ff5-ffba-413e-ac67-d347623760d2"
      },
      "execution_count": null,
      "outputs": [
        {
          "output_type": "execute_result",
          "data": {
            "text/plain": [
              "[500, 502]"
            ]
          },
          "metadata": {},
          "execution_count": 64
        }
      ]
    },
    {
      "cell_type": "code",
      "source": [
        "A[1][3][0]"
      ],
      "metadata": {
        "colab": {
          "base_uri": "https://localhost:8080/"
        },
        "id": "tyFIciSa60ct",
        "outputId": "8ad8b1da-c877-4dc9-e98b-c11da4322d19"
      },
      "execution_count": null,
      "outputs": [
        {
          "output_type": "execute_result",
          "data": {
            "text/plain": [
              "500"
            ]
          },
          "metadata": {},
          "execution_count": 65
        }
      ]
    },
    {
      "cell_type": "markdown",
      "source": [
        "##list comprehension"
      ],
      "metadata": {
        "id": "BNmMrklL7c3U"
      }
    },
    {
      "cell_type": "code",
      "source": [
        "A = [1,2,3,4,5,6,7,8,9,10]\n",
        "#we have to make new list which contains square of above numbers\n"
      ],
      "metadata": {
        "id": "opQLVOxZ64eR"
      },
      "execution_count": null,
      "outputs": []
    },
    {
      "cell_type": "code",
      "source": [
        "ans = list() #empty list\n",
        "for ele in A:\n",
        "  print(ele**2)\n",
        "  ans.append(ele**2)\n",
        "print(ans)\n"
      ],
      "metadata": {
        "colab": {
          "base_uri": "https://localhost:8080/"
        },
        "id": "o6PyIuwY7sm5",
        "outputId": "cbdea46f-8a1e-4407-d826-1d064332db83"
      },
      "execution_count": null,
      "outputs": [
        {
          "output_type": "stream",
          "name": "stdout",
          "text": [
            "1\n",
            "4\n",
            "9\n",
            "16\n",
            "25\n",
            "36\n",
            "49\n",
            "64\n",
            "81\n",
            "100\n",
            "[1, 4, 9, 16, 25, 36, 49, 64, 81, 100]\n"
          ]
        }
      ]
    },
    {
      "cell_type": "markdown",
      "source": [
        "or"
      ],
      "metadata": {
        "id": "XpDqHUaN8Ifj"
      }
    },
    {
      "cell_type": "code",
      "source": [
        "ans = [ele**2 for ele in A]\n",
        "print(ans)"
      ],
      "metadata": {
        "colab": {
          "base_uri": "https://localhost:8080/"
        },
        "id": "gc7of4sA7_7a",
        "outputId": "a79ea686-01b4-4dc0-877c-7aea83fce000"
      },
      "execution_count": null,
      "outputs": [
        {
          "output_type": "stream",
          "name": "stdout",
          "text": [
            "[1, 4, 9, 16, 25, 36, 49, 64, 81, 100]\n"
          ]
        }
      ]
    },
    {
      "cell_type": "markdown",
      "source": [
        "##Only take the square of odd no. in the list A"
      ],
      "metadata": {
        "id": "Q1wTQf6H8UWe"
      }
    },
    {
      "cell_type": "code",
      "source": [
        "A = [1,2,3,4,5,6,7,8,9,10]"
      ],
      "metadata": {
        "id": "ANv_dk8r8Res"
      },
      "execution_count": null,
      "outputs": []
    },
    {
      "cell_type": "code",
      "source": [
        "ans = list()\n",
        "for ele in A:\n",
        "  if ele%2 !=0:\n",
        "    print(ele**2)\n",
        "    ans.append(ele**2)\n",
        "print(ans)\n",
        "\n"
      ],
      "metadata": {
        "colab": {
          "base_uri": "https://localhost:8080/"
        },
        "id": "czc7R_6x8dmN",
        "outputId": "90a7964e-d2b7-4661-fc74-b52d985ab32b"
      },
      "execution_count": null,
      "outputs": [
        {
          "output_type": "stream",
          "name": "stdout",
          "text": [
            "1\n",
            "9\n",
            "25\n",
            "49\n",
            "81\n",
            "[1, 9, 25, 49, 81]\n"
          ]
        }
      ]
    },
    {
      "cell_type": "markdown",
      "source": [
        "or"
      ],
      "metadata": {
        "id": "lzGN8PxQ9Lw8"
      }
    },
    {
      "cell_type": "code",
      "source": [
        "ans = [ele**2 for ele in A if ele%2 != 0]\n",
        "print(ans)"
      ],
      "metadata": {
        "colab": {
          "base_uri": "https://localhost:8080/"
        },
        "id": "ao6i5z2L9A16",
        "outputId": "b48abeb4-224c-4a99-81af-a1e5af7719a0"
      },
      "execution_count": null,
      "outputs": [
        {
          "output_type": "stream",
          "name": "stdout",
          "text": [
            "[1, 9, 25, 49, 81]\n"
          ]
        }
      ]
    },
    {
      "cell_type": "markdown",
      "source": [
        "###.count()"
      ],
      "metadata": {
        "id": "LvXB-DPJGl0f"
      }
    },
    {
      "cell_type": "code",
      "source": [
        "A = [1,2,1,4,5,6,7,7,7]\n",
        "A.count(1) #It counts how many times number is written in list"
      ],
      "metadata": {
        "id": "_H38bAns9YSE"
      },
      "execution_count": null,
      "outputs": []
    },
    {
      "cell_type": "code",
      "source": [
        "A.count(7)"
      ],
      "metadata": {
        "id": "idTEQzcuHKkJ",
        "colab": {
          "base_uri": "https://localhost:8080/"
        },
        "outputId": "8b1416e7-1217-4392-98fd-125c771247bd"
      },
      "execution_count": null,
      "outputs": [
        {
          "output_type": "execute_result",
          "data": {
            "text/plain": [
              "3"
            ]
          },
          "metadata": {},
          "execution_count": 2
        }
      ]
    },
    {
      "cell_type": "code",
      "source": [
        "A = [1,2,1,4,5,6,[7,7],[7,7]]\n",
        "A.count([7,7])"
      ],
      "metadata": {
        "colab": {
          "base_uri": "https://localhost:8080/"
        },
        "id": "0cLwiCryHg4r",
        "outputId": "7d963f57-ad74-49c6-eb3d-08ec3a25ed5c"
      },
      "execution_count": null,
      "outputs": [
        {
          "output_type": "execute_result",
          "data": {
            "text/plain": [
              "2"
            ]
          },
          "metadata": {},
          "execution_count": 3
        }
      ]
    },
    {
      "cell_type": "code",
      "source": [
        "A[-1].count(7)"
      ],
      "metadata": {
        "colab": {
          "base_uri": "https://localhost:8080/"
        },
        "id": "SyWM904_HvKN",
        "outputId": "74f2a856-c6fb-421b-9fc4-939cc16c1c33"
      },
      "execution_count": null,
      "outputs": [
        {
          "output_type": "execute_result",
          "data": {
            "text/plain": [
              "2"
            ]
          },
          "metadata": {},
          "execution_count": 4
        }
      ]
    },
    {
      "cell_type": "code",
      "source": [
        "A = [1,2,1,4,5,6,7,7,7]\n",
        "for i in A:\n",
        "  print(i,A.count(i))"
      ],
      "metadata": {
        "colab": {
          "base_uri": "https://localhost:8080/"
        },
        "id": "8Fn4Lr8EH28g",
        "outputId": "7a72238f-fe18-4d91-e6f3-53ab8a977251"
      },
      "execution_count": null,
      "outputs": [
        {
          "output_type": "stream",
          "name": "stdout",
          "text": [
            "1 2\n",
            "2 1\n",
            "1 2\n",
            "4 1\n",
            "5 1\n",
            "6 1\n",
            "7 3\n",
            "7 3\n",
            "7 3\n"
          ]
        }
      ]
    },
    {
      "cell_type": "code",
      "source": [
        "B = \"Professional\"\n",
        "for i in B:\n",
        "  print(i, B.count(i))"
      ],
      "metadata": {
        "colab": {
          "base_uri": "https://localhost:8080/"
        },
        "id": "ceFrBLecIEkw",
        "outputId": "2ea3ea2a-7ce9-4824-d579-4ac251c5c45f"
      },
      "execution_count": null,
      "outputs": [
        {
          "output_type": "stream",
          "name": "stdout",
          "text": [
            "P 1\n",
            "r 1\n",
            "o 2\n",
            "f 1\n",
            "e 1\n",
            "s 2\n",
            "s 2\n",
            "i 1\n",
            "o 2\n",
            "n 1\n",
            "a 1\n",
            "l 1\n"
          ]
        }
      ]
    },
    {
      "cell_type": "code",
      "source": [
        "c = [\"Shubham\",\"Sairaj\",\"Om\",\"Shubham\",\"Om\"]\n",
        "for d in c:\n",
        "  print(d,c.count(d))"
      ],
      "metadata": {
        "colab": {
          "base_uri": "https://localhost:8080/"
        },
        "id": "bTGBm58SIeZj",
        "outputId": "604b94b2-a9b3-4889-f8ad-9ae6197f1c54"
      },
      "execution_count": null,
      "outputs": [
        {
          "output_type": "stream",
          "name": "stdout",
          "text": [
            "Shubham 2\n",
            "Sairaj 1\n",
            "Om 2\n",
            "Shubham 2\n",
            "Om 2\n"
          ]
        }
      ]
    },
    {
      "cell_type": "markdown",
      "source": [
        "##.extend()"
      ],
      "metadata": {
        "id": "8X_ZRPFDJimj"
      }
    },
    {
      "cell_type": "code",
      "source": [
        "A = [1,2,3]\n",
        "B = [11,23,47]\n",
        "A.extend(B) #permanent operation"
      ],
      "metadata": {
        "id": "J8Wez53yJQv0"
      },
      "execution_count": null,
      "outputs": []
    },
    {
      "cell_type": "code",
      "source": [
        "A"
      ],
      "metadata": {
        "colab": {
          "base_uri": "https://localhost:8080/"
        },
        "id": "hIdNHf2mJwl3",
        "outputId": "fa17d44d-a566-4926-86be-60d526fcf0a2"
      },
      "execution_count": null,
      "outputs": [
        {
          "output_type": "execute_result",
          "data": {
            "text/plain": [
              "[1, 2, 3, 11, 23, 47]"
            ]
          },
          "metadata": {},
          "execution_count": 14
        }
      ]
    },
    {
      "cell_type": "markdown",
      "source": [
        "###.append()"
      ],
      "metadata": {
        "id": "Iv-cD6PQKU4W"
      }
    },
    {
      "cell_type": "code",
      "source": [
        "A.append(B) #list into list #permanent operation"
      ],
      "metadata": {
        "id": "pZZSZ6vSJyz7"
      },
      "execution_count": null,
      "outputs": []
    },
    {
      "cell_type": "code",
      "source": [
        "A"
      ],
      "metadata": {
        "colab": {
          "base_uri": "https://localhost:8080/"
        },
        "id": "GZ1goSDqKiMc",
        "outputId": "0db363d6-73c1-4cc2-e46f-7a06261a92f6"
      },
      "execution_count": null,
      "outputs": [
        {
          "output_type": "execute_result",
          "data": {
            "text/plain": [
              "[1, 2, 3, 11, 23, 47, [11, 23, 47]]"
            ]
          },
          "metadata": {},
          "execution_count": 16
        }
      ]
    },
    {
      "cell_type": "markdown",
      "source": [
        "###.index()"
      ],
      "metadata": {
        "id": "BVHt1ZEJK9l1"
      }
    },
    {
      "cell_type": "code",
      "source": [
        "A.index(11) #tella index of an element from list"
      ],
      "metadata": {
        "colab": {
          "base_uri": "https://localhost:8080/"
        },
        "id": "8EAiTGSqKjgF",
        "outputId": "dcceb2b3-681f-4ca6-cc04-4baa56cae6fd"
      },
      "execution_count": null,
      "outputs": [
        {
          "output_type": "execute_result",
          "data": {
            "text/plain": [
              "3"
            ]
          },
          "metadata": {},
          "execution_count": 18
        }
      ]
    },
    {
      "cell_type": "code",
      "source": [
        "A.index([11,23,47])"
      ],
      "metadata": {
        "colab": {
          "base_uri": "https://localhost:8080/"
        },
        "id": "N6kItWtSK3-e",
        "outputId": "d4f11c5b-e029-47c8-9c24-2083d4acd287"
      },
      "execution_count": null,
      "outputs": [
        {
          "output_type": "execute_result",
          "data": {
            "text/plain": [
              "6"
            ]
          },
          "metadata": {},
          "execution_count": 19
        }
      ]
    },
    {
      "cell_type": "markdown",
      "source": [
        "print the index of all the complex numbers when A = [11,3,4,56+2j,\"sunny\",1+2j]"
      ],
      "metadata": {
        "id": "nVl8978bLLcv"
      }
    },
    {
      "cell_type": "code",
      "source": [
        "A = [11,3,4,56+2j,\"sunny\",1+2j]\n",
        "for i in A:\n",
        "  if type(i)==complex:\n",
        "    print(i,A.index(i))"
      ],
      "metadata": {
        "colab": {
          "base_uri": "https://localhost:8080/"
        },
        "id": "5gDw0aYGLF0p",
        "outputId": "a03dcc9b-b549-4f23-e993-9c893d4c289b"
      },
      "execution_count": null,
      "outputs": [
        {
          "output_type": "stream",
          "name": "stdout",
          "text": [
            "(56+2j) 3\n",
            "(1+2j) 5\n"
          ]
        }
      ]
    },
    {
      "cell_type": "markdown",
      "source": [
        "###or"
      ],
      "metadata": {
        "id": "tKQWPQESMH0u"
      }
    },
    {
      "cell_type": "code",
      "source": [
        "A = [11,3,4,56+2j,\"sunny\",1+2j]\n",
        "for i in A:\n",
        "  if isinstance(i,complex):\n",
        "    print(i,A.index(i))"
      ],
      "metadata": {
        "colab": {
          "base_uri": "https://localhost:8080/"
        },
        "id": "JbibKXL9L0vY",
        "outputId": "5900d70b-824b-474c-a04f-2fcb7b668d25"
      },
      "execution_count": null,
      "outputs": [
        {
          "output_type": "stream",
          "name": "stdout",
          "text": [
            "(56+2j) 3\n",
            "(1+2j) 5\n"
          ]
        }
      ]
    },
    {
      "cell_type": "markdown",
      "source": [
        "Print the index of all the complex or int also."
      ],
      "metadata": {
        "id": "R_TwFoLyMzs5"
      }
    },
    {
      "cell_type": "code",
      "source": [
        "A = [11,3,4,56+2j,\"sunny\",1+2j]\n",
        "for ele in A:\n",
        "  if isinstance(ele,(complex,int)):\n",
        "     print(ele,A.index(ele))"
      ],
      "metadata": {
        "colab": {
          "base_uri": "https://localhost:8080/"
        },
        "id": "uONfrvkLMqcy",
        "outputId": "22c6e70f-b584-4d80-b086-0e38b34833a3"
      },
      "execution_count": null,
      "outputs": [
        {
          "output_type": "stream",
          "name": "stdout",
          "text": [
            "11 0\n",
            "3 1\n",
            "4 2\n",
            "(56+2j) 3\n",
            "(1+2j) 5\n"
          ]
        }
      ]
    },
    {
      "cell_type": "markdown",
      "source": [
        "###or"
      ],
      "metadata": {
        "id": "qnko_ow_NumK"
      }
    },
    {
      "cell_type": "code",
      "source": [
        "A = [11,3,4,56+2j,\"sunny\",1+2j]\n",
        "for ele in A:\n",
        "  if type(ele)==complex or type(ele)==int:\n",
        "     print(ele,A.index(ele))"
      ],
      "metadata": {
        "colab": {
          "base_uri": "https://localhost:8080/"
        },
        "id": "r-uVNlSDNPat",
        "outputId": "6daf2b2e-44c1-4273-d447-fea25e89e721"
      },
      "execution_count": null,
      "outputs": [
        {
          "output_type": "stream",
          "name": "stdout",
          "text": [
            "11 0\n",
            "3 1\n",
            "4 2\n",
            "(56+2j) 3\n",
            "(1+2j) 5\n"
          ]
        }
      ]
    },
    {
      "cell_type": "markdown",
      "source": [
        "##.insert( , )"
      ],
      "metadata": {
        "id": "YUkqPw5UOz1Z"
      }
    },
    {
      "cell_type": "code",
      "source": [
        "#insert  is little similar to .append()\n",
        "A = [1,2,3,4,5]"
      ],
      "metadata": {
        "id": "VaeUXlCCN5KP"
      },
      "execution_count": null,
      "outputs": []
    },
    {
      "cell_type": "code",
      "source": [
        "A.append(99)"
      ],
      "metadata": {
        "id": "acumev2_OwFh"
      },
      "execution_count": null,
      "outputs": []
    },
    {
      "cell_type": "code",
      "source": [
        "A"
      ],
      "metadata": {
        "colab": {
          "base_uri": "https://localhost:8080/"
        },
        "id": "OA7kLafEPXx4",
        "outputId": "1217a45a-c625-4754-c617-0dd68d24739c"
      },
      "execution_count": null,
      "outputs": [
        {
          "output_type": "execute_result",
          "data": {
            "text/plain": [
              "[1, 2, 3, 4, 5, 99]"
            ]
          },
          "metadata": {},
          "execution_count": 36
        }
      ]
    },
    {
      "cell_type": "code",
      "source": [
        "A.insert(2,\"om\") #(index,element)"
      ],
      "metadata": {
        "id": "bafneWoQPYfQ"
      },
      "execution_count": null,
      "outputs": []
    },
    {
      "cell_type": "code",
      "source": [
        "A"
      ],
      "metadata": {
        "colab": {
          "base_uri": "https://localhost:8080/"
        },
        "id": "oFw50FqhPhGe",
        "outputId": "d096b2c8-42c6-49f8-f517-e0d64dceb637"
      },
      "execution_count": null,
      "outputs": [
        {
          "output_type": "execute_result",
          "data": {
            "text/plain": [
              "[1, 2, 'om', 3, 4, 5, 99]"
            ]
          },
          "metadata": {},
          "execution_count": 38
        }
      ]
    },
    {
      "cell_type": "code",
      "source": [
        "A.insert(2,[9,12,32])"
      ],
      "metadata": {
        "id": "QDwyyP9LPh7W"
      },
      "execution_count": null,
      "outputs": []
    },
    {
      "cell_type": "code",
      "source": [
        "A"
      ],
      "metadata": {
        "colab": {
          "base_uri": "https://localhost:8080/"
        },
        "id": "Y8ODHpTvPwv-",
        "outputId": "bd7f99af-a04c-42de-cec7-d45eed98f108"
      },
      "execution_count": null,
      "outputs": [
        {
          "output_type": "execute_result",
          "data": {
            "text/plain": [
              "[1, 2, [9, 12, 32], 'om', 3, 4, 5, 99]"
            ]
          },
          "metadata": {},
          "execution_count": 40
        }
      ]
    },
    {
      "cell_type": "markdown",
      "source": [
        "##.remove()"
      ],
      "metadata": {
        "id": "jDwc4AQKP1ax"
      }
    },
    {
      "cell_type": "code",
      "source": [
        "A = [1,2,3,455,6,78]\n",
        "A.remove(455) #this removes element mentioned in bracket"
      ],
      "metadata": {
        "id": "C_DMIrV8Pxr8"
      },
      "execution_count": null,
      "outputs": []
    },
    {
      "cell_type": "code",
      "source": [
        "A"
      ],
      "metadata": {
        "colab": {
          "base_uri": "https://localhost:8080/"
        },
        "id": "64V3pE6cQD_C",
        "outputId": "66a1fa37-dad5-4799-e7c8-697ac1229852"
      },
      "execution_count": null,
      "outputs": [
        {
          "output_type": "execute_result",
          "data": {
            "text/plain": [
              "[1, 2, 3, 6, 78]"
            ]
          },
          "metadata": {},
          "execution_count": 42
        }
      ]
    },
    {
      "cell_type": "code",
      "source": [
        "A.pop() #this removes last element by default"
      ],
      "metadata": {
        "colab": {
          "base_uri": "https://localhost:8080/"
        },
        "id": "5KCsdaxzQExF",
        "outputId": "281b6832-fc9a-4fbe-9385-15da15d76698"
      },
      "execution_count": null,
      "outputs": [
        {
          "output_type": "execute_result",
          "data": {
            "text/plain": [
              "78"
            ]
          },
          "metadata": {},
          "execution_count": 43
        }
      ]
    },
    {
      "cell_type": "code",
      "source": [
        "A"
      ],
      "metadata": {
        "colab": {
          "base_uri": "https://localhost:8080/"
        },
        "id": "SjRdA0cOQL7H",
        "outputId": "8b0bdbf9-c386-474f-834c-290745024c62"
      },
      "execution_count": null,
      "outputs": [
        {
          "output_type": "execute_result",
          "data": {
            "text/plain": [
              "[1, 2, 3, 6]"
            ]
          },
          "metadata": {},
          "execution_count": 44
        }
      ]
    },
    {
      "cell_type": "markdown",
      "source": [
        "#Tuples"
      ],
      "metadata": {
        "id": "Pz-ibUCgQXwj"
      }
    },
    {
      "cell_type": "markdown",
      "source": [
        "list[ ] - mutable,\n",
        "tuple () - immutable"
      ],
      "metadata": {
        "id": "JpkaE05vQemU"
      }
    },
    {
      "cell_type": "code",
      "source": [
        "A  = (1,2,3) #tuple is in () i.e. round brackets\n",
        "type(A)"
      ],
      "metadata": {
        "id": "dcCVvRrkQSaQ",
        "colab": {
          "base_uri": "https://localhost:8080/"
        },
        "outputId": "734c4645-f6af-46de-a97e-9a3d0642fcab"
      },
      "execution_count": null,
      "outputs": [
        {
          "output_type": "execute_result",
          "data": {
            "text/plain": [
              "tuple"
            ]
          },
          "metadata": {},
          "execution_count": 1
        }
      ]
    },
    {
      "cell_type": "code",
      "source": [
        "A[0]"
      ],
      "metadata": {
        "colab": {
          "base_uri": "https://localhost:8080/"
        },
        "id": "06ILM1cw5YvX",
        "outputId": "bfbbcf87-a535-4edd-cf4b-aeb3878bb98e"
      },
      "execution_count": null,
      "outputs": [
        {
          "output_type": "execute_result",
          "data": {
            "text/plain": [
              "1"
            ]
          },
          "metadata": {},
          "execution_count": 2
        }
      ]
    },
    {
      "cell_type": "code",
      "source": [
        "A[-1]"
      ],
      "metadata": {
        "colab": {
          "base_uri": "https://localhost:8080/"
        },
        "id": "4LLPpZMT5yHo",
        "outputId": "902e5605-d336-47fb-ab1d-8e86303fc712"
      },
      "execution_count": null,
      "outputs": [
        {
          "output_type": "execute_result",
          "data": {
            "text/plain": [
              "3"
            ]
          },
          "metadata": {},
          "execution_count": 3
        }
      ]
    },
    {
      "cell_type": "code",
      "source": [
        "A[0] = 22 #i.e. tuple is immutable #'tuple' does not support item assignment"
      ],
      "metadata": {
        "colab": {
          "base_uri": "https://localhost:8080/",
          "height": 165
        },
        "id": "SkD-NGOB50az",
        "outputId": "ff728c8b-b217-4a5e-b749-53581a17fead"
      },
      "execution_count": null,
      "outputs": [
        {
          "output_type": "error",
          "ename": "TypeError",
          "evalue": "ignored",
          "traceback": [
            "\u001b[0;31m---------------------------------------------------------------------------\u001b[0m",
            "\u001b[0;31mTypeError\u001b[0m                                 Traceback (most recent call last)",
            "\u001b[0;32m<ipython-input-4-2b4b93e4b445>\u001b[0m in \u001b[0;36m<module>\u001b[0;34m\u001b[0m\n\u001b[0;32m----> 1\u001b[0;31m \u001b[0mA\u001b[0m\u001b[0;34m[\u001b[0m\u001b[0;36m0\u001b[0m\u001b[0;34m]\u001b[0m \u001b[0;34m=\u001b[0m \u001b[0;36m22\u001b[0m\u001b[0;34m\u001b[0m\u001b[0;34m\u001b[0m\u001b[0m\n\u001b[0m",
            "\u001b[0;31mTypeError\u001b[0m: 'tuple' object does not support item assignment"
          ]
        }
      ]
    },
    {
      "cell_type": "code",
      "source": [
        "A.sort() #bcoz tuple is immutable"
      ],
      "metadata": {
        "colab": {
          "base_uri": "https://localhost:8080/",
          "height": 165
        },
        "id": "pMNX1FDm56pP",
        "outputId": "17986a89-0d82-4ff7-a21a-5bcc43f216a3"
      },
      "execution_count": null,
      "outputs": [
        {
          "output_type": "error",
          "ename": "AttributeError",
          "evalue": "ignored",
          "traceback": [
            "\u001b[0;31m---------------------------------------------------------------------------\u001b[0m",
            "\u001b[0;31mAttributeError\u001b[0m                            Traceback (most recent call last)",
            "\u001b[0;32m<ipython-input-5-cc92ed99d76d>\u001b[0m in \u001b[0;36m<module>\u001b[0;34m\u001b[0m\n\u001b[0;32m----> 1\u001b[0;31m \u001b[0mA\u001b[0m\u001b[0;34m.\u001b[0m\u001b[0msort\u001b[0m\u001b[0;34m(\u001b[0m\u001b[0;34m)\u001b[0m\u001b[0;34m\u001b[0m\u001b[0;34m\u001b[0m\u001b[0m\n\u001b[0m",
            "\u001b[0;31mAttributeError\u001b[0m: 'tuple' object has no attribute 'sort'"
          ]
        }
      ]
    },
    {
      "cell_type": "code",
      "source": [
        "sorted(A) #converted into list"
      ],
      "metadata": {
        "colab": {
          "base_uri": "https://localhost:8080/"
        },
        "id": "HEKugd4B6Ipq",
        "outputId": "94cddf88-0a26-4cce-8bc9-fb6d47d5c1e3"
      },
      "execution_count": null,
      "outputs": [
        {
          "output_type": "execute_result",
          "data": {
            "text/plain": [
              "[1, 2, 3]"
            ]
          },
          "metadata": {},
          "execution_count": 6
        }
      ]
    },
    {
      "cell_type": "code",
      "source": [
        "len(A)"
      ],
      "metadata": {
        "colab": {
          "base_uri": "https://localhost:8080/"
        },
        "id": "eRiup_O96bCp",
        "outputId": "ce6d94b3-08b3-4283-8c3d-5f9da5591922"
      },
      "execution_count": null,
      "outputs": [
        {
          "output_type": "execute_result",
          "data": {
            "text/plain": [
              "3"
            ]
          },
          "metadata": {},
          "execution_count": 7
        }
      ]
    },
    {
      "cell_type": "code",
      "source": [
        "max(A)"
      ],
      "metadata": {
        "colab": {
          "base_uri": "https://localhost:8080/"
        },
        "id": "8K4IrTuT65Vm",
        "outputId": "99e9e880-83cb-4fb9-dfc6-358a02d14e96"
      },
      "execution_count": null,
      "outputs": [
        {
          "output_type": "execute_result",
          "data": {
            "text/plain": [
              "3"
            ]
          },
          "metadata": {},
          "execution_count": 8
        }
      ]
    },
    {
      "cell_type": "code",
      "source": [
        "min(A)"
      ],
      "metadata": {
        "colab": {
          "base_uri": "https://localhost:8080/"
        },
        "id": "z8RTFufg67Ml",
        "outputId": "23224b27-ac42-418d-d854-903f2bdc433f"
      },
      "execution_count": null,
      "outputs": [
        {
          "output_type": "execute_result",
          "data": {
            "text/plain": [
              "1"
            ]
          },
          "metadata": {},
          "execution_count": 9
        }
      ]
    },
    {
      "cell_type": "code",
      "source": [
        "A.index(2)"
      ],
      "metadata": {
        "colab": {
          "base_uri": "https://localhost:8080/"
        },
        "id": "3SZyzuC968il",
        "outputId": "faea08db-313a-4153-ebce-830f7b68bc29"
      },
      "execution_count": null,
      "outputs": [
        {
          "output_type": "execute_result",
          "data": {
            "text/plain": [
              "1"
            ]
          },
          "metadata": {},
          "execution_count": 10
        }
      ]
    },
    {
      "cell_type": "code",
      "source": [
        "A.count(2)"
      ],
      "metadata": {
        "colab": {
          "base_uri": "https://localhost:8080/"
        },
        "id": "5GcAfuxG6_Sy",
        "outputId": "36fcfec4-f587-44bf-b80b-740d9f349781"
      },
      "execution_count": null,
      "outputs": [
        {
          "output_type": "execute_result",
          "data": {
            "text/plain": [
              "1"
            ]
          },
          "metadata": {},
          "execution_count": 11
        }
      ]
    },
    {
      "cell_type": "code",
      "source": [
        "sum(A)"
      ],
      "metadata": {
        "colab": {
          "base_uri": "https://localhost:8080/"
        },
        "id": "Kqj6Pc227CJ6",
        "outputId": "a5a0d7af-0e29-454b-d3e2-6d35fab5d7e0"
      },
      "execution_count": null,
      "outputs": [
        {
          "output_type": "execute_result",
          "data": {
            "text/plain": [
              "6"
            ]
          },
          "metadata": {},
          "execution_count": 12
        }
      ]
    },
    {
      "cell_type": "code",
      "source": [
        "A.reversed() #tuple does not support this"
      ],
      "metadata": {
        "colab": {
          "base_uri": "https://localhost:8080/",
          "height": 165
        },
        "id": "SCAMTySU7D5d",
        "outputId": "a6e5d323-2701-4cdc-ec7a-a33708b1c6aa"
      },
      "execution_count": null,
      "outputs": [
        {
          "output_type": "error",
          "ename": "AttributeError",
          "evalue": "ignored",
          "traceback": [
            "\u001b[0;31m---------------------------------------------------------------------------\u001b[0m",
            "\u001b[0;31mAttributeError\u001b[0m                            Traceback (most recent call last)",
            "\u001b[0;32m<ipython-input-13-4a93ecf1bb8f>\u001b[0m in \u001b[0;36m<module>\u001b[0;34m\u001b[0m\n\u001b[0;32m----> 1\u001b[0;31m \u001b[0mA\u001b[0m\u001b[0;34m.\u001b[0m\u001b[0mreversed\u001b[0m\u001b[0;34m\u001b[0m\u001b[0;34m\u001b[0m\u001b[0m\n\u001b[0m",
            "\u001b[0;31mAttributeError\u001b[0m: 'tuple' object has no attribute 'reversed'"
          ]
        }
      ]
    },
    {
      "cell_type": "markdown",
      "source": [
        "##When to use tuples?"
      ],
      "metadata": {
        "id": "J_hFhpmk7VD1"
      }
    },
    {
      "cell_type": "markdown",
      "source": [
        "####Tuples are not used often as lists in programming but are used when immutability is necessary.While you are passing around an object & if you need to make sure that it does not get changed then tuple become your solution.It provides a convinient source of data integrity."
      ],
      "metadata": {
        "id": "W2sr2Uog7bO4"
      }
    },
    {
      "cell_type": "code",
      "source": [
        "A = (22,12,34,1)"
      ],
      "metadata": {
        "id": "_AsuNqpk7Ht7"
      },
      "execution_count": null,
      "outputs": []
    },
    {
      "cell_type": "code",
      "source": [
        "A[1:]"
      ],
      "metadata": {
        "colab": {
          "base_uri": "https://localhost:8080/"
        },
        "id": "ShllCsum8PyT",
        "outputId": "a2115f83-a10b-4f5d-ea6e-59eb7fd72b05"
      },
      "execution_count": null,
      "outputs": [
        {
          "output_type": "execute_result",
          "data": {
            "text/plain": [
              "(12, 34, 1)"
            ]
          },
          "metadata": {},
          "execution_count": 16
        }
      ]
    },
    {
      "cell_type": "code",
      "source": [
        "A[::-1]"
      ],
      "metadata": {
        "colab": {
          "base_uri": "https://localhost:8080/"
        },
        "id": "fViT_2LH8KDg",
        "outputId": "d123a0e3-5376-4378-9b43-6c4efccedd2e"
      },
      "execution_count": null,
      "outputs": [
        {
          "output_type": "execute_result",
          "data": {
            "text/plain": [
              "(1, 34, 12, 22)"
            ]
          },
          "metadata": {},
          "execution_count": 17
        }
      ]
    },
    {
      "cell_type": "code",
      "source": [],
      "metadata": {
        "id": "yPvozIoa8L-Z"
      },
      "execution_count": null,
      "outputs": []
    },
    {
      "cell_type": "markdown",
      "source": [
        "#Sets"
      ],
      "metadata": {
        "id": "ke4_Njr08U4E"
      }
    },
    {
      "cell_type": "markdown",
      "source": [
        "Unordered collection of unique elements."
      ],
      "metadata": {
        "id": "i6nrbxDM8kzE"
      }
    },
    {
      "cell_type": "code",
      "source": [
        "x  = {1,2,33,6,7}"
      ],
      "metadata": {
        "id": "mfSd7uwE8WhP"
      },
      "execution_count": null,
      "outputs": []
    },
    {
      "cell_type": "code",
      "source": [
        "type(x)"
      ],
      "metadata": {
        "colab": {
          "base_uri": "https://localhost:8080/"
        },
        "id": "N2lXj4el8wET",
        "outputId": "cde8f44c-1a59-4456-aff9-c1ccd295c435"
      },
      "execution_count": null,
      "outputs": [
        {
          "output_type": "execute_result",
          "data": {
            "text/plain": [
              "set"
            ]
          },
          "metadata": {},
          "execution_count": 19
        }
      ]
    },
    {
      "cell_type": "code",
      "source": [
        "x  = {1,2,33,6,7,7,7}"
      ],
      "metadata": {
        "id": "mXX8Kq_08xck"
      },
      "execution_count": null,
      "outputs": []
    },
    {
      "cell_type": "code",
      "source": [
        "x #it will only contain uniques not duplicates"
      ],
      "metadata": {
        "colab": {
          "base_uri": "https://localhost:8080/"
        },
        "id": "gwkySUep82YS",
        "outputId": "485dd627-0823-4f6f-b8d7-3fd87d539fdf"
      },
      "execution_count": null,
      "outputs": [
        {
          "output_type": "execute_result",
          "data": {
            "text/plain": [
              "{1, 2, 6, 7, 33}"
            ]
          },
          "metadata": {},
          "execution_count": 21
        }
      ]
    },
    {
      "cell_type": "code",
      "source": [
        "x[0] #not allowed as set is unordered"
      ],
      "metadata": {
        "colab": {
          "base_uri": "https://localhost:8080/",
          "height": 165
        },
        "id": "h-qNMtk583Pm",
        "outputId": "8377e8d5-6409-423f-841b-493efe861f54"
      },
      "execution_count": null,
      "outputs": [
        {
          "output_type": "error",
          "ename": "TypeError",
          "evalue": "ignored",
          "traceback": [
            "\u001b[0;31m---------------------------------------------------------------------------\u001b[0m",
            "\u001b[0;31mTypeError\u001b[0m                                 Traceback (most recent call last)",
            "\u001b[0;32m<ipython-input-22-2f755f117ac9>\u001b[0m in \u001b[0;36m<module>\u001b[0;34m\u001b[0m\n\u001b[0;32m----> 1\u001b[0;31m \u001b[0mx\u001b[0m\u001b[0;34m[\u001b[0m\u001b[0;36m0\u001b[0m\u001b[0;34m]\u001b[0m\u001b[0;34m\u001b[0m\u001b[0;34m\u001b[0m\u001b[0m\n\u001b[0m",
            "\u001b[0;31mTypeError\u001b[0m: 'set' object is not subscriptable"
          ]
        }
      ]
    },
    {
      "cell_type": "code",
      "source": [
        "x  = {1,2,33,6,\"sunny\"}"
      ],
      "metadata": {
        "id": "K1ZWMZLs9Ggj"
      },
      "execution_count": null,
      "outputs": []
    },
    {
      "cell_type": "code",
      "source": [
        "x"
      ],
      "metadata": {
        "colab": {
          "base_uri": "https://localhost:8080/"
        },
        "id": "-b8AXvUv9ZdI",
        "outputId": "c933b8fe-ee8b-45f1-b7d2-73d8df1ec9e2"
      },
      "execution_count": null,
      "outputs": [
        {
          "output_type": "execute_result",
          "data": {
            "text/plain": [
              "{1, 2, 33, 6, 'sunny'}"
            ]
          },
          "metadata": {},
          "execution_count": 24
        }
      ]
    },
    {
      "cell_type": "code",
      "source": [
        "x.add(99)"
      ],
      "metadata": {
        "id": "nwVabnlT9aKJ"
      },
      "execution_count": null,
      "outputs": []
    },
    {
      "cell_type": "code",
      "source": [
        "x"
      ],
      "metadata": {
        "colab": {
          "base_uri": "https://localhost:8080/"
        },
        "id": "GUXW7cFG9oER",
        "outputId": "acbe77ef-9170-467f-cc83-f0a17f20c274"
      },
      "execution_count": null,
      "outputs": [
        {
          "output_type": "execute_result",
          "data": {
            "text/plain": [
              "{1, 2, 33, 6, 99, 'sunny'}"
            ]
          },
          "metadata": {},
          "execution_count": 26
        }
      ]
    },
    {
      "cell_type": "markdown",
      "source": [
        "append is not allowed in set"
      ],
      "metadata": {
        "id": "iug7dHVX9vG5"
      }
    },
    {
      "cell_type": "markdown",
      "source": [
        "A+B in set is not allowed"
      ],
      "metadata": {
        "id": "3IeJcBci90sQ"
      }
    },
    {
      "cell_type": "code",
      "source": [
        "#return the list with unique elements\n",
        "A = [1,2,3,5,5,6,7,7,7]"
      ],
      "metadata": {
        "id": "__ZwwbYH9rx6"
      },
      "execution_count": null,
      "outputs": []
    },
    {
      "cell_type": "code",
      "source": [
        "A = list(set(A))"
      ],
      "metadata": {
        "id": "fUWkwg1u-Iu0"
      },
      "execution_count": null,
      "outputs": []
    },
    {
      "cell_type": "code",
      "source": [
        "A"
      ],
      "metadata": {
        "colab": {
          "base_uri": "https://localhost:8080/"
        },
        "id": "SyXGYmtY-QeM",
        "outputId": "8c4b3c89-5a59-4416-e106-bc7e1779bf8f"
      },
      "execution_count": null,
      "outputs": [
        {
          "output_type": "execute_result",
          "data": {
            "text/plain": [
              "[1, 2, 3, 5, 6, 7]"
            ]
          },
          "metadata": {},
          "execution_count": 29
        }
      ]
    },
    {
      "cell_type": "code",
      "source": [
        "A = [1,2,3,5,5,6,7,7,7]\n",
        "A = set(A)"
      ],
      "metadata": {
        "id": "Amf1DS0M-R89"
      },
      "execution_count": null,
      "outputs": []
    },
    {
      "cell_type": "code",
      "source": [
        "A #coverted into set"
      ],
      "metadata": {
        "colab": {
          "base_uri": "https://localhost:8080/"
        },
        "id": "HriMgBkJE8kW",
        "outputId": "aa337915-cc57-4301-d1d8-96e77f4b59dc"
      },
      "execution_count": null,
      "outputs": [
        {
          "output_type": "execute_result",
          "data": {
            "text/plain": [
              "{1, 2, 3, 5, 6, 7}"
            ]
          },
          "metadata": {},
          "execution_count": 3
        }
      ]
    },
    {
      "cell_type": "markdown",
      "source": [
        "#Function"
      ],
      "metadata": {
        "id": "2I3Xkhx1FTy6"
      }
    },
    {
      "cell_type": "code",
      "source": [
        "def test(): #def is used to define a function\n",
        "  pass"
      ],
      "metadata": {
        "id": "1JvVgiDRFJcb"
      },
      "execution_count": null,
      "outputs": []
    },
    {
      "cell_type": "code",
      "source": [
        "def test1():\n",
        "  print(\"This is my very first function\")"
      ],
      "metadata": {
        "id": "AjKOVhiQGBov"
      },
      "execution_count": null,
      "outputs": []
    },
    {
      "cell_type": "code",
      "source": [
        "test1()"
      ],
      "metadata": {
        "colab": {
          "base_uri": "https://localhost:8080/"
        },
        "id": "aSlqMNYWGSOI",
        "outputId": "b0247bfe-6144-467f-fc17-2acd1910c4e4"
      },
      "execution_count": null,
      "outputs": [
        {
          "output_type": "stream",
          "name": "stdout",
          "text": [
            "This is my very first function\n"
          ]
        }
      ]
    },
    {
      "cell_type": "code",
      "source": [
        "a = 1\n",
        "b = test1()"
      ],
      "metadata": {
        "colab": {
          "base_uri": "https://localhost:8080/"
        },
        "id": "37BtrImrGUK2",
        "outputId": "003bcf48-176c-4a11-9267-c6c758fe916a"
      },
      "execution_count": null,
      "outputs": [
        {
          "output_type": "stream",
          "name": "stdout",
          "text": [
            "This is my very first function\n"
          ]
        }
      ]
    },
    {
      "cell_type": "code",
      "source": [
        "b"
      ],
      "metadata": {
        "id": "nvXt4FRRGcsd"
      },
      "execution_count": null,
      "outputs": []
    },
    {
      "cell_type": "code",
      "source": [
        "print(b)"
      ],
      "metadata": {
        "colab": {
          "base_uri": "https://localhost:8080/"
        },
        "id": "txTC5zGSGe90",
        "outputId": "f5efd1e7-321c-4f81-e6ff-181db0ca6caf"
      },
      "execution_count": null,
      "outputs": [
        {
          "output_type": "stream",
          "name": "stdout",
          "text": [
            "None\n"
          ]
        }
      ]
    },
    {
      "cell_type": "code",
      "source": [
        "type(b)"
      ],
      "metadata": {
        "colab": {
          "base_uri": "https://localhost:8080/"
        },
        "id": "XGDqvKbBGjLv",
        "outputId": "51b62dbb-59b4-4e6b-822f-e395d8c8d4a0"
      },
      "execution_count": null,
      "outputs": [
        {
          "output_type": "execute_result",
          "data": {
            "text/plain": [
              "NoneType"
            ]
          },
          "metadata": {},
          "execution_count": 10
        }
      ]
    },
    {
      "cell_type": "code",
      "source": [
        "type(test1())"
      ],
      "metadata": {
        "colab": {
          "base_uri": "https://localhost:8080/"
        },
        "id": "WuEnCMA3GmYh",
        "outputId": "a82c8556-a09b-4f02-9784-352a6386e319"
      },
      "execution_count": null,
      "outputs": [
        {
          "output_type": "stream",
          "name": "stdout",
          "text": [
            "This is my very first function\n"
          ]
        },
        {
          "output_type": "execute_result",
          "data": {
            "text/plain": [
              "NoneType"
            ]
          },
          "metadata": {},
          "execution_count": 11
        }
      ]
    },
    {
      "cell_type": "markdown",
      "source": [
        "Function with return"
      ],
      "metadata": {
        "id": "4qrHrDVoGuNE"
      }
    },
    {
      "cell_type": "code",
      "source": [
        "def test2():\n",
        "  return 5 #returns or assign value to defined function"
      ],
      "metadata": {
        "id": "u-q-gfhiGpnO"
      },
      "execution_count": null,
      "outputs": []
    },
    {
      "cell_type": "code",
      "source": [
        "test2()"
      ],
      "metadata": {
        "colab": {
          "base_uri": "https://localhost:8080/"
        },
        "id": "nirchTGSG1ib",
        "outputId": "a7128c2c-ea74-426b-e1d2-3735cd9e4ee4"
      },
      "execution_count": null,
      "outputs": [
        {
          "output_type": "execute_result",
          "data": {
            "text/plain": [
              "5"
            ]
          },
          "metadata": {},
          "execution_count": 13
        }
      ]
    },
    {
      "cell_type": "code",
      "source": [
        "d = test2()"
      ],
      "metadata": {
        "id": "5NWLP3oNG3Ar"
      },
      "execution_count": null,
      "outputs": []
    },
    {
      "cell_type": "code",
      "source": [
        "d"
      ],
      "metadata": {
        "colab": {
          "base_uri": "https://localhost:8080/"
        },
        "id": "xT5od11RHDTV",
        "outputId": "be652ae0-e14b-478c-a77b-e767c2943534"
      },
      "execution_count": null,
      "outputs": [
        {
          "output_type": "execute_result",
          "data": {
            "text/plain": [
              "5"
            ]
          },
          "metadata": {},
          "execution_count": 15
        }
      ]
    },
    {
      "cell_type": "code",
      "source": [
        "def test3():\n",
        "  return 6"
      ],
      "metadata": {
        "id": "QHokYEhYHD3H"
      },
      "execution_count": null,
      "outputs": []
    },
    {
      "cell_type": "code",
      "source": [
        "test3()"
      ],
      "metadata": {
        "colab": {
          "base_uri": "https://localhost:8080/"
        },
        "id": "y_6140lfHKnP",
        "outputId": "9d3150ad-58c7-439f-9291-6a776157c0dd"
      },
      "execution_count": null,
      "outputs": [
        {
          "output_type": "execute_result",
          "data": {
            "text/plain": [
              "6"
            ]
          },
          "metadata": {},
          "execution_count": 18
        }
      ]
    },
    {
      "cell_type": "code",
      "source": [
        "def test4():\n",
        "  print(\"this is my hometown\")"
      ],
      "metadata": {
        "id": "BA23eJ7sHPGG"
      },
      "execution_count": null,
      "outputs": []
    },
    {
      "cell_type": "code",
      "source": [
        "test4()"
      ],
      "metadata": {
        "colab": {
          "base_uri": "https://localhost:8080/"
        },
        "id": "8RrDtPzrHeOZ",
        "outputId": "b4c3e85c-3f84-4532-8694-cb81e90b395f"
      },
      "execution_count": null,
      "outputs": [
        {
          "output_type": "stream",
          "name": "stdout",
          "text": [
            "this is my hometown\n"
          ]
        }
      ]
    },
    {
      "cell_type": "code",
      "source": [
        "def test6():\n",
        "  return 1,3,[3,4,5,'sudh'],(3,4,5,6) #if we do not write as string,list it will make it tuple"
      ],
      "metadata": {
        "id": "nODh5C9_Hf-g"
      },
      "execution_count": null,
      "outputs": []
    },
    {
      "cell_type": "code",
      "source": [
        "test6()"
      ],
      "metadata": {
        "colab": {
          "base_uri": "https://localhost:8080/"
        },
        "id": "gM0ZGt2gHxZm",
        "outputId": "2e166a20-2ae2-4593-8bee-5074a4d252d1"
      },
      "execution_count": null,
      "outputs": [
        {
          "output_type": "execute_result",
          "data": {
            "text/plain": [
              "(1, 3, [3, 4, 5, 'sudh'], (3, 4, 5, 6))"
            ]
          },
          "metadata": {},
          "execution_count": 22
        }
      ]
    },
    {
      "cell_type": "code",
      "source": [
        "type(test6())"
      ],
      "metadata": {
        "colab": {
          "base_uri": "https://localhost:8080/"
        },
        "id": "ucv2KnxVHzKX",
        "outputId": "f4d8349a-1a60-456e-ec74-730d4368d720"
      },
      "execution_count": null,
      "outputs": [
        {
          "output_type": "execute_result",
          "data": {
            "text/plain": [
              "tuple"
            ]
          },
          "metadata": {},
          "execution_count": 23
        }
      ]
    },
    {
      "cell_type": "code",
      "source": [
        "test6()[1]"
      ],
      "metadata": {
        "colab": {
          "base_uri": "https://localhost:8080/"
        },
        "id": "aRm2GYA5IGBQ",
        "outputId": "6c772582-b6ed-430c-a9c6-98af27a9b3e4"
      },
      "execution_count": null,
      "outputs": [
        {
          "output_type": "execute_result",
          "data": {
            "text/plain": [
              "3"
            ]
          },
          "metadata": {},
          "execution_count": 24
        }
      ]
    },
    {
      "cell_type": "code",
      "source": [
        "test6()[2]"
      ],
      "metadata": {
        "colab": {
          "base_uri": "https://localhost:8080/"
        },
        "id": "G5m1nVotIY4D",
        "outputId": "01d94ac6-4d89-48b7-8b83-811cf0b82cda"
      },
      "execution_count": null,
      "outputs": [
        {
          "output_type": "execute_result",
          "data": {
            "text/plain": [
              "[3, 4, 5, 'sudh']"
            ]
          },
          "metadata": {},
          "execution_count": 26
        }
      ]
    },
    {
      "cell_type": "code",
      "source": [
        "def test7():\n",
        "  return 1,3,[3,4,5,'sudh'],(3,4,5,6)"
      ],
      "metadata": {
        "id": "pZShjfi4IdYH"
      },
      "execution_count": null,
      "outputs": []
    },
    {
      "cell_type": "code",
      "source": [
        "a,b,c,d = test7()"
      ],
      "metadata": {
        "id": "DgehjNTvI0gy"
      },
      "execution_count": null,
      "outputs": []
    },
    {
      "cell_type": "code",
      "source": [
        "a"
      ],
      "metadata": {
        "colab": {
          "base_uri": "https://localhost:8080/"
        },
        "id": "QePfnhVcI3FA",
        "outputId": "369926ab-3036-45ee-8285-bbb630c0f503"
      },
      "execution_count": null,
      "outputs": [
        {
          "output_type": "execute_result",
          "data": {
            "text/plain": [
              "1"
            ]
          },
          "metadata": {},
          "execution_count": 30
        }
      ]
    },
    {
      "cell_type": "code",
      "source": [
        "b"
      ],
      "metadata": {
        "colab": {
          "base_uri": "https://localhost:8080/"
        },
        "id": "8G3FerNCI9Nv",
        "outputId": "f5f47c8f-ddf1-4b53-f8b4-74236ac8b70d"
      },
      "execution_count": null,
      "outputs": [
        {
          "output_type": "execute_result",
          "data": {
            "text/plain": [
              "3"
            ]
          },
          "metadata": {},
          "execution_count": 31
        }
      ]
    },
    {
      "cell_type": "code",
      "source": [
        "c"
      ],
      "metadata": {
        "colab": {
          "base_uri": "https://localhost:8080/"
        },
        "id": "fSQDtAMyI-fD",
        "outputId": "b4edc8e8-d875-4842-a5c5-e52aa218e210"
      },
      "execution_count": null,
      "outputs": [
        {
          "output_type": "execute_result",
          "data": {
            "text/plain": [
              "[3, 4, 5, 'sudh']"
            ]
          },
          "metadata": {},
          "execution_count": 32
        }
      ]
    },
    {
      "cell_type": "code",
      "source": [
        "d"
      ],
      "metadata": {
        "colab": {
          "base_uri": "https://localhost:8080/"
        },
        "id": "dlhnkP4dI_GL",
        "outputId": "9576bbe3-1948-4afb-b34e-f1f79ec4cd1a"
      },
      "execution_count": null,
      "outputs": [
        {
          "output_type": "execute_result",
          "data": {
            "text/plain": [
              "(3, 4, 5, 6)"
            ]
          },
          "metadata": {},
          "execution_count": 33
        }
      ]
    },
    {
      "cell_type": "code",
      "source": [
        "a = 1\n",
        "b = 2\n",
        "c = 3"
      ],
      "metadata": {
        "id": "KZnE6vn7I_1u"
      },
      "execution_count": null,
      "outputs": []
    },
    {
      "cell_type": "markdown",
      "source": [
        "or"
      ],
      "metadata": {
        "id": "Kc4QWfyJJHQF"
      }
    },
    {
      "cell_type": "code",
      "source": [
        "a,b,c = 1,2,3 #both are same #this is multi assignment"
      ],
      "metadata": {
        "id": "WhtLfIoXJH-z"
      },
      "execution_count": null,
      "outputs": []
    },
    {
      "cell_type": "code",
      "source": [
        "def test8():\n",
        "  a = 4*5+8\n",
        "  return a"
      ],
      "metadata": {
        "id": "ZKk941GtJOox"
      },
      "execution_count": null,
      "outputs": []
    },
    {
      "cell_type": "code",
      "source": [
        "test8()"
      ],
      "metadata": {
        "colab": {
          "base_uri": "https://localhost:8080/"
        },
        "id": "n62iwCGVJbh4",
        "outputId": "a78773cc-21e7-4d68-e9cf-f640619497a5"
      },
      "execution_count": null,
      "outputs": [
        {
          "output_type": "execute_result",
          "data": {
            "text/plain": [
              "28"
            ]
          },
          "metadata": {},
          "execution_count": 37
        }
      ]
    },
    {
      "cell_type": "code",
      "source": [
        "test8()+8"
      ],
      "metadata": {
        "colab": {
          "base_uri": "https://localhost:8080/"
        },
        "id": "L2jqPZKPJcz7",
        "outputId": "e524a035-b3cc-4082-a5f9-86351883bb3a"
      },
      "execution_count": null,
      "outputs": [
        {
          "output_type": "execute_result",
          "data": {
            "text/plain": [
              "36"
            ]
          },
          "metadata": {},
          "execution_count": 39
        }
      ]
    },
    {
      "cell_type": "code",
      "source": [
        "l = [2,3,4,5,6,7,8,9]\n",
        "a = 0\n",
        "for i in l:\n",
        "  a = i+a\n",
        "print(a)\n"
      ],
      "metadata": {
        "colab": {
          "base_uri": "https://localhost:8080/"
        },
        "id": "s00rszCZJg0x",
        "outputId": "21f6b00b-3b29-474f-9322-7bb9da2827ba"
      },
      "execution_count": null,
      "outputs": [
        {
          "output_type": "stream",
          "name": "stdout",
          "text": [
            "44\n"
          ]
        }
      ]
    },
    {
      "cell_type": "code",
      "source": [
        "#doubt\n",
        "l = [2,3,4,5,6,7,8,9,\"sudh\"]\n",
        "def test10(l):\n",
        "  a = 0\n",
        "  for i in l:\n",
        "      a = i+a\n",
        "      if type(i)==int:\n",
        "        return a"
      ],
      "metadata": {
        "id": "opMwD_2tK-y3"
      },
      "execution_count": null,
      "outputs": []
    },
    {
      "cell_type": "code",
      "source": [
        "test10(l)"
      ],
      "metadata": {
        "colab": {
          "base_uri": "https://localhost:8080/"
        },
        "id": "NjYECV66Lrs3",
        "outputId": "ee54a254-7217-4d44-8e16-269d008be82c"
      },
      "execution_count": null,
      "outputs": [
        {
          "output_type": "execute_result",
          "data": {
            "text/plain": [
              "2"
            ]
          },
          "metadata": {},
          "execution_count": 74
        }
      ]
    },
    {
      "cell_type": "code",
      "source": [
        "def test11(a,b):\n",
        "  return a+b\n",
        "test11(2,3)"
      ],
      "metadata": {
        "colab": {
          "base_uri": "https://localhost:8080/"
        },
        "id": "-8V7duDkMgol",
        "outputId": "d3abf065-9749-4965-c7ab-08365a061eac"
      },
      "execution_count": null,
      "outputs": [
        {
          "output_type": "execute_result",
          "data": {
            "text/plain": [
              "5"
            ]
          },
          "metadata": {},
          "execution_count": 75
        }
      ]
    },
    {
      "cell_type": "code",
      "source": [
        "test11('sudh','kumar')"
      ],
      "metadata": {
        "colab": {
          "base_uri": "https://localhost:8080/",
          "height": 36
        },
        "id": "AseYQyIhNZUJ",
        "outputId": "7eb900b0-74d3-461b-98b7-93b51f14e353"
      },
      "execution_count": null,
      "outputs": [
        {
          "output_type": "execute_result",
          "data": {
            "text/plain": [
              "'sudhkumar'"
            ],
            "application/vnd.google.colaboratory.intrinsic+json": {
              "type": "string"
            }
          },
          "metadata": {},
          "execution_count": 76
        }
      ]
    },
    {
      "cell_type": "code",
      "source": [
        "test11(a=7,b=5)"
      ],
      "metadata": {
        "colab": {
          "base_uri": "https://localhost:8080/"
        },
        "id": "FPAV4BzINhoY",
        "outputId": "c052356d-1e0f-4624-ace3-17405d6726f1"
      },
      "execution_count": null,
      "outputs": [
        {
          "output_type": "execute_result",
          "data": {
            "text/plain": [
              "12"
            ]
          },
          "metadata": {},
          "execution_count": 77
        }
      ]
    },
    {
      "cell_type": "code",
      "source": [],
      "metadata": {
        "id": "NfW3P_G3r_Xb"
      },
      "execution_count": null,
      "outputs": []
    }
  ]
}