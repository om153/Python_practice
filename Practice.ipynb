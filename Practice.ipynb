{
  "nbformat": 4,
  "nbformat_minor": 0,
  "metadata": {
    "colab": {
      "provenance": [],
      "authorship_tag": "ABX9TyPSBjvy/QQ2p58jrvqKP9o6",
      "include_colab_link": true
    },
    "kernelspec": {
      "name": "python3",
      "display_name": "Python 3"
    },
    "language_info": {
      "name": "python"
    }
  },
  "cells": [
    {
      "cell_type": "markdown",
      "metadata": {
        "id": "view-in-github",
        "colab_type": "text"
      },
      "source": [
        "<a href=\"https://colab.research.google.com/github/om153/Python_practice/blob/main/Practice.ipynb\" target=\"_parent\"><img src=\"https://colab.research.google.com/assets/colab-badge.svg\" alt=\"Open In Colab\"/></a>"
      ]
    },
    {
      "cell_type": "markdown",
      "source": [
        "#19/11/2022"
      ],
      "metadata": {
        "id": "DyMC3j-HYeid"
      }
    },
    {
      "cell_type": "markdown",
      "source": [
        "1. Print the first 5 positive integers in ascending order with one number\n",
        "in each line"
      ],
      "metadata": {
        "id": "9xacrDaosdEI"
      }
    },
    {
      "cell_type": "code",
      "source": [
        "for i in range(5):\n",
        "  print(i+1)\n"
      ],
      "metadata": {
        "id": "5aTy-EYyXAGl",
        "colab": {
          "base_uri": "https://localhost:8080/"
        },
        "outputId": "7ceaece6-68a9-47d1-859e-bbd270d7b27a"
      },
      "execution_count": null,
      "outputs": [
        {
          "output_type": "stream",
          "name": "stdout",
          "text": [
            "1\n",
            "2\n",
            "3\n",
            "4\n",
            "5\n"
          ]
        }
      ]
    },
    {
      "cell_type": "markdown",
      "source": [
        "3. Accept an integer as input and print its square as output."
      ],
      "metadata": {
        "id": "nqPeU3641EKQ"
      }
    },
    {
      "cell_type": "code",
      "source": [
        "number = int(input(\"Enter the number: \"))\n",
        "print(number**2)"
      ],
      "metadata": {
        "colab": {
          "base_uri": "https://localhost:8080/"
        },
        "id": "zqrjaSId1FSk",
        "outputId": "f0d648dc-1b91-4be1-816c-6f75b5700314"
      },
      "execution_count": null,
      "outputs": [
        {
          "output_type": "stream",
          "name": "stdout",
          "text": [
            "Enter the number: 25\n",
            "625\n"
          ]
        }
      ]
    },
    {
      "cell_type": "markdown",
      "source": [
        "4.Accept two integers as input and print their sum as output.\n"
      ],
      "metadata": {
        "id": "8O_An0Zp1nvx"
      }
    },
    {
      "cell_type": "code",
      "source": [
        "a = int(input(\"Enter the number 1: \"))\n",
        "b = int(input(\"Enter the number 2: \"))\n",
        "print(a+b)"
      ],
      "metadata": {
        "colab": {
          "base_uri": "https://localhost:8080/"
        },
        "id": "zPEQSuPe1oTF",
        "outputId": "560c27ab-35c0-453c-8e50-72bf76138a74"
      },
      "execution_count": null,
      "outputs": [
        {
          "output_type": "stream",
          "name": "stdout",
          "text": [
            "Enter the number 1: 25\n",
            "Enter the number 2: 50\n",
            "75\n"
          ]
        }
      ]
    },
    {
      "cell_type": "markdown",
      "source": [
        "5. Accept two words as input and print the two words after adding a\n",
        "space between them"
      ],
      "metadata": {
        "id": "iol5lTEC2JPm"
      }
    },
    {
      "cell_type": "code",
      "source": [
        "word1 = str(input(\"Enter the first word: \"))\n",
        "word2 = str(input(\"Enter the 2nd word: \"))\n",
        "print(f\"{word1} {word2}\")"
      ],
      "metadata": {
        "colab": {
          "base_uri": "https://localhost:8080/"
        },
        "id": "q1XBv_Mi1o7C",
        "outputId": "eb388544-c98c-4699-d5b4-4ec791dcd05e"
      },
      "execution_count": null,
      "outputs": [
        {
          "output_type": "stream",
          "name": "stdout",
          "text": [
            "Enter the first word: om ekande\n",
            "Enter the 2nd word: omi\n",
            "om ekande omi\n"
          ]
        }
      ]
    },
    {
      "cell_type": "markdown",
      "source": [
        "or"
      ],
      "metadata": {
        "id": "G8F0I_8H3G1j"
      }
    },
    {
      "cell_type": "code",
      "source": [
        "print(input(), input())"
      ],
      "metadata": {
        "colab": {
          "base_uri": "https://localhost:8080/"
        },
        "id": "qCGsLb6J3F3d",
        "outputId": "ca9b825c-8063-4e35-9997-034b592862a2"
      },
      "execution_count": null,
      "outputs": [
        {
          "output_type": "stream",
          "name": "stdout",
          "text": [
            "om\n",
            "ekande\n",
            "om ekande\n"
          ]
        }
      ]
    },
    {
      "cell_type": "markdown",
      "source": [
        "6. Accept the registration number of a vehicle as input and print its\n",
        "state-code as output."
      ],
      "metadata": {
        "id": "MyQDK2Tw3H7C"
      }
    },
    {
      "cell_type": "code",
      "source": [
        "vehicle_num = input(\"Enter the number of your vehicle: \")\n",
        "vehicle_num[0:2]"
      ],
      "metadata": {
        "colab": {
          "base_uri": "https://localhost:8080/",
          "height": 53
        },
        "id": "LsoxJUCp3NeC",
        "outputId": "517ad431-9476-4f1d-e9ba-a6380838bf0f"
      },
      "execution_count": null,
      "outputs": [
        {
          "name": "stdout",
          "output_type": "stream",
          "text": [
            "Enter the number of your vehicle: MH09EK1276\n"
          ]
        },
        {
          "output_type": "execute_result",
          "data": {
            "text/plain": [
              "'MH'"
            ],
            "application/vnd.google.colaboratory.intrinsic+json": {
              "type": "string"
            }
          },
          "metadata": {},
          "execution_count": 11
        }
      ]
    },
    {
      "cell_type": "markdown",
      "source": [
        "7.Accept a five-digit number as input and print the sum of its digits as\n",
        "output."
      ],
      "metadata": {
        "id": "tDMZ7uNk3vzz"
      }
    },
    {
      "cell_type": "code",
      "source": [
        "num = input()\n",
        "d1 = int(num[0])\n",
        "d2 = int(num[1])\n",
        "d3 = int(num[2])\n",
        "d4 = int(num[3])\n",
        "d5 = int(num[4])\n",
        "dsum = d1 + d2 + d3 + d4 + d5\n",
        "print(dsum)"
      ],
      "metadata": {
        "colab": {
          "base_uri": "https://localhost:8080/"
        },
        "id": "nWA2UOQP3OCg",
        "outputId": "9045b029-c21d-4a51-dc12-a864fc6ecddc"
      },
      "execution_count": null,
      "outputs": [
        {
          "output_type": "stream",
          "name": "stdout",
          "text": [
            "12345\n",
            "15\n"
          ]
        }
      ]
    },
    {
      "cell_type": "markdown",
      "source": [
        "8.Accept five words as input and print the sentence formed by these\n",
        "words after adding a space between consecutive words and a full stop\n",
        "at the end."
      ],
      "metadata": {
        "id": "QwERTjoq4pYI"
      }
    },
    {
      "cell_type": "code",
      "source": [
        "wrd1 = input()\n",
        "wrd2 = input()\n",
        "wrd3 = input()\n",
        "wrd4 = input()\n",
        "wrd5 = input()\n",
        "print(f\"{wrd1} {wrd2} {wrd3} {wrd4} {wrd5}.\")"
      ],
      "metadata": {
        "colab": {
          "base_uri": "https://localhost:8080/"
        },
        "id": "cF7y5Qll4qHI",
        "outputId": "a0dacf5a-ff32-4509-eb9e-9b5081cbe7c8"
      },
      "execution_count": null,
      "outputs": [
        {
          "output_type": "stream",
          "name": "stdout",
          "text": [
            "om\n",
            "ritesh\n",
            "shubham\n",
            "sairaj\n",
            "chetan\n",
            "om ritesh shubham sairaj chetan.\n"
          ]
        }
      ]
    },
    {
      "cell_type": "markdown",
      "source": [
        "or"
      ],
      "metadata": {
        "id": "0LNE4nSW4qwC"
      }
    },
    {
      "cell_type": "code",
      "source": [
        "word1 = input()\n",
        "word2 = input()\n",
        "word3 = input()\n",
        "word4 = input()\n",
        "word5 = input()\n",
        "space = ' '\n",
        "stop = '.'\n",
        "sentence = word1 + space + word2 + space + word3 + space + word4 + space + word5 + stop\n",
        "print(sentence)"
      ],
      "metadata": {
        "colab": {
          "base_uri": "https://localhost:8080/"
        },
        "id": "Ou7IVcRY4rTz",
        "outputId": "96381a2b-99c7-4bbe-81ee-cb71279fe01d"
      },
      "execution_count": null,
      "outputs": [
        {
          "output_type": "stream",
          "name": "stdout",
          "text": [
            "om\n",
            "ritesh\n",
            "sairaj\n",
            "shubham\n",
            "chetan\n",
            "om ritesh sairaj shubham chetan.\n"
          ]
        }
      ]
    },
    {
      "cell_type": "markdown",
      "source": [
        "9.Accept the date in DD-MM-YYYY format as input and print the\n",
        "year as output."
      ],
      "metadata": {
        "id": "gBvHjYWF5TvC"
      }
    },
    {
      "cell_type": "code",
      "source": [
        "date = input(\"Enter date in DD/MM/YY format: \")\n",
        "print(date[6:])"
      ],
      "metadata": {
        "colab": {
          "base_uri": "https://localhost:8080/"
        },
        "id": "71g7epZn5UWJ",
        "outputId": "7c9f1e10-6756-431f-de84-b51e9a6b74cb"
      },
      "execution_count": null,
      "outputs": [
        {
          "output_type": "stream",
          "name": "stdout",
          "text": [
            "Enter date in DD/MM/YY format: 21/11/2022\n",
            "2022\n"
          ]
        }
      ]
    },
    {
      "cell_type": "markdown",
      "source": [
        "10.Accept a sequence of five single digit numbers separated by commas\n",
        "as input. Print the product of all five numbers."
      ],
      "metadata": {
        "id": "N4bwK6615VY3"
      }
    },
    {
      "cell_type": "code",
      "source": [
        "num = input()\n",
        "d1 = int(num[0])\n",
        "d2 = int(num[2])\n",
        "d3 = int(num[4])\n",
        "d4 = int(num[6])\n",
        "d5 = int(num[8])\n",
        "dprod = d1 * d2 * d3 * d4 * d5\n",
        "print(dprod)"
      ],
      "metadata": {
        "colab": {
          "base_uri": "https://localhost:8080/"
        },
        "id": "VsbZ8jFN5V99",
        "outputId": "e8dee0cd-2a67-4c43-8ceb-137b334e2ec3"
      },
      "execution_count": null,
      "outputs": [
        {
          "output_type": "stream",
          "name": "stdout",
          "text": [
            "1,2,3,4,5\n",
            "120\n"
          ]
        }
      ]
    },
    {
      "cell_type": "markdown",
      "source": [
        "11. Accept two positive integers x and y as input. Print the number of\n",
        "digits in xy"
      ],
      "metadata": {
        "id": "sJFv0wYE6GDC"
      }
    },
    {
      "cell_type": "code",
      "source": [
        "x = int(input())\n",
        "y  = int(input())\n",
        "mul = x*y\n",
        "mul_str = str(mul)\n",
        "print(len(mul_str))"
      ],
      "metadata": {
        "colab": {
          "base_uri": "https://localhost:8080/"
        },
        "id": "Lka3rDi_6GfL",
        "outputId": "441042a5-d56a-4764-939f-c14af38e34a5"
      },
      "execution_count": null,
      "outputs": [
        {
          "output_type": "stream",
          "name": "stdout",
          "text": [
            "5\n",
            "6\n",
            "2\n"
          ]
        }
      ]
    },
    {
      "cell_type": "markdown",
      "source": [
        "12. Accept a string as input. If the input string is of odd length, then\n",
        "continue with it. If the input string is of even length, make the\n",
        "string of odd length as below:\n",
        "• If the last character is a period (.), then remove it\n",
        "• If the last character is not a period, then add a period (.) to the\n",
        "end of the string\n",
        "Call this string of odd length word. Select a substring made up of\n",
        "three consecutive characters from word such that there are an\n",
        "equal number of characters to the left and right of this substring.\n",
        "Print this substring as output. You can assume that all input\n",
        "strings will be in lower case and will have a length of at least four"
      ],
      "metadata": {
        "id": "oFo9iQrF6HGq"
      }
    },
    {
      "cell_type": "code",
      "source": [
        "s = input()\n",
        "n = len(s)\n",
        "if n%2 == 0:\n",
        "    if s[n-1]=='.':\n",
        "        s=s[:-1]\n",
        "    else:\n",
        "        s=s+'.'\n",
        "n = int((len(s)-1)/2)\n",
        "print(s[n-1: n+2])"
      ],
      "metadata": {
        "colab": {
          "base_uri": "https://localhost:8080/"
        },
        "id": "mpmif81E6HiU",
        "outputId": "13802331-ce55-42e6-ea4f-b397a3564c9a"
      },
      "execution_count": null,
      "outputs": [
        {
          "output_type": "stream",
          "name": "stdout",
          "text": [
            "om\n",
            "om.\n"
          ]
        }
      ]
    },
    {
      "cell_type": "code",
      "source": [
        "s = input()\n",
        "n = len(s)\n",
        "if n%2 == 0:\n",
        "    if s[n-1]=='.':\n",
        "        s=s[:-1]\n",
        "    else:\n",
        "        s=s+'.'\n",
        "n = int((len(s)-1)/2)\n",
        "print(s[n-1: n+2])"
      ],
      "metadata": {
        "colab": {
          "base_uri": "https://localhost:8080/"
        },
        "id": "hyn8Cv48xeF4",
        "outputId": "20d82095-b88a-4e35-fa84-1722224973d6"
      },
      "execution_count": null,
      "outputs": [
        {
          "output_type": "stream",
          "name": "stdout",
          "text": [
            "ekand\n",
            "kan\n"
          ]
        }
      ]
    },
    {
      "cell_type": "markdown",
      "source": [
        "13. Accept three positive integers as input and check if they form the\n",
        "sides of a right triangle. Print YES if they form one, and NO is they do\n",
        "not. The input will have three lines, with one integer on each line.\n",
        "The output should be a single line containing one of these two\n",
        "strings: YES or NO."
      ],
      "metadata": {
        "id": "wpV_O-ML3yKA"
      }
    },
    {
      "cell_type": "code",
      "source": [
        "x = int(input())\n",
        "y = int(input())\n",
        "z = int(input())\n",
        "if (x ** 2 + y ** 2 == z ** 2) or (z ** 2 + y ** 2 == x ** 2) or (z ** 2 + x ** 2 == y ** 2):\n",
        "  print(\"YES\")\n",
        "else:\n",
        "  print(\"NO\")"
      ],
      "metadata": {
        "colab": {
          "base_uri": "https://localhost:8080/"
        },
        "id": "BmhQDv3q3yyv",
        "outputId": "eb06df49-aa32-4799-f2d4-344a45e03cba"
      },
      "execution_count": null,
      "outputs": [
        {
          "output_type": "stream",
          "name": "stdout",
          "text": [
            "5\n",
            "6\n",
            "7\n",
            "NO\n"
          ]
        }
      ]
    },
    {
      "cell_type": "code",
      "source": [
        "x = int(input())\n",
        "y = int(input())\n",
        "z = int(input())\n",
        "if (x ** 2 + y ** 2 == z ** 2) or (z ** 2 + y ** 2 == x ** 2) or (z ** 2 + x ** 2 == y ** 2):\n",
        "  print(\"YES\")\n",
        "else:\n",
        "  print(\"NO\")"
      ],
      "metadata": {
        "colab": {
          "base_uri": "https://localhost:8080/"
        },
        "id": "lb6iDFoezIRi",
        "outputId": "43501285-b750-4891-d828-0021d8ec6dd6"
      },
      "execution_count": null,
      "outputs": [
        {
          "output_type": "stream",
          "name": "stdout",
          "text": [
            "3\n",
            "4\n",
            "5\n",
            "YES\n"
          ]
        }
      ]
    },
    {
      "cell_type": "markdown",
      "source": [
        "14. EvenOdd is a tech startup. Each employee at the startup is given an employee id which is a unique\n",
        "positive integer. On one warm Sunday evening, five employees of the company come together for a\n",
        "meeting and sit at a circular table:\n",
        "The employees follow a strange convention. They will continue the meeting only if the following\n",
        "condition is satisfied.\n",
        "The sum of the employee-ids of every pair of adjacent employees at the table must be an even\n",
        "number.\n",
        "They are so lazy that they won’t move around to satisfy the above condition, If the current seating\n",
        "plan doesn’t satisfy the condition, the meeting will be cancelled. You are given the employee-id of all\n",
        "five employees. Your task is to decide if the meeting happened or not.\n",
        "The input will be five lined, each containing an integer. The ith line will have the employee-id of Ei.\n",
        "The output will be a single line containing one of these two strings: YES or NO"
      ],
      "metadata": {
        "id": "eqOEM88I3zWx"
      }
    },
    {
      "cell_type": "code",
      "source": [
        "e1 = int(input())\n",
        "e2 = int(input())\n",
        "e3 = int(input())\n",
        "e4 = int(input())\n",
        "e5 = int(input())\n",
        "if (e1+e2) %2 != 0:\n",
        "  print(\"NO\")\n",
        "elif (e2 + e3) % 2 != 0:\n",
        " print('NO')\n",
        "elif (e3 + e4) % 2 != 0:\n",
        " print('NO')\n",
        "elif (e4 + e5) % 2 != 0:\n",
        " print('NO')\n",
        "elif (e5 + e1) % 2 != 0:\n",
        " print('NO')\n",
        "# If the sum is even for every pair of adjacent employees,\n",
        "# then the else block gets executed\n",
        "else:\n",
        " print('YES')\n"
      ],
      "metadata": {
        "colab": {
          "base_uri": "https://localhost:8080/"
        },
        "id": "CHvH-31j3z1t",
        "outputId": "078dd71c-b3d2-48cb-c3d9-0506d1e39a92"
      },
      "execution_count": null,
      "outputs": [
        {
          "output_type": "stream",
          "name": "stdout",
          "text": [
            "1\n",
            "2\n",
            "3\n",
            "4\n",
            "5\n",
            "NO\n"
          ]
        }
      ]
    },
    {
      "cell_type": "markdown",
      "source": [
        "15. Accept a string as input and print the vowels present in the string in\n",
        "alphabetical order. If the string doesn’t contain any vowels, then\n",
        "print the string none as output. Each vowel that appears in the input\n",
        "string – irrespective of its case should appear just once in lower case\n",
        "in the output"
      ],
      "metadata": {
        "id": "LwW3xeSdzSZd"
      }
    },
    {
      "cell_type": "code",
      "source": [
        "string = str(input())\n"
      ],
      "metadata": {
        "id": "MztT-SRfzS_0"
      },
      "execution_count": null,
      "outputs": []
    },
    {
      "cell_type": "markdown",
      "source": [
        "16.You are given the date of birth of two persons, not necessarily from\n",
        "the same family. Your task is to find the younger of the two. If both\n",
        "of them share the same date of birth, then the younger of the two is\n",
        "assumed to be that person whose name comes first in alphabetical\n",
        "order.\n",
        "The input will have four lines. The first two lines correspond to the\n",
        "first person, while the last two lines correspond to the second\n",
        "person. For each person, the first line corresponds to the name and\n",
        "the second line corresponds to the date of birth in “DD-MM-YYYY”\n",
        "format. Your output should be the name of the younger of the two.\n"
      ],
      "metadata": {
        "id": "bph-eHwIzTld"
      }
    },
    {
      "cell_type": "code",
      "source": [
        "name1 = input()\n",
        "date1 = input(\"DOB in DD/MM/YYYY format\")\n",
        "name2 = input()\n",
        "date2 = input(\"DOB in DD/MM/YYYY format\")\n",
        "\n"
      ],
      "metadata": {
        "id": "p5lgHbbwzUKL"
      },
      "execution_count": null,
      "outputs": []
    },
    {
      "cell_type": "markdown",
      "source": [
        "#20/11/2022"
      ],
      "metadata": {
        "id": "htjGk3VDYi4d"
      }
    },
    {
      "cell_type": "code",
      "source": [
        "backlog = int(input())"
      ],
      "metadata": {
        "id": "vQMTutN9Yk1E"
      },
      "execution_count": null,
      "outputs": []
    },
    {
      "cell_type": "code",
      "source": [],
      "metadata": {
        "id": "NPIrW9Yqu5MC"
      },
      "execution_count": null,
      "outputs": []
    }
  ]
}