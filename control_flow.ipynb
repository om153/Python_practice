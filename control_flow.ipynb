{
  "nbformat": 4,
  "nbformat_minor": 0,
  "metadata": {
    "colab": {
      "provenance": [],
      "authorship_tag": "ABX9TyO6gaYuQODDGu8bNBj32APx",
      "include_colab_link": true
    },
    "kernelspec": {
      "name": "python3",
      "display_name": "Python 3"
    },
    "language_info": {
      "name": "python"
    }
  },
  "cells": [
    {
      "cell_type": "markdown",
      "metadata": {
        "id": "view-in-github",
        "colab_type": "text"
      },
      "source": [
        "<a href=\"https://colab.research.google.com/github/om153/Python_practice/blob/main/control_flow.ipynb\" target=\"_parent\"><img src=\"https://colab.research.google.com/assets/colab-badge.svg\" alt=\"Open In Colab\"/></a>"
      ]
    },
    {
      "cell_type": "code",
      "execution_count": null,
      "metadata": {
        "colab": {
          "base_uri": "https://localhost:8080/"
        },
        "id": "xFmMlKbTBgtT",
        "outputId": "22130f86-9265-4a79-d09a-e62a9d519858"
      },
      "outputs": [
        {
          "output_type": "stream",
          "name": "stdout",
          "text": [
            "Lets concentrate\n"
          ]
        }
      ],
      "source": [
        "class_started = True\n",
        "if class_started:\n",
        "  print(\"Lets concentrate\")\n",
        "else:\n",
        "  print(\"Lets revise the previous topics\")"
      ]
    },
    {
      "cell_type": "code",
      "source": [
        "class_started = False\n",
        "if class_started:\n",
        "  print(\"Lets concentrate\")\n",
        "else:\n",
        "  print(\"Lets revise the previous topics\")"
      ],
      "metadata": {
        "colab": {
          "base_uri": "https://localhost:8080/"
        },
        "id": "_34yC2a6CTbi",
        "outputId": "e91ea049-72bd-40cb-8ad7-ac5c77ce9772"
      },
      "execution_count": null,
      "outputs": [
        {
          "output_type": "stream",
          "name": "stdout",
          "text": [
            "Lets revise the previous topics\n"
          ]
        }
      ]
    },
    {
      "cell_type": "code",
      "source": [
        "I_have_a_car =False\n",
        "I_have_a_bike = False\n",
        "if I_have_a_car or I_have_a_bike:\n",
        "  print(\"I can travel 100kms in a day\")\n",
        "else:\n",
        "    print(\"You can't travel 100kms in a day\")\n",
        "    print(\"Because you neither have bike nor car\")"
      ],
      "metadata": {
        "colab": {
          "base_uri": "https://localhost:8080/"
        },
        "id": "967a6M9UKxB9",
        "outputId": "484f5fef-8a31-4e11-b2d1-53b21c028050"
      },
      "execution_count": null,
      "outputs": [
        {
          "output_type": "stream",
          "name": "stdout",
          "text": [
            "You can't travel 100kms in a day\n",
            "Because you neither have bike nor car\n"
          ]
        }
      ]
    },
    {
      "cell_type": "code",
      "source": [
        "I_have_a_car = bool(input(\"Do you have a car?:[0-False/1-True]\"))\n",
        "I_have_a_bike = bool(input(\"Do you have a bike?:[0-False/1-True]\"))\n",
        "if I_have_a_car or I_have_a_bike:\n",
        "  print(\"I can travel 100kms in a day\")\n",
        "else:\n",
        "    print(\"You can't travel 100kms in a day\")\n",
        "    print(\"Because you neither have bike nor car\")"
      ],
      "metadata": {
        "colab": {
          "base_uri": "https://localhost:8080/"
        },
        "id": "pxHW_5K-L8OX",
        "outputId": "e630312f-a3a3-4197-8a31-038a98a867ad"
      },
      "execution_count": null,
      "outputs": [
        {
          "output_type": "stream",
          "name": "stdout",
          "text": [
            "Do you have a car?:[0-False/1-True]1\n",
            "Do you have a bike?:[0-False/1-True]0\n",
            "I can travel 100kms in a day\n"
          ]
        }
      ]
    }
  ]
}