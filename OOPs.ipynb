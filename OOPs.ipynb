{
  "nbformat": 4,
  "nbformat_minor": 0,
  "metadata": {
    "colab": {
      "provenance": [],
      "authorship_tag": "ABX9TyM8CXVjskVeltA5hsCvPmEB",
      "include_colab_link": true
    },
    "kernelspec": {
      "name": "python3",
      "display_name": "Python 3"
    },
    "language_info": {
      "name": "python"
    }
  },
  "cells": [
    {
      "cell_type": "markdown",
      "metadata": {
        "id": "view-in-github",
        "colab_type": "text"
      },
      "source": [
        "<a href=\"https://colab.research.google.com/github/om153/Python_practice/blob/main/OOPs.ipynb\" target=\"_parent\"><img src=\"https://colab.research.google.com/assets/colab-badge.svg\" alt=\"Open In Colab\"/></a>"
      ]
    },
    {
      "cell_type": "markdown",
      "source": [
        "##Class"
      ],
      "metadata": {
        "id": "Gxtn4Z__uSN3"
      }
    },
    {
      "cell_type": "code",
      "execution_count": null,
      "metadata": {
        "id": "Rhjc2Iv7hFQm"
      },
      "outputs": [],
      "source": [
        "#class: is a blueprint or code template for object creation\n",
        "#object: object is instance of class"
      ]
    },
    {
      "cell_type": "code",
      "source": [
        "class emp:\n",
        "  pass"
      ],
      "metadata": {
        "id": "BtfBcq43wK3s"
      },
      "execution_count": null,
      "outputs": []
    },
    {
      "cell_type": "code",
      "source": [
        "e=emp()\n"
      ],
      "metadata": {
        "id": "f1j-sdTwyR_f"
      },
      "execution_count": null,
      "outputs": []
    },
    {
      "cell_type": "code",
      "source": [
        "print(type(e))"
      ],
      "metadata": {
        "colab": {
          "base_uri": "https://localhost:8080/"
        },
        "id": "0rxkdV8ryX1v",
        "outputId": "87a4147e-8ad8-4807-bee5-619068a5a6ea"
      },
      "execution_count": null,
      "outputs": [
        {
          "output_type": "stream",
          "name": "stdout",
          "text": [
            "<class '__main__.emp'>\n"
          ]
        }
      ]
    },
    {
      "cell_type": "code",
      "source": [
        "class Robot:\n",
        "  def introduce_self(self):\n",
        "      print(\"my name is \"+ self.name)"
      ],
      "metadata": {
        "id": "Q1kvwrVGya8x"
      },
      "execution_count": null,
      "outputs": []
    },
    {
      "cell_type": "code",
      "source": [
        "r1=Robot()"
      ],
      "metadata": {
        "id": "Ej95JsaX3xgf"
      },
      "execution_count": null,
      "outputs": []
    },
    {
      "cell_type": "code",
      "source": [
        "r1.name=\"abc\""
      ],
      "metadata": {
        "id": "_3ggJtI-4EAT"
      },
      "execution_count": null,
      "outputs": []
    },
    {
      "cell_type": "code",
      "source": [
        "r1.introduce_self()"
      ],
      "metadata": {
        "colab": {
          "base_uri": "https://localhost:8080/"
        },
        "id": "cfM4KeHQ4hu4",
        "outputId": "43f98b9f-fd9f-40f4-a5a9-00dff74454b3"
      },
      "execution_count": null,
      "outputs": [
        {
          "output_type": "stream",
          "name": "stdout",
          "text": [
            "my name is abc\n"
          ]
        }
      ]
    },
    {
      "cell_type": "code",
      "source": [
        "r2=Robot()"
      ],
      "metadata": {
        "id": "s3mlqHTq4mcp"
      },
      "execution_count": null,
      "outputs": []
    },
    {
      "cell_type": "code",
      "source": [
        "r2.name=\"xyz\""
      ],
      "metadata": {
        "id": "khav1JSf5bW3"
      },
      "execution_count": null,
      "outputs": []
    },
    {
      "cell_type": "code",
      "source": [
        "r2.introduce_self()"
      ],
      "metadata": {
        "colab": {
          "base_uri": "https://localhost:8080/"
        },
        "id": "1iV6WPaw5e9o",
        "outputId": "5f26b8b0-72d7-49cb-ce04-f3c14e0d1b18"
      },
      "execution_count": null,
      "outputs": [
        {
          "output_type": "stream",
          "name": "stdout",
          "text": [
            "my name is xyz\n"
          ]
        }
      ]
    },
    {
      "cell_type": "code",
      "source": [
        "r3=Robot()"
      ],
      "metadata": {
        "id": "C60MEHH55i9g"
      },
      "execution_count": null,
      "outputs": []
    },
    {
      "cell_type": "code",
      "source": [
        "r3.name=\"om\""
      ],
      "metadata": {
        "id": "moBzFG5ZKik8"
      },
      "execution_count": null,
      "outputs": []
    },
    {
      "cell_type": "code",
      "source": [
        "r3.introduce_self()"
      ],
      "metadata": {
        "colab": {
          "base_uri": "https://localhost:8080/"
        },
        "id": "kOICbxs6LLgz",
        "outputId": "1e78bbf4-fcad-4288-a969-3148057e33e4"
      },
      "execution_count": null,
      "outputs": [
        {
          "output_type": "stream",
          "name": "stdout",
          "text": [
            "my name is om\n"
          ]
        }
      ]
    },
    {
      "cell_type": "code",
      "source": [
        "class Robot:\n",
        "  def __init__(pointer,name,color,weight):\n",
        "    pointer.name=name\n",
        "    pointer.color=color\n",
        "    pointer.weight=weight\n",
        "\n",
        "  def introduce_self(pointer):\n",
        "    print(\"My name is \"+ pointer.name)"
      ],
      "metadata": {
        "id": "VYbUQwdSLQZ7"
      },
      "execution_count": null,
      "outputs": []
    },
    {
      "cell_type": "code",
      "source": [
        "r1=Robot(\"Om\",\"Black\",40)"
      ],
      "metadata": {
        "id": "LH1lhxf9Oz5K"
      },
      "execution_count": null,
      "outputs": []
    },
    {
      "cell_type": "code",
      "source": [
        "r1.color"
      ],
      "metadata": {
        "colab": {
          "base_uri": "https://localhost:8080/",
          "height": 36
        },
        "id": "HeXd5uJfO9Eg",
        "outputId": "00aa3564-30d0-4ac9-e778-0f6f894b82ad"
      },
      "execution_count": null,
      "outputs": [
        {
          "output_type": "execute_result",
          "data": {
            "text/plain": [
              "'Black'"
            ],
            "application/vnd.google.colaboratory.intrinsic+json": {
              "type": "string"
            }
          },
          "metadata": {},
          "execution_count": 17
        }
      ]
    },
    {
      "cell_type": "code",
      "source": [
        "r1.introduce_self()"
      ],
      "metadata": {
        "colab": {
          "base_uri": "https://localhost:8080/"
        },
        "id": "oFs47X8KPAES",
        "outputId": "a1e9732d-04f3-4bad-bfb1-4c44536b64fa"
      },
      "execution_count": null,
      "outputs": [
        {
          "output_type": "stream",
          "name": "stdout",
          "text": [
            "My name is Om\n"
          ]
        }
      ]
    },
    {
      "cell_type": "code",
      "source": [
        "class Person:\n",
        "  def __init__(self,name,gender,profession):\n",
        "     self.name=name\n",
        "     self.gender=gender\n",
        "     self.profession=profession\n",
        "  def intro(self):\n",
        "    print('Name:',self.name,\",\"'Gender:',self.gender,\",\"'Profession:',self.profession)\n",
        "\n",
        "  def work(self):\n",
        "    print(self.name,'is working as a',self.profession)"
      ],
      "metadata": {
        "id": "WY-AOlu_PNEg"
      },
      "execution_count": null,
      "outputs": []
    },
    {
      "cell_type": "code",
      "source": [
        "o1=Person(\"Om\",\"Male\",\"Mechatronics Engineer\")"
      ],
      "metadata": {
        "id": "K5fKwjHBRWy6"
      },
      "execution_count": null,
      "outputs": []
    },
    {
      "cell_type": "code",
      "source": [
        "o1.intro()"
      ],
      "metadata": {
        "colab": {
          "base_uri": "https://localhost:8080/"
        },
        "id": "DjrE17ABR2l_",
        "outputId": "18f29f12-58bc-4bc2-8138-c0a5f754b204"
      },
      "execution_count": null,
      "outputs": [
        {
          "output_type": "stream",
          "name": "stdout",
          "text": [
            "Name: Om ,Gender: Male ,Profession: Mechatronics Engineer\n"
          ]
        }
      ]
    },
    {
      "cell_type": "code",
      "source": [
        "o1.work()"
      ],
      "metadata": {
        "colab": {
          "base_uri": "https://localhost:8080/"
        },
        "id": "5tln8ThdR7bM",
        "outputId": "706e2050-f03b-4886-a62a-da92da5cb6c2"
      },
      "execution_count": null,
      "outputs": [
        {
          "output_type": "stream",
          "name": "stdout",
          "text": [
            "Om is working as a Mechatronics Engineer\n"
          ]
        }
      ]
    },
    {
      "cell_type": "code",
      "source": [
        "o2=Person(\"Prerana\",\"Female\",\"Data Scientist\")"
      ],
      "metadata": {
        "id": "yVQRPIT1Sio8"
      },
      "execution_count": null,
      "outputs": []
    },
    {
      "cell_type": "code",
      "source": [
        "o2.intro()"
      ],
      "metadata": {
        "colab": {
          "base_uri": "https://localhost:8080/"
        },
        "id": "6HXSl4bZTAWA",
        "outputId": "1a072fd2-3538-4d36-a1c1-004be8f444ce"
      },
      "execution_count": null,
      "outputs": [
        {
          "output_type": "stream",
          "name": "stdout",
          "text": [
            "Name: Prerana ,Gender: Female ,Profession: Data Scientist\n"
          ]
        }
      ]
    },
    {
      "cell_type": "code",
      "source": [
        "o2.work()"
      ],
      "metadata": {
        "colab": {
          "base_uri": "https://localhost:8080/"
        },
        "id": "qiRR6wrgTC3J",
        "outputId": "49591ea5-350a-41c8-f111-914d877ce1fc"
      },
      "execution_count": null,
      "outputs": [
        {
          "output_type": "stream",
          "name": "stdout",
          "text": [
            "Prerana is working as a Data Scientist\n"
          ]
        }
      ]
    },
    {
      "cell_type": "code",
      "source": [
        "o2.profession=\"Senior Data Scientist\" #updating"
      ],
      "metadata": {
        "id": "Jo3ULxUjTFz1"
      },
      "execution_count": null,
      "outputs": []
    },
    {
      "cell_type": "code",
      "source": [
        "o2.work()"
      ],
      "metadata": {
        "colab": {
          "base_uri": "https://localhost:8080/"
        },
        "id": "95I4S84GUYJo",
        "outputId": "f0ca3fe0-195d-4e0d-950e-8484483b0fa1"
      },
      "execution_count": null,
      "outputs": [
        {
          "output_type": "stream",
          "name": "stdout",
          "text": [
            "Prerana is working as a Senior Data Scientist\n"
          ]
        }
      ]
    },
    {
      "cell_type": "code",
      "source": [
        "class Circle:\n",
        "  def __init__(self, radius):\n",
        "     self.radius=radius\n",
        "  def area(self):\n",
        "    print(3.14*self.radius**2)\n",
        "  def circumference(self):\n",
        "    print(2*3.14*self.radius)"
      ],
      "metadata": {
        "id": "wchePxvBUa0J"
      },
      "execution_count": null,
      "outputs": []
    },
    {
      "cell_type": "code",
      "source": [
        "a=Circle(10)"
      ],
      "metadata": {
        "id": "ydnUni2DcNiE"
      },
      "execution_count": null,
      "outputs": []
    },
    {
      "cell_type": "code",
      "source": [
        "a.area()"
      ],
      "metadata": {
        "colab": {
          "base_uri": "https://localhost:8080/"
        },
        "id": "sQaaMB03chub",
        "outputId": "91ee28df-0f00-42b4-fe0c-641aa989aebd"
      },
      "execution_count": null,
      "outputs": [
        {
          "output_type": "stream",
          "name": "stdout",
          "text": [
            "314.0\n"
          ]
        }
      ]
    },
    {
      "cell_type": "code",
      "source": [
        "a.circumference()"
      ],
      "metadata": {
        "colab": {
          "base_uri": "https://localhost:8080/"
        },
        "id": "whMgVgJEcj_C",
        "outputId": "ee6c94d5-00a6-481e-ff44-575cbaf988a3"
      },
      "execution_count": null,
      "outputs": [
        {
          "output_type": "stream",
          "name": "stdout",
          "text": [
            "62.800000000000004\n"
          ]
        }
      ]
    },
    {
      "cell_type": "markdown",
      "source": [
        "1.Create class Bankaccount\n",
        "\n",
        ">\n",
        "\n",
        "\n",
        "2.Create constructor accountnumber,name,balance\n",
        "\n",
        ">\n",
        "\n",
        "\n",
        "3.deposit()\n",
        "\n",
        ">\n",
        "\n",
        "\n",
        "4.Withdrawal\n",
        "\n",
        ">\n",
        "\n",
        "\n",
        "5.Display account details\n",
        "\n",
        ">\n",
        "\n"
      ],
      "metadata": {
        "id": "-WkQT8XFaZr8"
      }
    },
    {
      "cell_type": "code",
      "source": [],
      "metadata": {
        "id": "f71t-8udaLzg"
      },
      "execution_count": null,
      "outputs": []
    },
    {
      "cell_type": "markdown",
      "source": [
        "####Class Examples"
      ],
      "metadata": {
        "id": "kFFX2oDiPqJH"
      }
    },
    {
      "cell_type": "markdown",
      "source": [
        "#####EX:1"
      ],
      "metadata": {
        "id": "ceyOqik_Vp8i"
      }
    },
    {
      "cell_type": "code",
      "source": [
        "class Car:\n",
        "  def __init__(a,m,y,ma,mo):\n",
        "    a.milage=m\n",
        "    a.year=y\n",
        "    a.make=ma\n",
        "    a.model=mo\n",
        "\n",
        "  def age(b,current_year):\n",
        "    print(\"Age of Car is\",current_year-b.year, \"years\")\n",
        "\n",
        "  def fuel_required(self,fuel_price,distance):\n",
        "      print(f\"Fuel required to cover {distance}km is {self.milage*fuel_price/distance} liters \")\n"
      ],
      "metadata": {
        "id": "gp9Fe3lsP2Oy"
      },
      "execution_count": null,
      "outputs": []
    },
    {
      "cell_type": "code",
      "source": [
        "i10=Car(19,2016,50,\"sportz\")"
      ],
      "metadata": {
        "id": "apwZJJapQ7aj"
      },
      "execution_count": null,
      "outputs": []
    },
    {
      "cell_type": "code",
      "source": [
        "i10.age(2023)"
      ],
      "metadata": {
        "colab": {
          "base_uri": "https://localhost:8080/"
        },
        "id": "k5IcMwADRfLK",
        "outputId": "6f6e4a92-fe23-4c15-d41c-c41d866ad518"
      },
      "execution_count": null,
      "outputs": [
        {
          "output_type": "stream",
          "name": "stdout",
          "text": [
            "Age of Car is 7 years\n"
          ]
        }
      ]
    },
    {
      "cell_type": "code",
      "source": [
        "i10.model"
      ],
      "metadata": {
        "colab": {
          "base_uri": "https://localhost:8080/",
          "height": 36
        },
        "id": "AGIZDwvNRnmS",
        "outputId": "87eaa7bc-4cca-4fff-90e7-dab280d4c330"
      },
      "execution_count": null,
      "outputs": [
        {
          "output_type": "execute_result",
          "data": {
            "text/plain": [
              "'sportz'"
            ],
            "application/vnd.google.colaboratory.intrinsic+json": {
              "type": "string"
            }
          },
          "metadata": {},
          "execution_count": 63
        }
      ]
    },
    {
      "cell_type": "code",
      "source": [
        "i10.milage"
      ],
      "metadata": {
        "colab": {
          "base_uri": "https://localhost:8080/"
        },
        "id": "6R5d-UoiR4pd",
        "outputId": "1dc157e9-6570-4714-f6db-242444ddc894"
      },
      "execution_count": null,
      "outputs": [
        {
          "output_type": "execute_result",
          "data": {
            "text/plain": [
              "19"
            ]
          },
          "metadata": {},
          "execution_count": 64
        }
      ]
    },
    {
      "cell_type": "code",
      "source": [
        "i10.fuel_required(106,100)"
      ],
      "metadata": {
        "colab": {
          "base_uri": "https://localhost:8080/"
        },
        "id": "K_Bqnd_KSiD1",
        "outputId": "401983b1-cb49-435a-9493-455ec2cf4807"
      },
      "execution_count": null,
      "outputs": [
        {
          "output_type": "stream",
          "name": "stdout",
          "text": [
            "Fuel required to cover 100km is 20.14 liters \n"
          ]
        }
      ]
    },
    {
      "cell_type": "markdown",
      "source": [
        "#####Ex:2"
      ],
      "metadata": {
        "id": "Ki0JN51qVsq2"
      }
    },
    {
      "cell_type": "code",
      "source": [
        "class Person:\n",
        "  def __init__(self,first_name,last_name,age):\n",
        "    self.first_name=first_name\n",
        "    self.last_name=last_name\n",
        "    self.age=age\n",
        "\n",
        "\n",
        "  def __str__(self):  #printing object\n",
        "     return \"This is the person class\""
      ],
      "metadata": {
        "id": "8gRIMYkkUsmA"
      },
      "execution_count": null,
      "outputs": []
    },
    {
      "cell_type": "code",
      "source": [
        "p=Person(\"Om\",\"Ekande\",22)"
      ],
      "metadata": {
        "id": "EMtLSinUXPr1"
      },
      "execution_count": null,
      "outputs": []
    },
    {
      "cell_type": "code",
      "source": [
        "print(p)"
      ],
      "metadata": {
        "colab": {
          "base_uri": "https://localhost:8080/"
        },
        "id": "-dDIi8JlXgxB",
        "outputId": "cc582d15-9b54-444d-e26a-5e90184e9e2e"
      },
      "execution_count": null,
      "outputs": [
        {
          "output_type": "stream",
          "name": "stdout",
          "text": [
            "This is the person class\n"
          ]
        }
      ]
    },
    {
      "cell_type": "markdown",
      "source": [
        "#####Ex:3"
      ],
      "metadata": {
        "id": "1yMTyTSmYVqn"
      }
    },
    {
      "cell_type": "code",
      "source": [
        "#parametized constructor\n",
        "class student:\n",
        "  def __init__(self,name,rollno,joining_date,current_topic):\n",
        "    self.name=name\n",
        "    self.rollno=rollno\n",
        "    self.joining_date=joining_date\n",
        "    self.current_topic=current_topic\n",
        "\n",
        "  def cur_topic(self):\n",
        "    print(\"Current topic discussed in class is \",self.current_topic)\n",
        "\n",
        "  def str_rollno(self):\n",
        "    try:\n",
        "      if type(self.rollno)==str:\n",
        "        print(\"do nothing\")\n",
        "      else:\n",
        "        return str(self.rollno)\n",
        "    except Exception as e:\n",
        "      print(\"This is my error message\",e)\n",
        "\n",
        "  def duration(self,current_date):\n",
        "     print(\"Duration of student in my class is \",current_date - self.joining_date,\"years\")\n",
        "  def __str__(self):\n",
        "    return \"This is a student class\""
      ],
      "metadata": {
        "id": "nTd-MhzJXkWF"
      },
      "execution_count": null,
      "outputs": []
    },
    {
      "cell_type": "code",
      "source": [
        "s1=student(\"Om\",14,2019,\"Data Science\")"
      ],
      "metadata": {
        "id": "OgPdg7iwalYQ"
      },
      "execution_count": null,
      "outputs": []
    },
    {
      "cell_type": "code",
      "source": [
        "print(s1)"
      ],
      "metadata": {
        "colab": {
          "base_uri": "https://localhost:8080/"
        },
        "id": "AkszkmnUa1BS",
        "outputId": "74e1889a-98d8-40df-9f9e-029c8585abe4"
      },
      "execution_count": null,
      "outputs": [
        {
          "output_type": "stream",
          "name": "stdout",
          "text": [
            "This is a student class\n"
          ]
        }
      ]
    },
    {
      "cell_type": "code",
      "source": [
        "s1.duration(2023)"
      ],
      "metadata": {
        "colab": {
          "base_uri": "https://localhost:8080/"
        },
        "id": "o1ytZTYKa8Gj",
        "outputId": "56c1a65c-1a18-4e87-b566-f0d4d8d8f83f"
      },
      "execution_count": null,
      "outputs": [
        {
          "output_type": "stream",
          "name": "stdout",
          "text": [
            "Duration of student in my class is  4 years\n"
          ]
        }
      ]
    },
    {
      "cell_type": "code",
      "source": [
        "s1.str_rollno()"
      ],
      "metadata": {
        "colab": {
          "base_uri": "https://localhost:8080/",
          "height": 36
        },
        "id": "mfnldt63bBpe",
        "outputId": "853fa9cc-313f-4b1d-deef-b29722583caa"
      },
      "execution_count": null,
      "outputs": [
        {
          "output_type": "execute_result",
          "data": {
            "text/plain": [
              "'14'"
            ],
            "application/vnd.google.colaboratory.intrinsic+json": {
              "type": "string"
            }
          },
          "metadata": {},
          "execution_count": 11
        }
      ]
    },
    {
      "cell_type": "code",
      "source": [
        "s1.cur_topic()"
      ],
      "metadata": {
        "colab": {
          "base_uri": "https://localhost:8080/"
        },
        "id": "qRgGXfNmbPjk",
        "outputId": "de586460-7b3f-4ed1-cb72-9f83a532a444"
      },
      "execution_count": null,
      "outputs": [
        {
          "output_type": "stream",
          "name": "stdout",
          "text": [
            "Current topic discussed in class is  Data Science\n"
          ]
        }
      ]
    },
    {
      "cell_type": "code",
      "source": [
        "s1.current_topic"
      ],
      "metadata": {
        "colab": {
          "base_uri": "https://localhost:8080/",
          "height": 36
        },
        "id": "r9UPoTWXbU-z",
        "outputId": "8bec6933-8405-416d-8bc5-115b3197c888"
      },
      "execution_count": null,
      "outputs": [
        {
          "output_type": "execute_result",
          "data": {
            "text/plain": [
              "'Data Science'"
            ],
            "application/vnd.google.colaboratory.intrinsic+json": {
              "type": "string"
            }
          },
          "metadata": {},
          "execution_count": 13
        }
      ]
    },
    {
      "cell_type": "markdown",
      "source": [
        "#####Ex:4"
      ],
      "metadata": {
        "id": "Aqz9TRjXAOrj"
      }
    },
    {
      "cell_type": "code",
      "source": [
        "#non-parametized constructor\n",
        "class company:\n",
        "  def __init__(self):\n",
        "    self.name=\"ineuron\"\n",
        "    self.address=\"Banglore\"\n",
        "\n",
        "  def show(self):\n",
        "     print(\"Name:\",self.name,\"Address:\")"
      ],
      "metadata": {
        "id": "WOFBPWuabyI-"
      },
      "execution_count": null,
      "outputs": []
    },
    {
      "cell_type": "code",
      "source": [
        "cmp=company()"
      ],
      "metadata": {
        "id": "MS-uAuhoA-jc"
      },
      "execution_count": null,
      "outputs": []
    },
    {
      "cell_type": "code",
      "source": [
        "cmp.show()"
      ],
      "metadata": {
        "colab": {
          "base_uri": "https://localhost:8080/"
        },
        "id": "Rym2QV_PBCic",
        "outputId": "6fd92718-7828-493a-ed2c-137ad6d48c16"
      },
      "execution_count": null,
      "outputs": [
        {
          "output_type": "stream",
          "name": "stdout",
          "text": [
            "Name: ineuron Address:\n"
          ]
        }
      ]
    },
    {
      "cell_type": "code",
      "source": [
        "#parametized means\n",
        "#class pub_mod:\n",
        "#  def __init__(self,name,age):\n"
      ],
      "metadata": {
        "id": "8mFV5V2FBFZJ"
      },
      "execution_count": null,
      "outputs": []
    },
    {
      "cell_type": "markdown",
      "source": [
        "###Encapsulation"
      ],
      "metadata": {
        "id": "2oi5rzpSCf5J"
      }
    },
    {
      "cell_type": "code",
      "source": [
        "class rectangle:\n",
        "  #__length = 0\n",
        "  #__breadth = 0\n",
        "  def __init__(self):\n",
        "    self.length=5\n",
        "    self.__breadth=3\n",
        "\n",
        "    print(self.length)\n",
        "    print(self.__breadth)"
      ],
      "metadata": {
        "id": "g8TkSmHxB26A"
      },
      "execution_count": null,
      "outputs": []
    },
    {
      "cell_type": "code",
      "source": [
        "r1=rectangle()\n"
      ],
      "metadata": {
        "colab": {
          "base_uri": "https://localhost:8080/"
        },
        "id": "hGwfFrIjDjMa",
        "outputId": "661a5b4d-85a5-4a46-e225-1904588bcbad"
      },
      "execution_count": null,
      "outputs": [
        {
          "output_type": "stream",
          "name": "stdout",
          "text": [
            "5\n",
            "3\n"
          ]
        }
      ]
    },
    {
      "cell_type": "code",
      "source": [
        "r1.length #this is accesible outside the class bcoz it is public"
      ],
      "metadata": {
        "colab": {
          "base_uri": "https://localhost:8080/"
        },
        "id": "S5whShZCDrcM",
        "outputId": "d819eb0e-6686-4f97-b8bf-b3e14be54a85"
      },
      "execution_count": null,
      "outputs": [
        {
          "output_type": "execute_result",
          "data": {
            "text/plain": [
              "5"
            ]
          },
          "metadata": {},
          "execution_count": 20
        }
      ]
    },
    {
      "cell_type": "code",
      "source": [
        "r1.breadth #not accesible bcoz its private i.e. \"__breadth\""
      ],
      "metadata": {
        "colab": {
          "base_uri": "https://localhost:8080/",
          "height": 165
        },
        "id": "ybKpsdD4DwMy",
        "outputId": "90ca198e-5d85-49b8-d0f2-def62198d0f6"
      },
      "execution_count": null,
      "outputs": [
        {
          "output_type": "error",
          "ename": "AttributeError",
          "evalue": "ignored",
          "traceback": [
            "\u001b[0;31m---------------------------------------------------------------------------\u001b[0m",
            "\u001b[0;31mAttributeError\u001b[0m                            Traceback (most recent call last)",
            "\u001b[0;32m<ipython-input-21-b67bfdc0851e>\u001b[0m in \u001b[0;36m<module>\u001b[0;34m\u001b[0m\n\u001b[0;32m----> 1\u001b[0;31m \u001b[0mr1\u001b[0m\u001b[0;34m.\u001b[0m\u001b[0mbreadth\u001b[0m\u001b[0;34m\u001b[0m\u001b[0;34m\u001b[0m\u001b[0m\n\u001b[0m",
            "\u001b[0;31mAttributeError\u001b[0m: 'rectangle' object has no attribute 'breadth'"
          ]
        }
      ]
    },
    {
      "cell_type": "markdown",
      "source": [
        "###Encapsulation Example"
      ],
      "metadata": {
        "id": "xLxPpDmkEWC3"
      }
    },
    {
      "cell_type": "code",
      "source": [
        "class test:\n",
        "  def __init__(self):\n",
        "    self.a=6\n",
        "    self._b=5\n",
        "    self.__c=8\n",
        "\n",
        "    print(\"Public:\",self.a,\"Protected:\",self._b,\"Private:\",self.__c)"
      ],
      "metadata": {
        "id": "6YpcVhgwEAWL"
      },
      "execution_count": null,
      "outputs": []
    },
    {
      "cell_type": "code",
      "source": [
        "t1=test()"
      ],
      "metadata": {
        "colab": {
          "base_uri": "https://localhost:8080/"
        },
        "id": "qIhwWs8kFKpB",
        "outputId": "4dc5c078-9f5e-4c0c-91b4-075ef5b106d9"
      },
      "execution_count": null,
      "outputs": [
        {
          "output_type": "stream",
          "name": "stdout",
          "text": [
            "Public: 6 Protected: 5 Private: 8\n"
          ]
        }
      ]
    },
    {
      "cell_type": "code",
      "source": [
        "t1.a #public"
      ],
      "metadata": {
        "colab": {
          "base_uri": "https://localhost:8080/"
        },
        "id": "2wkCqxKZFOYj",
        "outputId": "a7de23a2-ca57-42aa-ad9f-506ab96b8be6"
      },
      "execution_count": null,
      "outputs": [
        {
          "output_type": "execute_result",
          "data": {
            "text/plain": [
              "6"
            ]
          },
          "metadata": {},
          "execution_count": 24
        }
      ]
    },
    {
      "cell_type": "code",
      "source": [
        "t1.b #protected"
      ],
      "metadata": {
        "colab": {
          "base_uri": "https://localhost:8080/",
          "height": 165
        },
        "id": "2jnFkgIbFUY2",
        "outputId": "5cb0c36a-fe4f-4664-f9ae-c9f7bd9c94e7"
      },
      "execution_count": null,
      "outputs": [
        {
          "output_type": "error",
          "ename": "AttributeError",
          "evalue": "ignored",
          "traceback": [
            "\u001b[0;31m---------------------------------------------------------------------------\u001b[0m",
            "\u001b[0;31mAttributeError\u001b[0m                            Traceback (most recent call last)",
            "\u001b[0;32m<ipython-input-25-786c0d93a142>\u001b[0m in \u001b[0;36m<module>\u001b[0;34m\u001b[0m\n\u001b[0;32m----> 1\u001b[0;31m \u001b[0mt1\u001b[0m\u001b[0;34m.\u001b[0m\u001b[0mb\u001b[0m\u001b[0;34m\u001b[0m\u001b[0;34m\u001b[0m\u001b[0m\n\u001b[0m",
            "\u001b[0;31mAttributeError\u001b[0m: 'test' object has no attribute 'b'"
          ]
        }
      ]
    },
    {
      "cell_type": "code",
      "source": [
        "t1.c #private"
      ],
      "metadata": {
        "colab": {
          "base_uri": "https://localhost:8080/",
          "height": 165
        },
        "id": "CErSMLcQFYc0",
        "outputId": "a06a65d8-ea8f-479d-d7fc-852e12cd9972"
      },
      "execution_count": null,
      "outputs": [
        {
          "output_type": "error",
          "ename": "AttributeError",
          "evalue": "ignored",
          "traceback": [
            "\u001b[0;31m---------------------------------------------------------------------------\u001b[0m",
            "\u001b[0;31mAttributeError\u001b[0m                            Traceback (most recent call last)",
            "\u001b[0;32m<ipython-input-26-7a79852b97f8>\u001b[0m in \u001b[0;36m<module>\u001b[0;34m\u001b[0m\n\u001b[0;32m----> 1\u001b[0;31m \u001b[0mt1\u001b[0m\u001b[0;34m.\u001b[0m\u001b[0mc\u001b[0m\u001b[0;34m\u001b[0m\u001b[0;34m\u001b[0m\u001b[0m\n\u001b[0m",
            "\u001b[0;31mAttributeError\u001b[0m: 'test' object has no attribute 'c'"
          ]
        }
      ]
    },
    {
      "cell_type": "code",
      "source": [
        "#solution\n",
        "class test1:\n",
        "  def __init__(self):\n",
        "    self.a=6\n",
        "    self._b=5\n",
        "    self.__c=8\n",
        "\n",
        "    print(\"Public:\",self.a,\"Protected:\",self._b,\"Private:\",self.__c)\n",
        "\n",
        "#create another fuction to access private & protected outside the class\n",
        "  def show(self):\n",
        "    print(\"Protected:\",self._b,\"Private:\",self.__c)"
      ],
      "metadata": {
        "id": "RSA1CkEbFdKk"
      },
      "execution_count": null,
      "outputs": []
    },
    {
      "cell_type": "code",
      "source": [
        "t2=test1()"
      ],
      "metadata": {
        "colab": {
          "base_uri": "https://localhost:8080/"
        },
        "id": "RVPlrYiSF9IY",
        "outputId": "8338a564-022c-46c1-acf0-b9da03a3ba60"
      },
      "execution_count": null,
      "outputs": [
        {
          "output_type": "stream",
          "name": "stdout",
          "text": [
            "Public: 6 Protected: 5 Private: 8\n"
          ]
        }
      ]
    },
    {
      "cell_type": "code",
      "source": [
        "t2.show()"
      ],
      "metadata": {
        "colab": {
          "base_uri": "https://localhost:8080/"
        },
        "id": "sCiNgJCAGHPD",
        "outputId": "d1d7fdfa-5fb2-4eca-c523-97c355f8dc1b"
      },
      "execution_count": null,
      "outputs": [
        {
          "output_type": "stream",
          "name": "stdout",
          "text": [
            "Protected: 5 Private: 8\n"
          ]
        }
      ]
    },
    {
      "cell_type": "markdown",
      "source": [
        "#Inheritence"
      ],
      "metadata": {
        "id": "uvJdG-gqKToG"
      }
    },
    {
      "cell_type": "code",
      "source": [
        "class parent:\n",
        "  def func1(self):\n",
        "    print(\"Hello from parent class\")\n",
        "\n",
        "class child(parent):\n",
        "  def func2(self):\n",
        "    print(\"Hello child\")"
      ],
      "metadata": {
        "id": "-6LTwl_BGO4Y"
      },
      "execution_count": null,
      "outputs": []
    },
    {
      "cell_type": "code",
      "source": [
        "taste=child()"
      ],
      "metadata": {
        "id": "D6kWy9BdK6GP"
      },
      "execution_count": null,
      "outputs": []
    },
    {
      "cell_type": "code",
      "source": [
        "taste.func1()"
      ],
      "metadata": {
        "colab": {
          "base_uri": "https://localhost:8080/"
        },
        "id": "bhOB5Q6mLC-4",
        "outputId": "25474779-856e-4271-9ee0-1809cf724d5a"
      },
      "execution_count": null,
      "outputs": [
        {
          "output_type": "stream",
          "name": "stdout",
          "text": [
            "Hello from parent class\n"
          ]
        }
      ]
    },
    {
      "cell_type": "code",
      "source": [
        "taste.func2()"
      ],
      "metadata": {
        "colab": {
          "base_uri": "https://localhost:8080/"
        },
        "id": "T0T8xlQvLGuM",
        "outputId": "6644ba25-095f-42d7-8062-0ff155f534c3"
      },
      "execution_count": null,
      "outputs": [
        {
          "output_type": "stream",
          "name": "stdout",
          "text": [
            "Hello child\n"
          ]
        }
      ]
    },
    {
      "cell_type": "code",
      "source": [
        "#single inheritence\n",
        "class ineuron:\n",
        "  company_website= \"https://ineuron.ai\"\n",
        "  name='ineuron'\n",
        "\n",
        "  def contact_details(self):\n",
        "    print(\"Contact us at\",self.company_website)\n",
        "\n",
        "class Datascience(ineuron):\n",
        "\n",
        "  def __init__(self):\n",
        "    self.year_of_establishment=2018\n",
        "\n",
        "  def est_details(self):\n",
        "    print(\"est details\",self.name,self.year_of_establishment)"
      ],
      "metadata": {
        "id": "KCia3IiuLKBr"
      },
      "execution_count": null,
      "outputs": []
    },
    {
      "cell_type": "code",
      "source": [
        "ds=Datascience()"
      ],
      "metadata": {
        "id": "kV5zT54EMbkV"
      },
      "execution_count": null,
      "outputs": []
    },
    {
      "cell_type": "code",
      "source": [
        "ds.contact_details()"
      ],
      "metadata": {
        "colab": {
          "base_uri": "https://localhost:8080/"
        },
        "id": "3z-6dMYrMqGv",
        "outputId": "73dac042-a3e7-436b-8f71-d219ed9dade8"
      },
      "execution_count": null,
      "outputs": [
        {
          "output_type": "stream",
          "name": "stdout",
          "text": [
            "Contact us at https://ineuron.ai\n"
          ]
        }
      ]
    },
    {
      "cell_type": "code",
      "source": [
        "ds.year_of_establishment"
      ],
      "metadata": {
        "colab": {
          "base_uri": "https://localhost:8080/"
        },
        "id": "ZTzNLdWAMtnv",
        "outputId": "1e09c520-649a-47cf-b64e-159e6425b7d9"
      },
      "execution_count": null,
      "outputs": [
        {
          "output_type": "execute_result",
          "data": {
            "text/plain": [
              "2018"
            ]
          },
          "metadata": {},
          "execution_count": 46
        }
      ]
    },
    {
      "cell_type": "code",
      "source": [
        "ds.est_details()"
      ],
      "metadata": {
        "colab": {
          "base_uri": "https://localhost:8080/"
        },
        "id": "wNyWwdETMyU_",
        "outputId": "799384a6-7a14-4aec-c18d-a532f041c0b2"
      },
      "execution_count": null,
      "outputs": [
        {
          "output_type": "stream",
          "name": "stdout",
          "text": [
            "est details ineuron 2018\n"
          ]
        }
      ]
    },
    {
      "cell_type": "code",
      "source": [
        "#multiple inheritence\n",
        "class parent1:\n",
        "  def func1(self):\n",
        "    print(\"Hello from parent1\")\n",
        "\n",
        "class parent2:\n",
        "  def func2(self):\n",
        "    print(\"Hello from parent2\")\n",
        "\n",
        "class child(parent1,parent2):\n",
        "  def func3(self):\n",
        "    print(\"Hello Child\")"
      ],
      "metadata": {
        "id": "qpAEtR6fM12M"
      },
      "execution_count": null,
      "outputs": []
    },
    {
      "cell_type": "code",
      "source": [
        "testi=child()"
      ],
      "metadata": {
        "id": "65mESM2eX7EJ"
      },
      "execution_count": null,
      "outputs": []
    },
    {
      "cell_type": "code",
      "source": [
        "testi.func1()"
      ],
      "metadata": {
        "colab": {
          "base_uri": "https://localhost:8080/"
        },
        "id": "GiQNmIDZYAjp",
        "outputId": "94ffecc4-17c5-43c0-eee7-80348bf3740e"
      },
      "execution_count": null,
      "outputs": [
        {
          "output_type": "stream",
          "name": "stdout",
          "text": [
            "Hello from parent1\n"
          ]
        }
      ]
    },
    {
      "cell_type": "code",
      "source": [
        "testi.func2()"
      ],
      "metadata": {
        "colab": {
          "base_uri": "https://localhost:8080/"
        },
        "id": "FARWnjH_YHHM",
        "outputId": "596a1cba-1e3d-47df-80cf-71191607c2a5"
      },
      "execution_count": null,
      "outputs": [
        {
          "output_type": "stream",
          "name": "stdout",
          "text": [
            "Hello from parent2\n"
          ]
        }
      ]
    },
    {
      "cell_type": "code",
      "source": [
        "#Multiple Inheritence\n",
        "class batch_number: #parent class-1\n",
        "  batchnumber=\"1\"\n",
        "  def __init__(self,a,b,c):\n",
        "    self.a=a\n",
        "    self.b=b\n",
        "    self.c=c\n",
        "  def batch(self):\n",
        "    print(self.batchnumber)\n",
        "\n",
        "class course_name: #parent class-2\n",
        "  cname=\"fsds\"\n",
        "  def course(self):\n",
        "    print(self.cname)\n",
        "\n",
        "class student(batch_number,course_name):\n",
        "  def show(self):\n",
        "    print(\"Batch:\",self.batchnumber)\n",
        "    print(\"Course:\",self.cname)"
      ],
      "metadata": {
        "id": "OwaWpzIlYKPk"
      },
      "execution_count": null,
      "outputs": []
    },
    {
      "cell_type": "code",
      "source": [
        "s1=student(1,2,3)"
      ],
      "metadata": {
        "id": "csvYYIy9aHgD"
      },
      "execution_count": null,
      "outputs": []
    },
    {
      "cell_type": "code",
      "source": [
        "s1.batchnumber"
      ],
      "metadata": {
        "colab": {
          "base_uri": "https://localhost:8080/",
          "height": 36
        },
        "id": "hjjlbjW5aUUP",
        "outputId": "875fe959-1abf-4768-8574-f10677de4e5f"
      },
      "execution_count": null,
      "outputs": [
        {
          "output_type": "execute_result",
          "data": {
            "text/plain": [
              "'1'"
            ],
            "application/vnd.google.colaboratory.intrinsic+json": {
              "type": "string"
            }
          },
          "metadata": {},
          "execution_count": 13
        }
      ]
    },
    {
      "cell_type": "code",
      "source": [
        "s1.cname"
      ],
      "metadata": {
        "colab": {
          "base_uri": "https://localhost:8080/",
          "height": 36
        },
        "id": "Q8FX2Z2-akxk",
        "outputId": "baa30e9a-3b80-42e9-9fc3-1d7caa52cd36"
      },
      "execution_count": null,
      "outputs": [
        {
          "output_type": "execute_result",
          "data": {
            "text/plain": [
              "'fsds'"
            ],
            "application/vnd.google.colaboratory.intrinsic+json": {
              "type": "string"
            }
          },
          "metadata": {},
          "execution_count": 14
        }
      ]
    },
    {
      "cell_type": "code",
      "source": [
        "s1.course()"
      ],
      "metadata": {
        "colab": {
          "base_uri": "https://localhost:8080/"
        },
        "id": "s3qhKtrWaxqa",
        "outputId": "f2c1284a-a643-40fb-91fb-1be5b6aa611e"
      },
      "execution_count": null,
      "outputs": [
        {
          "output_type": "stream",
          "name": "stdout",
          "text": [
            "fsds\n"
          ]
        }
      ]
    },
    {
      "cell_type": "code",
      "source": [
        "s1.show()"
      ],
      "metadata": {
        "colab": {
          "base_uri": "https://localhost:8080/"
        },
        "id": "-Fd_2mGGbA4C",
        "outputId": "b56510ab-5d62-4e7e-d265-b86453f42507"
      },
      "execution_count": null,
      "outputs": [
        {
          "output_type": "stream",
          "name": "stdout",
          "text": [
            "Batch: 1\n",
            "Course: fsds\n"
          ]
        }
      ]
    },
    {
      "cell_type": "markdown",
      "source": [
        "####EX: Create multiple inheritence\n",
        "\n",
        "> Parent 1-person\n",
        "\n",
        "> Parent 2-company\n",
        "\n",
        "> Parent 3-employee\n",
        "\n",
        "\n",
        "\n",
        "\n",
        "\n"
      ],
      "metadata": {
        "id": "Ojb3RbORbPla"
      }
    },
    {
      "cell_type": "code",
      "source": [
        "\n",
        "\n",
        "\n",
        "\n",
        "\n",
        "\n",
        "\n"
      ],
      "metadata": {
        "id": "zUAKS5M2bGYc"
      },
      "execution_count": null,
      "outputs": []
    },
    {
      "cell_type": "markdown",
      "source": [
        "#####Multiple Inheritence"
      ],
      "metadata": {
        "id": "K882YTl0bqgw"
      }
    },
    {
      "cell_type": "code",
      "source": [
        "class test1: #parent class\n",
        "  def a(self):\n",
        "    print(\"inside test1......\")\n",
        "\n",
        "class test2(test1):  #child class 1\n",
        "  def b(self):\n",
        "    print(\"inside test2.......\")\n",
        "\n",
        "class test3(test2): #child class 2\n",
        "  def c(self):\n",
        "    print(\"inside test3.....\")\n",
        ""
      ],
      "metadata": {
        "id": "wR0vn3_hbu9w"
      },
      "execution_count": null,
      "outputs": []
    },
    {
      "cell_type": "code",
      "source": [
        "t1=test3()"
      ],
      "metadata": {
        "id": "BfLXdTIRdpcL"
      },
      "execution_count": null,
      "outputs": []
    },
    {
      "cell_type": "code",
      "source": [
        "t1.a()"
      ],
      "metadata": {
        "colab": {
          "base_uri": "https://localhost:8080/"
        },
        "id": "MPu8uQDhduyd",
        "outputId": "01b52d17-a317-4b6e-a24a-82bbdb40f465"
      },
      "execution_count": null,
      "outputs": [
        {
          "output_type": "stream",
          "name": "stdout",
          "text": [
            "inside test1......\n"
          ]
        }
      ]
    },
    {
      "cell_type": "code",
      "source": [
        "t1.b()"
      ],
      "metadata": {
        "colab": {
          "base_uri": "https://localhost:8080/"
        },
        "id": "GB_NqQvZdxfd",
        "outputId": "2e37efbe-d422-4c56-e723-b9ea8706f731"
      },
      "execution_count": null,
      "outputs": [
        {
          "output_type": "stream",
          "name": "stdout",
          "text": [
            "inside test2.......\n"
          ]
        }
      ]
    },
    {
      "cell_type": "markdown",
      "source": [
        "Ex:"
      ],
      "metadata": {
        "id": "m624Kv0heMRH"
      }
    },
    {
      "cell_type": "code",
      "source": [
        "class vehicle:\n",
        "  def info(self):\n",
        "    print(\"inside vehicle class\")\n",
        "\n",
        "class car(vehicle):\n",
        "  def car_info(self):\n",
        "    print(\"inside car class\")\n",
        "\n",
        "class sportscar(car):\n",
        "  def sportscar(self):\n",
        "    print(\"inside sports car\")"
      ],
      "metadata": {
        "id": "336mHs6td-iT"
      },
      "execution_count": null,
      "outputs": []
    },
    {
      "cell_type": "code",
      "source": [
        "s2=sportscar()"
      ],
      "metadata": {
        "id": "2axoGBN5eCSP"
      },
      "execution_count": null,
      "outputs": []
    },
    {
      "cell_type": "code",
      "source": [
        "s2.car_info()"
      ],
      "metadata": {
        "colab": {
          "base_uri": "https://localhost:8080/"
        },
        "id": "Acm0F7OyfRsF",
        "outputId": "b8f06d79-4762-4cc6-e55d-9e3efb14e590"
      },
      "execution_count": null,
      "outputs": [
        {
          "output_type": "stream",
          "name": "stdout",
          "text": [
            "inside car class\n"
          ]
        }
      ]
    },
    {
      "cell_type": "code",
      "source": [
        "s2.info()"
      ],
      "metadata": {
        "colab": {
          "base_uri": "https://localhost:8080/"
        },
        "id": "4Cjo-512fXVL",
        "outputId": "3a8b0bc8-5d90-4de6-b31d-150e013b6ccc"
      },
      "execution_count": null,
      "outputs": [
        {
          "output_type": "stream",
          "name": "stdout",
          "text": [
            "inside vehicle class\n"
          ]
        }
      ]
    },
    {
      "cell_type": "markdown",
      "source": [
        "Ex:"
      ],
      "metadata": {
        "id": "lUOqlhF3fi_h"
      }
    },
    {
      "cell_type": "code",
      "source": [
        "class phones:\n",
        "\n",
        "  def __init__(self,brand,model,price):\n",
        "    self.brand=brand\n",
        "    self.model=model\n",
        "    self.price=price\n",
        "\n",
        "  def specs(self):\n",
        "    return('Brand:',self.brand,'Price:',self.price)\n",
        "\n",
        "  def typeofphone(self):\n",
        "\n",
        "    if self.price < 20000:\n",
        "      return \"This is a budget phone\"\n",
        "\n",
        "    else:\n",
        "      return \"This is a mid-range phone\"\n",
        "\n",
        "class smartphone(phones):\n",
        "  def __init__(self,brand,model,price,ram,storage):\n",
        "    super().__init__(brand,model,price)\n",
        "    self.ram=ram\n",
        "    self.storage=storage\n",
        "\n",
        "class flashiphone(smartphone):\n",
        "  def __init__(self,brand,model,price,ram,storage,frontcamera,backcamera,display):\n",
        "    super().__init__(brand,model,price,ram,storage)\n",
        "    self.frontcamera=frontcamera\n",
        "    self.backcamera=backcamera\n",
        "    self.display=display\n"
      ],
      "metadata": {
        "id": "eGlITYIUffIR"
      },
      "execution_count": null,
      "outputs": []
    },
    {
      "cell_type": "code",
      "source": [
        "p1=flashiphone('RealMe','6i',14000,8,128,'Yes','Yes','Yes')"
      ],
      "metadata": {
        "id": "Vup1yjHaiiDK"
      },
      "execution_count": null,
      "outputs": []
    },
    {
      "cell_type": "code",
      "source": [
        "p1.specs()"
      ],
      "metadata": {
        "colab": {
          "base_uri": "https://localhost:8080/"
        },
        "id": "lpyk809ejGAR",
        "outputId": "329a9cc1-8abf-48e7-80bf-f6c93240abc6"
      },
      "execution_count": null,
      "outputs": [
        {
          "output_type": "execute_result",
          "data": {
            "text/plain": [
              "('Brand:', 'RealMe', 'Price:', 14000)"
            ]
          },
          "metadata": {},
          "execution_count": 37
        }
      ]
    },
    {
      "cell_type": "code",
      "source": [
        "p1.typeofphone()"
      ],
      "metadata": {
        "colab": {
          "base_uri": "https://localhost:8080/",
          "height": 36
        },
        "id": "7djBoulXjLId",
        "outputId": "5df7850d-d05c-45fe-a8f4-df555f41e264"
      },
      "execution_count": null,
      "outputs": [
        {
          "output_type": "execute_result",
          "data": {
            "text/plain": [
              "'This is a budget phone'"
            ],
            "application/vnd.google.colaboratory.intrinsic+json": {
              "type": "string"
            }
          },
          "metadata": {},
          "execution_count": 38
        }
      ]
    },
    {
      "cell_type": "code",
      "source": [
        "p1.ram"
      ],
      "metadata": {
        "colab": {
          "base_uri": "https://localhost:8080/"
        },
        "id": "jPd085dhjje3",
        "outputId": "cdc159ce-daeb-41d5-bdb6-6ec95a263541"
      },
      "execution_count": null,
      "outputs": [
        {
          "output_type": "execute_result",
          "data": {
            "text/plain": [
              "8"
            ]
          },
          "metadata": {},
          "execution_count": 39
        }
      ]
    },
    {
      "cell_type": "code",
      "source": [
        "p1.frontcamera"
      ],
      "metadata": {
        "colab": {
          "base_uri": "https://localhost:8080/",
          "height": 36
        },
        "id": "wjgfIKJXjmFP",
        "outputId": "7173d483-e60f-4cce-9b02-fa430958f121"
      },
      "execution_count": null,
      "outputs": [
        {
          "output_type": "execute_result",
          "data": {
            "text/plain": [
              "'Yes'"
            ],
            "application/vnd.google.colaboratory.intrinsic+json": {
              "type": "string"
            }
          },
          "metadata": {},
          "execution_count": 40
        }
      ]
    },
    {
      "cell_type": "markdown",
      "source": [
        "#####Multilevel Inheritence"
      ],
      "metadata": {
        "id": "svFA6Tp53HIZ"
      }
    },
    {
      "cell_type": "code",
      "source": [
        "#multi level Inheritence\n",
        "class test1:\n",
        "\n",
        "  def a(self):\n",
        "    print(\"Inside test1.....\")\n",
        "\n",
        "class test2(test1):\n",
        "\n",
        "  def b(self):\n",
        "    print(\"Inside test2.....\")\n",
        "\n",
        "class test3(test2):\n",
        "\n",
        "  def c(self):\n",
        "    print(\"Inside test3.....\")"
      ],
      "metadata": {
        "id": "lQHti8B03Okl"
      },
      "execution_count": null,
      "outputs": []
    },
    {
      "cell_type": "code",
      "source": [
        "t5=test3()"
      ],
      "metadata": {
        "id": "BB9fhjYj4Dgb"
      },
      "execution_count": null,
      "outputs": []
    },
    {
      "cell_type": "code",
      "source": [
        "t5.a()"
      ],
      "metadata": {
        "colab": {
          "base_uri": "https://localhost:8080/"
        },
        "id": "6pLxG5HD4DHZ",
        "outputId": "ce3a9bf4-fe00-4181-f55e-9df5a27f15cd"
      },
      "execution_count": null,
      "outputs": [
        {
          "output_type": "stream",
          "name": "stdout",
          "text": [
            "Inside test1.....\n"
          ]
        }
      ]
    },
    {
      "cell_type": "code",
      "source": [
        "t5.b()"
      ],
      "metadata": {
        "colab": {
          "base_uri": "https://localhost:8080/"
        },
        "id": "AAhLf9Tf4OcV",
        "outputId": "08d3193a-279a-45b8-d807-409efe952fe7"
      },
      "execution_count": null,
      "outputs": [
        {
          "output_type": "stream",
          "name": "stdout",
          "text": [
            "Inside test2.....\n"
          ]
        }
      ]
    },
    {
      "cell_type": "markdown",
      "source": [
        "Ex"
      ],
      "metadata": {
        "id": "_axU8Cgx4UGb"
      }
    },
    {
      "cell_type": "code",
      "source": [
        "class Vehicle:\n",
        "\n",
        "  def info(self):\n",
        "    print(\"Inside Vehicle class\")\n",
        "\n",
        "class Car(Vehicle):\n",
        "\n",
        "  def car_info(self):\n",
        "    print(\"Inside Car class\")\n",
        "\n",
        "class sportscar(Car):\n",
        "\n",
        "  def sportscar(self):\n",
        "    print(\"Inside sports car\")\n",
        "\n"
      ],
      "metadata": {
        "id": "vDeiWtuS4TvT"
      },
      "execution_count": null,
      "outputs": []
    },
    {
      "cell_type": "code",
      "source": [
        "c1=sportscar()"
      ],
      "metadata": {
        "id": "CuILVTr75dJC"
      },
      "execution_count": null,
      "outputs": []
    },
    {
      "cell_type": "code",
      "source": [
        "c1.car_info()"
      ],
      "metadata": {
        "colab": {
          "base_uri": "https://localhost:8080/"
        },
        "id": "Qv0svp-v5jrI",
        "outputId": "afa78701-1474-46c8-9417-c44101281226"
      },
      "execution_count": null,
      "outputs": [
        {
          "output_type": "stream",
          "name": "stdout",
          "text": [
            "Inside Car class\n"
          ]
        }
      ]
    },
    {
      "cell_type": "code",
      "source": [
        "c1.info()"
      ],
      "metadata": {
        "colab": {
          "base_uri": "https://localhost:8080/"
        },
        "id": "vVN0k_B65jWn",
        "outputId": "7fc108e0-911a-4acc-8673-703da9b97918"
      },
      "execution_count": null,
      "outputs": [
        {
          "output_type": "stream",
          "name": "stdout",
          "text": [
            "Inside Vehicle class\n"
          ]
        }
      ]
    },
    {
      "cell_type": "markdown",
      "source": [
        "Hierarchial Inheritance"
      ],
      "metadata": {
        "id": "fihG_GcvjsEs"
      }
    },
    {
      "cell_type": "code",
      "source": [
        "class vehicle:\n",
        "\n",
        "  def info(self):\n",
        "    print(\"This is vehicle\")\n",
        "\n",
        "class car(vehicle):\n",
        "\n",
        "  def car_info(self,name):\n",
        "    print(\"Car Name:\",name)\n",
        "\n",
        "class truck(vehicle):\n",
        "\n",
        "  def truck_info(self,name):\n",
        "    print(\"truck name:\",self.name)"
      ],
      "metadata": {
        "id": "0DxM3zktjqb3"
      },
      "execution_count": null,
      "outputs": []
    },
    {
      "cell_type": "code",
      "source": [
        "s3=car()"
      ],
      "metadata": {
        "id": "UPuyRlXmIIXX"
      },
      "execution_count": null,
      "outputs": []
    },
    {
      "cell_type": "code",
      "source": [
        "s3.info()"
      ],
      "metadata": {
        "colab": {
          "base_uri": "https://localhost:8080/"
        },
        "id": "7p0yEBTeILVg",
        "outputId": "67f401e9-2857-40d3-a206-7ea320b95cab"
      },
      "execution_count": null,
      "outputs": [
        {
          "output_type": "stream",
          "name": "stdout",
          "text": [
            "This is vehicle\n"
          ]
        }
      ]
    },
    {
      "cell_type": "code",
      "source": [
        "t3=truck()"
      ],
      "metadata": {
        "id": "hfmhqNJMIO9-"
      },
      "execution_count": null,
      "outputs": []
    },
    {
      "cell_type": "code",
      "source": [
        "t3.truck_info('name')"
      ],
      "metadata": {
        "id": "bN4PIBgiIcGC",
        "colab": {
          "base_uri": "https://localhost:8080/",
          "height": 252
        },
        "outputId": "6415d88a-8d84-4c6f-d8af-bdca5cfc1840"
      },
      "execution_count": null,
      "outputs": [
        {
          "output_type": "error",
          "ename": "AttributeError",
          "evalue": "ignored",
          "traceback": [
            "\u001b[0;31m---------------------------------------------------------------------------\u001b[0m",
            "\u001b[0;31mAttributeError\u001b[0m                            Traceback (most recent call last)",
            "\u001b[0;32m<ipython-input-17-231a469c2d52>\u001b[0m in \u001b[0;36m<module>\u001b[0;34m\u001b[0m\n\u001b[0;32m----> 1\u001b[0;31m \u001b[0mt3\u001b[0m\u001b[0;34m.\u001b[0m\u001b[0mtruck_info\u001b[0m\u001b[0;34m(\u001b[0m\u001b[0;34m'name'\u001b[0m\u001b[0;34m)\u001b[0m\u001b[0;34m\u001b[0m\u001b[0;34m\u001b[0m\u001b[0m\n\u001b[0m",
            "\u001b[0;32m<ipython-input-11-8b4bfbe0b57e>\u001b[0m in \u001b[0;36mtruck_info\u001b[0;34m(self, name)\u001b[0m\n\u001b[1;32m     12\u001b[0m \u001b[0;34m\u001b[0m\u001b[0m\n\u001b[1;32m     13\u001b[0m   \u001b[0;32mdef\u001b[0m \u001b[0mtruck_info\u001b[0m\u001b[0;34m(\u001b[0m\u001b[0mself\u001b[0m\u001b[0;34m,\u001b[0m\u001b[0mname\u001b[0m\u001b[0;34m)\u001b[0m\u001b[0;34m:\u001b[0m\u001b[0;34m\u001b[0m\u001b[0;34m\u001b[0m\u001b[0m\n\u001b[0;32m---> 14\u001b[0;31m     \u001b[0mprint\u001b[0m\u001b[0;34m(\u001b[0m\u001b[0;34m\"truck name:\"\u001b[0m\u001b[0;34m,\u001b[0m\u001b[0mself\u001b[0m\u001b[0;34m.\u001b[0m\u001b[0mname\u001b[0m\u001b[0;34m)\u001b[0m\u001b[0;34m\u001b[0m\u001b[0;34m\u001b[0m\u001b[0m\n\u001b[0m",
            "\u001b[0;31mAttributeError\u001b[0m: 'truck' object has no attribute 'name'"
          ]
        }
      ]
    },
    {
      "cell_type": "markdown",
      "source": [
        "Hybrid inheritence"
      ],
      "metadata": {
        "id": "ASMsLvxijjgw"
      }
    },
    {
      "cell_type": "code",
      "source": [
        "#Hybrid inheritence\n",
        "class VEhicle:\n",
        "\n",
        "  def info(self):\n",
        "    print(\"This is Vehicle\")\n",
        "\n",
        "class CAr(VEhicle):\n",
        "\n",
        "  def car_info(self,name):\n",
        "    print(\"Car name\",name)\n",
        "\n",
        "class Truck(VEhicle):\n",
        "\n",
        "  def truck_info(self,name):\n",
        "    print(\"Truck name\",name)\n",
        "\n",
        "class Sportscar(CAr,VEhicle):\n",
        "\n",
        "  def sportscar(self):\n",
        "    print(\"Inside from sports class\")\n"
      ],
      "metadata": {
        "id": "_SJdkX8mjYNr"
      },
      "execution_count": null,
      "outputs": []
    },
    {
      "cell_type": "code",
      "source": [
        "d1=Sportscar()"
      ],
      "metadata": {
        "id": "wVz_Z36Hli7V"
      },
      "execution_count": null,
      "outputs": []
    },
    {
      "cell_type": "code",
      "source": [
        "d1.info()"
      ],
      "metadata": {
        "colab": {
          "base_uri": "https://localhost:8080/"
        },
        "id": "wZl-ixfkloDj",
        "outputId": "cf66c229-29e9-4680-feef-4fd53c108624"
      },
      "execution_count": null,
      "outputs": [
        {
          "output_type": "stream",
          "name": "stdout",
          "text": [
            "This is Vehicle\n"
          ]
        }
      ]
    },
    {
      "cell_type": "code",
      "source": [
        "d1.car_info(\"i10\")"
      ],
      "metadata": {
        "colab": {
          "base_uri": "https://localhost:8080/"
        },
        "id": "nPmiYBoDly3b",
        "outputId": "6a371171-43c3-4b70-bfad-b8765b1bccae"
      },
      "execution_count": null,
      "outputs": [
        {
          "output_type": "stream",
          "name": "stdout",
          "text": [
            "Car name i10\n"
          ]
        }
      ]
    },
    {
      "cell_type": "code",
      "source": [
        "d1.sportscar()"
      ],
      "metadata": {
        "colab": {
          "base_uri": "https://localhost:8080/"
        },
        "id": "ON_S9hbkl2xj",
        "outputId": "34ca6bb2-401d-400c-a2b9-23d600f67bf8"
      },
      "execution_count": null,
      "outputs": [
        {
          "output_type": "stream",
          "name": "stdout",
          "text": [
            "Inside from sports class\n"
          ]
        }
      ]
    },
    {
      "cell_type": "markdown",
      "source": [
        "Ex"
      ],
      "metadata": {
        "id": "PBq-wrYRcb6v"
      }
    },
    {
      "cell_type": "code",
      "source": [
        "class Vehicles:  #parent class\n",
        "\n",
        "  def info(self):\n",
        "    print(\"This is vehicles\")\n",
        "\n",
        "class Cars(Vehicles):   #child 1\n",
        "\n",
        "  def car_info(self,name):\n",
        "    print(\"car name\",name)\n",
        "\n",
        "class trucks(Vehicles):  #child 2\n",
        "\n",
        "  def truck_info(self,name):\n",
        "    print(\"truck name\",name)\n",
        "\n",
        "class Sportcars(Cars,Vehicles): #child 3\n",
        "\n",
        "  def sportscars(self):\n",
        "    print(\"Inside sports class\")"
      ],
      "metadata": {
        "id": "4Bpg0z4dmL_4"
      },
      "execution_count": null,
      "outputs": []
    },
    {
      "cell_type": "code",
      "source": [
        "v1=Sportcars()"
      ],
      "metadata": {
        "id": "DKBnNduRds2a"
      },
      "execution_count": null,
      "outputs": []
    },
    {
      "cell_type": "code",
      "source": [
        "v1.car_info(\"Nios\")"
      ],
      "metadata": {
        "colab": {
          "base_uri": "https://localhost:8080/"
        },
        "id": "dDNBDhOxdyZl",
        "outputId": "ec92e7a6-b951-4197-9948-e25c1a8cf33f"
      },
      "execution_count": null,
      "outputs": [
        {
          "output_type": "stream",
          "name": "stdout",
          "text": [
            "car name Nios\n"
          ]
        }
      ]
    },
    {
      "cell_type": "code",
      "source": [
        "v1.info()"
      ],
      "metadata": {
        "colab": {
          "base_uri": "https://localhost:8080/"
        },
        "id": "HPpvu3jyd3c_",
        "outputId": "06dce0ed-51bf-4acd-df7e-56dd7a2d621a"
      },
      "execution_count": null,
      "outputs": [
        {
          "output_type": "stream",
          "name": "stdout",
          "text": [
            "This is vehicles\n"
          ]
        }
      ]
    },
    {
      "cell_type": "code",
      "source": [
        "v1.sportscars()"
      ],
      "metadata": {
        "colab": {
          "base_uri": "https://localhost:8080/"
        },
        "id": "IJ9reP9fd85h",
        "outputId": "66b88bd3-1a75-4b9d-9967-f9c21ef9578b"
      },
      "execution_count": null,
      "outputs": [
        {
          "output_type": "stream",
          "name": "stdout",
          "text": [
            "Inside sports class\n"
          ]
        }
      ]
    },
    {
      "cell_type": "markdown",
      "source": [
        "##Overriding\n",
        "\n"
      ],
      "metadata": {
        "id": "C_wTHdK5lR_7"
      }
    },
    {
      "cell_type": "code",
      "source": [
        "#overriding method\n",
        "#overriding is a situation where signature of the function means name & parameter will be same only defination will be changed\n",
        "\n",
        "class test5:\n",
        "\n",
        "  def test(self):\n",
        "    return \"This is my test method\"\n",
        "\n",
        "class test6:\n",
        "\n",
        "  def test(self):\n",
        "    return \"This is my meth from class test6 called test\"\n",
        "\n",
        "class test7(test5):\n",
        "\n",
        "  def test(self):\n",
        "    return \"This is my test from test7\""
      ],
      "metadata": {
        "id": "T9OdImspd_w-"
      },
      "execution_count": null,
      "outputs": []
    },
    {
      "cell_type": "code",
      "source": [
        "var_cltest7=test7()"
      ],
      "metadata": {
        "id": "e_Ex-4qYm1Xg"
      },
      "execution_count": null,
      "outputs": []
    },
    {
      "cell_type": "code",
      "source": [
        "var_cltest7.test()"
      ],
      "metadata": {
        "colab": {
          "base_uri": "https://localhost:8080/",
          "height": 36
        },
        "id": "CuYxzOhjm95M",
        "outputId": "516c94b3-a6d8-42a2-f9d8-49850402d17d"
      },
      "execution_count": null,
      "outputs": [
        {
          "output_type": "execute_result",
          "data": {
            "text/plain": [
              "'This is my test from test7'"
            ],
            "application/vnd.google.colaboratory.intrinsic+json": {
              "type": "string"
            }
          },
          "metadata": {},
          "execution_count": 3
        }
      ]
    },
    {
      "cell_type": "markdown",
      "source": [
        "##Overloading"
      ],
      "metadata": {
        "id": "BRRy-jCLn0Er"
      }
    },
    {
      "cell_type": "code",
      "source": [
        "#Overloading is a situation where number of argument and data type will be different\n",
        "\n",
        "class test8:\n",
        "\n",
        "  def test(self,c=5,b=4,d=3):\n",
        "\n",
        "\n",
        "\n",
        "   return c,b,d"
      ],
      "metadata": {
        "id": "MPA3gNI4nEzr"
      },
      "execution_count": null,
      "outputs": []
    },
    {
      "cell_type": "code",
      "source": [
        "var_test8=test8()"
      ],
      "metadata": {
        "id": "0mOm2yttohH_"
      },
      "execution_count": null,
      "outputs": []
    },
    {
      "cell_type": "code",
      "source": [
        "var_test8.test()"
      ],
      "metadata": {
        "colab": {
          "base_uri": "https://localhost:8080/"
        },
        "id": "-U9JMWzmovhw",
        "outputId": "f8b53ccc-9f4a-4d0a-bb71-88f2916cfa40"
      },
      "execution_count": null,
      "outputs": [
        {
          "output_type": "execute_result",
          "data": {
            "text/plain": [
              "(5, 4, 3)"
            ]
          },
          "metadata": {},
          "execution_count": 8
        }
      ]
    },
    {
      "cell_type": "code",
      "source": [
        "var_test8.test(\"OM\")"
      ],
      "metadata": {
        "colab": {
          "base_uri": "https://localhost:8080/"
        },
        "id": "f4KW1Ihyo1t4",
        "outputId": "eb04a335-5d44-4f20-db85-bfa698417e9e"
      },
      "execution_count": null,
      "outputs": [
        {
          "output_type": "execute_result",
          "data": {
            "text/plain": [
              "('OM', 4, 3)"
            ]
          },
          "metadata": {},
          "execution_count": 9
        }
      ]
    },
    {
      "cell_type": "code",
      "source": [
        "var_test8.test(\"Om\",\"Prerana\",\"Prarthana\")"
      ],
      "metadata": {
        "colab": {
          "base_uri": "https://localhost:8080/"
        },
        "id": "MeasPP1ro9Je",
        "outputId": "901c9804-9976-4aa6-996c-1c368f2f57f1"
      },
      "execution_count": null,
      "outputs": [
        {
          "output_type": "execute_result",
          "data": {
            "text/plain": [
              "('Om', 'Prerana', 'Prarthana')"
            ]
          },
          "metadata": {},
          "execution_count": 10
        }
      ]
    },
    {
      "cell_type": "code",
      "source": [
        "omekande153@gmail.com"
      ],
      "metadata": {
        "id": "DLkOduRDpIRQ"
      },
      "execution_count": null,
      "outputs": []
    }
  ]
}